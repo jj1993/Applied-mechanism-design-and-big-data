{
 "cells": [
  {
   "cell_type": "code",
   "execution_count": 49,
   "metadata": {
    "collapsed": false
   },
   "outputs": [
    {
     "data": {
      "text/latex": [
       "\n",
       "0.5s\n",
       "\n",
       "\\begin{align*}\n",
       "\\chi^2 &= \\sum_i (\\frac{S_i-P_r^i(x,y)}{\\sigma_i})^2\\\\\n",
       "P_r^i(x,y) &\\approx P_r^i(x_0,y_0)\n",
       "+\\frac{\\partial P_r^i(x_0,y_0)}{\\partial x}*(x-x_0)\n",
       "+\\frac{\\partial P_r^i(x_0,y_0)}{\\partial y}*(y-y_0)\\\\\n",
       "\\chi^2 &= \\sum_i (\\frac{S_i-P_r^i(x_0,y_0)\n",
       "-\\frac{\\partial P_r^i(x_0,y_0)}{\\partial x}*(x-x_0)\n",
       "-\\frac{\\partial P_r^i(x_0,y_0)}{\\partial y}*(y-y_0)}{\\sigma_i})^2\\\\\n",
       "\\alpha &= P_r^i(x_0,y_0) \\\\\n",
       "\\beta &= \\frac{\\partial P_r^i(x_0,y_0)}{\\partial x}\\\\\n",
       "\\gamma &= \\frac{\\partial P_r^i(x_0,y_0)}{\\partial y}\\\\\n",
       "\\end{align*}\n",
       "\n",
       "Now we put it all together\n",
       "\n",
       "\\begin{align*}\n",
       "\\chi^2 &= \\sum_i \\frac{1}{\\sigma_i^2}\n",
       "*(S_i^2 + \\alpha^2 + \\beta^2(x-x_0)^2 + \\gamma^2(y-y_0)^2 \n",
       "  - 2S_i\\alpha - 2S_i\\beta(x-x_0) - 2S_i\\gamma (y-y_0)\n",
       "  + 2\\alpha\\beta(x-x_0) - 2\\alpha\\gamma(y-y_0) + 2\\beta\\gamma(x-x_0)(y-y_0))\n",
       "\n",
       "\\end{align*}\n"
      ],
      "text/plain": [
       "<IPython.core.display.Latex object>"
      ]
     },
     "metadata": {},
     "output_type": "display_data"
    }
   ],
   "source": [
    "%%latex\n",
    "\n",
    "0.5s\n",
    "\n",
    "\\begin{align*}\n",
    "\\chi^2 &= \\sum_i (\\frac{S_i-P_r^i(x,y)}{\\sigma_i})^2\\\\\n",
    "P_r^i(x,y) &\\approx P_r^i(x_0,y_0)\n",
    "+\\frac{\\partial P_r^i(x_0,y_0)}{\\partial x}*(x-x_0)\n",
    "+\\frac{\\partial P_r^i(x_0,y_0)}{\\partial y}*(y-y_0)\\\\\n",
    "\\chi^2 &= \\sum_i (\\frac{S_i-P_r^i(x_0,y_0)\n",
    "-\\frac{\\partial P_r^i(x_0,y_0)}{\\partial x}*(x-x_0)\n",
    "-\\frac{\\partial P_r^i(x_0,y_0)}{\\partial y}*(y-y_0)}{\\sigma_i})^2\\\\\n",
    "\\alpha &= P_r^i(x_0,y_0) \\\\\n",
    "\\beta &= \\frac{\\partial P_r^i(x_0,y_0)}{\\partial x}\\\\\n",
    "\\gamma &= \\frac{\\partial P_r^i(x_0,y_0)}{\\partial y}\\\\\n",
    "\\end{align*}\n",
    "\n",
    "Now we put it all together\n",
    "\n",
    "\\begin{align*}\n",
    "\\chi^2 &= \\sum_i \\frac{1}{\\sigma_i^2}\n",
    "*(S_i^2 + \\alpha^2 + \\beta^2(x-x_0)^2 + \\gamma^2(y-y_0)^2 \n",
    "  - 2S_i\\alpha - 2S_i\\beta(x-x_0) - 2S_i\\gamma (y-y_0)\n",
    "  + 2\\alpha\\beta(x-x_0) - 2\\alpha\\gamma(y-y_0) + 2\\beta\\gamma(x-x_0)(y-y_0))\n",
    "\n",
    "\\end{align*}\n",
    "\n"
   ]
  },
  {
   "cell_type": "code",
   "execution_count": 48,
   "metadata": {
    "collapsed": false
   },
   "outputs": [
    {
     "data": {
      "text/latex": [
       "\n",
       "0.5t\n",
       "\n",
       "\\begin{align*}\n",
       "\\delta &= \\frac{\\partial^2 P_r^i(x_0,y_0)}{\\partial x^2}\\\\\n",
       "\\epsilon &= \\frac{\\partial^2 P_r^i(x_0,y_0)}{\\partial y^2}\\\\\n",
       "\\zeta &= \\frac{\\partial^2 P_r^i(x_0,y_0)}{\\partial xy}\\\\\n",
       "\n",
       "\\frac{\\partial \\chi^2}{\\partial x} &= 2\\sum_i \\frac{1}{\\sigma_i^2}\n",
       "*(\\beta + \\beta\\delta(x-x_0)^2 + \\beta^2(x-x_0)\n",
       " + \\gamma\\zeta(y-y_0)^2 - S_i\\beta - S_i\\delta(x-x_0) \n",
       "  - S_i\\beta - S_i\\zeta(y-y_0) + \\beta^2(x-x_0) + \\alpha\\delta(x-x_0) + \\alpha\\beta\n",
       " - \\beta\\gamma(y-y_0) - \\alpha\\zeta(y-y_0) + \\delta\\gamma(x-x_0)(y-y_0) \n",
       "  + \\beta\\zeta(x-x_0)(y-y_0) + \\beta\\gamma(y-y_0))\\\\\n",
       "&= 2\\sum_i \\frac{1}{\\sigma_i^2}*(S_i - P_r^i(x_0,y_0))*\n",
       "\\frac{\\partial P_r^i(x_0,y_0)}{\\partial x} \\text{(formula 4)}\\\\\n",
       "&= 2\\sum_i \\frac{1}{\\sigma_i^2}*(S_i - \\alpha)*\\beta\\\\\n",
       "&= 2\\sum_i \\frac{1}{\\sigma_i^2}*(S_i\\beta - \\alpha\\beta)\\\\\n",
       "&= 0\\\\\n",
       "\\end{align*}\n",
       "\n",
       "Leading us to\n",
       "\n",
       "\\begin{align*}\n",
       "\\beta + \\beta\\delta(x-x_0)^2 + \\beta^2(x-x_0)\n",
       " + \\gamma\\zeta(y-y_0) - S_i\\beta - S_i\\delta(x-x_0) \n",
       "- S_i\\beta - S_i\\zeta(y-y_0)^2 + \\beta^2(x-x_0) + \\alpha\\delta(x-x_0) + \\alpha\\beta\n",
       " - \\beta\\gamma(y-y_0) - \\alpha\\zeta(y-y_0) + \\delta\\gamma(x-x_0)(y-y_0) + \\beta\\zeta(x-x_0)(y-y_0) + \\beta\\gamma(y-y_0)\n",
       "= \\alpha\\beta - S_i\\beta\\\\\n",
       "\\beta + \\beta\\delta(x-x_0)^2 + \\beta^2(x-x_0)\n",
       " + \\gamma\\zeta(y-y_0)^2 - S_i\\delta(x-x_0) \n",
       "  - S_i\\beta - S_i\\zeta(y-y_0) + \\beta^2(x-x_0) + \\alpha\\delta(x-x_0) - \\beta\\gamma(y-y_0) - \\alpha\\zeta(y-y_0) + \\delta\\gamma(x-x_0)(y-y_0) \n",
       "  + \\beta\\zeta(x-x_0)(y-y_0) + \\beta\\gamma(y-y_0) = 0\n",
       "\\end{align*}"
      ],
      "text/plain": [
       "<IPython.core.display.Latex object>"
      ]
     },
     "metadata": {},
     "output_type": "display_data"
    }
   ],
   "source": [
    "%%latex\n",
    "\n",
    "0.5t\n",
    "\n",
    "\\begin{align*}\n",
    "\\delta &= \\frac{\\partial^2 P_r^i(x_0,y_0)}{\\partial x^2}\\\\\n",
    "\\epsilon &= \\frac{\\partial^2 P_r^i(x_0,y_0)}{\\partial y^2}\\\\\n",
    "\\zeta &= \\frac{\\partial^2 P_r^i(x_0,y_0)}{\\partial xy}\\\\\n",
    "\n",
    "\\frac{\\partial \\chi^2}{\\partial x} &= 2\\sum_i \\frac{1}{\\sigma_i^2}\n",
    "*(\\beta + \\beta\\delta(x-x_0)^2 + \\beta^2(x-x_0)\n",
    " + \\gamma\\zeta(y-y_0)^2 - S_i\\beta - S_i\\delta(x-x_0) \n",
    "  - S_i\\beta - S_i\\zeta(y-y_0) + \\beta^2(x-x_0) + \\alpha\\delta(x-x_0) + \\alpha\\beta\n",
    " - \\beta\\gamma(y-y_0) - \\alpha\\zeta(y-y_0) + \\delta\\gamma(x-x_0)(y-y_0) \n",
    "  + \\beta\\zeta(x-x_0)(y-y_0) + \\beta\\gamma(y-y_0))\\\\\n",
    "&= 2\\sum_i \\frac{1}{\\sigma_i^2}*(S_i - P_r^i(x_0,y_0))*\n",
    "\\frac{\\partial P_r^i(x_0,y_0)}{\\partial x} \\text{(formula 4)}\\\\\n",
    "&= 2\\sum_i \\frac{1}{\\sigma_i^2}*(S_i - \\alpha)*\\beta\\\\\n",
    "&= 2\\sum_i \\frac{1}{\\sigma_i^2}*(S_i\\beta - \\alpha\\beta)\\\\\n",
    "&= 0\\\\\n",
    "\\end{align*}\n",
    "\n",
    "Leading us to\n",
    "\n",
    "\\begin{align*}\n",
    "\\beta + \\beta\\delta(x-x_0)^2 + \\beta^2(x-x_0)\n",
    " + \\gamma\\zeta(y-y_0) - S_i\\beta - S_i\\delta(x-x_0) \n",
    "- S_i\\beta - S_i\\zeta(y-y_0)^2 + \\beta^2(x-x_0) + \\alpha\\delta(x-x_0) + \\alpha\\beta\n",
    " - \\beta\\gamma(y-y_0) - \\alpha\\zeta(y-y_0) + \\delta\\gamma(x-x_0)(y-y_0) + \\beta\\zeta(x-x_0)(y-y_0) + \\beta\\gamma(y-y_0)\n",
    "= \\alpha\\beta - S_i\\beta\\\\\n",
    "\\beta + \\beta\\delta(x-x_0)^2 + \\beta^2(x-x_0)\n",
    " + \\gamma\\zeta(y-y_0)^2 - S_i\\delta(x-x_0) \n",
    "  - S_i\\beta - S_i\\zeta(y-y_0) + \\beta^2(x-x_0) + \\alpha\\delta(x-x_0) - \\beta\\gamma(y-y_0) - \\alpha\\zeta(y-y_0) + \\delta\\gamma(x-x_0)(y-y_0) \n",
    "  + \\beta\\zeta(x-x_0)(y-y_0) + \\beta\\gamma(y-y_0) = 0\n",
    "\\end{align*}"
   ]
  },
  {
   "cell_type": "code",
   "execution_count": 47,
   "metadata": {
    "collapsed": false
   },
   "outputs": [
    {
     "data": {
      "text/latex": [
       "\n",
       "0.5t\n",
       "\n",
       "\\begin{align*}\n",
       "\\frac{\\partial \\chi^2}{\\partial x} &= 2\\sum_i \\frac{1}{\\sigma_i^2}*(S_i - P_r^i(x_0,y_0))*\n",
       "\\frac{\\partial P_r^i(x_0,y_0)}{\\partial x} \\text{(formula 4)}\\\\\n",
       "&= 2\\sum_i \\frac{1}{\\sigma_i^2}*(S_i - \\alpha)*\\beta\\\\\n",
       "&= 2\\sum_i \\frac{1}{\\sigma_i^2}*(S_i\\beta - \\alpha\\beta)\\\\\n",
       "&= 0\\\\\n",
       "\n",
       "\\chi^2 &= 2\\sum_i \\frac{1}{\\sigma_i^2}\n",
       "\\end{align*}"
      ],
      "text/plain": [
       "<IPython.core.display.Latex object>"
      ]
     },
     "metadata": {},
     "output_type": "display_data"
    }
   ],
   "source": [
    "%%latex\n",
    "\n",
    "0.5t\n",
    "\n",
    "\\begin{align*}\n",
    "\\frac{\\partial \\chi^2}{\\partial x} &= 2\\sum_i \\frac{1}{\\sigma_i^2}*(S_i - P_r^i(x_0,y_0))*\n",
    "\\frac{\\partial P_r^i(x_0,y_0)}{\\partial x} \\text{(formula 4)}\\\\\n",
    "&= 2\\sum_i \\frac{1}{\\sigma_i^2}*(S_i - \\alpha)*\\beta\\\\\n",
    "&= 2\\sum_i \\frac{1}{\\sigma_i^2}*(S_i\\beta - \\alpha\\beta)\\\\\n",
    "&= 0\\\\\n",
    "\n",
    "\\chi^2 &= 2\\sum_i \\frac{1}{\\sigma_i^2}\n",
    "\\end{align*}"
   ]
  },
  {
   "cell_type": "code",
   "execution_count": null,
   "metadata": {
    "collapsed": true
   },
   "outputs": [],
   "source": []
  }
 ],
 "metadata": {
  "anaconda-cloud": {},
  "kernelspec": {
   "display_name": "Python [Root]",
   "language": "python",
   "name": "Python [Root]"
  },
  "language_info": {
   "codemirror_mode": {
    "name": "ipython",
    "version": 3
   },
   "file_extension": ".py",
   "mimetype": "text/x-python",
   "name": "python",
   "nbconvert_exporter": "python",
   "pygments_lexer": "ipython3",
   "version": "3.5.2"
  }
 },
 "nbformat": 4,
 "nbformat_minor": 0
}
