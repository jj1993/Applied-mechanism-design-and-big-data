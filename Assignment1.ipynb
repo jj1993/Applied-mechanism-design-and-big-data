{
 "cells": [
  {
   "cell_type": "code",
   "execution_count": null,
   "metadata": {
    "collapsed": false
   },
   "outputs": [],
   "source": [
    "%matplotlib inline\n",
    "\n",
    "import matplotlib\n",
    "import numpy as np\n",
    "import matplotlib.pyplot as plt"
   ]
  },
  {
   "cell_type": "markdown",
   "metadata": {},
   "source": [
    "a) Make a plot of Pr as a function of r when Pt =0dBm ,for r ranging from 0.4 m to 30 m1. For which is a router more sensitive when it comes to the distance to a device, devices that are close or devices that are far away, and why?"
   ]
  },
  {
   "cell_type": "code",
   "execution_count": null,
   "metadata": {
    "collapsed": false
   },
   "outputs": [],
   "source": [
    "r = np.arange(0.4, 30, 0.1)\n",
    "P_t = 0\n",
    "c = 299792458\n",
    "f = 2.4\n",
    "P_r = P_t - 20 * np.log10(c / (4* np.pi* f* r))\n",
    "plt.plot(r, P_r)\n",
    "plt.show()"
   ]
  },
  {
   "cell_type": "markdown",
   "metadata": {},
   "source": [
    "b) Invert the Friis equation 1 to give the distance r as a function of Pr."
   ]
  },
  {
   "cell_type": "markdown",
   "metadata": {},
   "source": [
    "$$ P_r = P_t - 20 \\times log_{10}(\\frac{c}{4 \\pi f r}) \\\\\n",
    " \\frac{P_r - P_t}{-20} =log_{10}(\\frac{c}{4 \\pi f r}) \\\\\n",
    " \\frac{P_t - P_r}{20} =log_{10}(\\frac{c}{4 \\pi f r}) \\\\\n",
    "10^{\\frac{P_t - P_r}{20} }=\\frac{c}{4 \\pi f r} \\\\\n",
    "r \\times 10^{\\frac{P_t - P_r}{20} }=\\frac{c}{4 \\pi f} \\\\\n",
    "r = \\frac{c}{4 \\pi f \\times 10^{\\frac{P_t - P_r}{20} }} $$"
   ]
  },
  {
   "cell_type": "code",
   "execution_count": null,
   "metadata": {
    "collapsed": true
   },
   "outputs": [],
   "source": []
  }
 ],
 "metadata": {
  "kernelspec": {
   "display_name": "Python [Root]",
   "language": "python",
   "name": "Python [Root]"
  },
  "language_info": {
   "codemirror_mode": {
    "name": "ipython",
    "version": 3
   },
   "file_extension": ".py",
   "mimetype": "text/x-python",
   "name": "python",
   "nbconvert_exporter": "python",
   "pygments_lexer": "ipython3",
   "version": "3.5.2"
  }
 },
 "nbformat": 4,
 "nbformat_minor": 0
}
