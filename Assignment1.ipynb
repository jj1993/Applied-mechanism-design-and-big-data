{
 "cells": [
  {
   "cell_type": "code",
   "execution_count": 1,
   "metadata": {
    "collapsed": false
   },
   "outputs": [],
   "source": [
    "%matplotlib inline\n",
    "\n",
    "import matplotlib\n",
    "import numpy as np\n",
    "import matplotlib.pyplot as plt"
   ]
  },
  {
   "cell_type": "markdown",
   "metadata": {},
   "source": [
    "\n",
    "a) Make a plot of Pr as a function of r when Pt =0dBm ,for r ranging from 0.4 m to 30 m1. For which is a router more sensitive when it comes to the distance to a device, devices that are close or devices that are far away, and why?\\\\\n",
    "\n",
    "It is more sensitive to devices that are close, since the absolute derivative decreases when the distance increases. So the difference between the router and the device is less accurate determined over greater distance.\n"
   ]
  },
  {
   "cell_type": "code",
   "execution_count": 3,
   "metadata": {
    "collapsed": false
   },
   "outputs": [
    {
     "data": {
      "image/png": "[encoded data removed]",
      "text/plain": [
       "<matplotlib.figure.Figure at 0x633bcc4748>"
      ]
     },
     "metadata": {},
     "output_type": "display_data"
    }
   ],
   "source": [
    "r = np.arange(0.4, 30, 0.1)\n",
    "P_t = 0\n",
    "c = 299792458\n",
    "f = 2.4\n",
    "P_r = P_t - 20 * np.log10(c / (4* np.pi* f* r))\n",
    "plt.plot(r, P_r)\n",
    "plt.show()"
   ]
  },
  {
   "cell_type": "markdown",
   "metadata": {},
   "source": [
    "b) Invert the Friis equation 1 to give the distance r as a function of Pr."
   ]
  },
  {
   "cell_type": "markdown",
   "metadata": {},
   "source": [
    "$$ P_r = P_t - 20 \\times log_{10}(\\frac{c}{4 \\pi f r}) \\\\\n",
    " \\frac{P_r - P_t}{-20} =log_{10}(\\frac{c}{4 \\pi f r}) \\\\\n",
    " \\frac{P_t - P_r}{20} =log_{10}(\\frac{c}{4 \\pi f r}) \\\\\n",
    "10^{\\frac{P_t - P_r}{20} }=\\frac{c}{4 \\pi f r} \\\\\n",
    "r \\times 10^{\\frac{P_t - P_r}{20} }=\\frac{c}{4 \\pi f} \\\\\n",
    "r = \\frac{c}{4 \\pi f \\times 10^{\\frac{P_t - P_r}{20} }} $$"
   ]
  },
  {
   "cell_type": "code",
   "execution_count": null,
   "metadata": {
    "collapsed": true
   },
   "outputs": [],
   "source": []
  }
 ],
 "metadata": {
  "kernelspec": {
   "display_name": "Python 3",
   "language": "python",
   "name": "python3"
  },
  "language_info": {
   "codemirror_mode": {
    "name": "ipython",
    "version": 3
   },
   "file_extension": ".py",
   "mimetype": "text/x-python",
   "name": "python",
   "nbconvert_exporter": "python",
   "pygments_lexer": "ipython3",
   "version": "3.5.1"
  }
 },
 "nbformat": 4,
 "nbformat_minor": 0
}
