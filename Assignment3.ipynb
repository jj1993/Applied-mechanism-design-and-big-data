{
 "cells": [
  {
   "cell_type": "code",
   "execution_count": 50,
   "metadata": {
    "collapsed": false
   },
   "outputs": [
    {
     "data": {
      "text/latex": [
       "\n",
       "0.3e\n",
       "\n",
       "Because there is some noise in the measured signal intensity at the routers, and the noise measured at the three routers for the same signal will be different, the three routers will all measure a distance that is slighly different from the actual distance. Now if we look at the theoretical case of three circels with one intersection point and we change the radius of one of the circles a little bit, we see that the three circles now have no common intersection point and 6 points where two circles intersect.\n"
      ],
      "text/plain": [
       "<IPython.core.display.Latex object>"
      ]
     },
     "metadata": {},
     "output_type": "display_data"
    }
   ],
   "source": [
    "%%latex\n",
    "\n",
    "0.3e\n",
    "\n",
    "Because there is some noise in the measured signal intensity at the routers, and the noise measured at the three routers for the same signal will be different, the three routers will all measure a distance that is slighly different from the actual distance. Now if we look at the theoretical case of three circels with one intersection point and we change the radius of one of the circles a little bit, we see that the three circles now have no common intersection point and 6 points where two circles intersect.\n",
    "\n"
   ]
  },
  {
   "cell_type": "code",
   "execution_count": 51,
   "metadata": {
    "collapsed": false
   },
   "outputs": [
    {
     "data": {
      "text/latex": [
       "\n",
       "0.3f\n",
       "\n",
       "We start with Friss free space equation as given in equation (1)\n",
       "\n",
       "\\begin{align*}\n",
       "P_r &= P_t + 20*log^{10}(\\frac{c}{4\\pi fr})\\\\\n",
       "&= P_t + 20*(log^{10}(\\frac{c}{4\\pi f}) + log^{10}(\\frac{1}{r}))\\\\\n",
       "&= P_t + 20*(log^{10}(\\frac{c}{4\\pi f}) - log^{10}(r))\\\\\n",
       "&\\text{and (De Gua)}\\\\\n",
       "r &= \\sqrt{(x-x_i)^2 + (y-y_i)^2 + Z^2}\\\\\n",
       "&\\text{so we get}\\\\\n",
       "P_r &= P_t + 20*log^{10}(\\frac{c}{4\\pi f}) - 20*log^{10}(\\sqrt{(x-x_i)^2 + (y-y_i)^2 + Z^2})\\\\\n",
       " &= P_t + 20*log^{10}(\\frac{c}{4\\pi f}) - 10*log^{10}((x-x_i)^2 + (y-y_i)^2 + Z^2)\n",
       "\\end{align*}"
      ],
      "text/plain": [
       "<IPython.core.display.Latex object>"
      ]
     },
     "metadata": {},
     "output_type": "display_data"
    }
   ],
   "source": [
    "%%latex\n",
    "\n",
    "0.3f\n",
    "\n",
    "We start with Friss free space equation as given in equation (1)\n",
    "\n",
    "\\begin{align*}\n",
    "P_r &= P_t + 20*log^{10}(\\frac{c}{4\\pi fr})\\\\\n",
    "&= P_t + 20*(log^{10}(\\frac{c}{4\\pi f}) + log^{10}(\\frac{1}{r}))\\\\\n",
    "&= P_t + 20*(log^{10}(\\frac{c}{4\\pi f}) - log^{10}(r))\\\\\n",
    "&\\text{and (De Gua)}\\\\\n",
    "r &= \\sqrt{(x-x_i)^2 + (y-y_i)^2 + Z^2}\\\\\n",
    "&\\text{so we get}\\\\\n",
    "P_r &= P_t + 20*log^{10}(\\frac{c}{4\\pi f}) - 20*log^{10}(\\sqrt{(x-x_i)^2 + (y-y_i)^2 + Z^2})\\\\\n",
    " &= P_t + 20*log^{10}(\\frac{c}{4\\pi f}) - 10*log^{10}((x-x_i)^2 + (y-y_i)^2 + Z^2)\n",
    "\\end{align*}\n"
   ]
  },
  {
   "cell_type": "code",
   "execution_count": null,
   "metadata": {
    "collapsed": true
   },
   "outputs": [],
   "source": []
  },
  {
   "cell_type": "code",
   "execution_count": null,
   "metadata": {
    "collapsed": true
   },
   "outputs": [],
   "source": []
  }
 ],
 "metadata": {
  "kernelspec": {
   "display_name": "Python [Root]",
   "language": "python",
   "name": "Python [Root]"
  },
  "language_info": {
   "codemirror_mode": {
    "name": "ipython",
    "version": 3
   },
   "file_extension": ".py",
   "mimetype": "text/x-python",
   "name": "python",
   "nbconvert_exporter": "python",
   "pygments_lexer": "ipython3",
   "version": "3.5.2"
  }
 },
 "nbformat": 4,
 "nbformat_minor": 0
}
