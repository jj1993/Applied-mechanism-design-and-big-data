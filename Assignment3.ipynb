{
 "cells": [
  {
   "cell_type": "markdown",
   "metadata": {
    "collapsed": false
   },
   "source": [
    "0.3e\n",
    "\n",
    "Because there is some noise in the measured signal intensity at the routers, and the noise measured at the three routers for the same signal will be different, the three routers will all measure a distance that is slighly different from the actual distance. Now if we look at the theoretical case of three circels with one intersection point and we change the radius of one of the circles a little bit, we see that the three circles now have no common intersection point and 6 points where two circles intersect.\n",
    "\n",
    "<img src=\"intersection.png\">"
   ]
  },
  {
   "cell_type": "code",
   "execution_count": 2,
   "metadata": {
    "collapsed": false
   },
   "outputs": [
    {
     "data": {
      "text/latex": [
       "\n",
       "0.3f\n",
       "\n",
       "We start with Friss free space equation as given in equation (1)\n",
       "\n",
       "\\begin{align*}\n",
       "P_r &= P_t + 20*log^{10}(\\frac{c}{4\\pi fr})\\\\\n",
       "&= P_t + 20*(log^{10}(\\frac{c}{4\\pi f}) + log^{10}(\\frac{1}{r}))\\\\\n",
       "&= P_t + 20*(log^{10}(\\frac{c}{4\\pi f}) - log^{10}(r))\\\\\n",
       "&\\text{and (De Gua)}\\\\\n",
       "r &= \\sqrt{(x-x_i)^2 + (y-y_i)^2 + Z^2}\\\\\n",
       "&\\text{so we get}\\\\\n",
       "P_r &= P_t + 20*log^{10}(\\frac{c}{4\\pi f}) - 20*log^{10}(\\sqrt{(x-x_i)^2 + (y-y_i)^2 + Z^2})\\\\\n",
       " &= P_t + 20*log^{10}(\\frac{c}{4\\pi f}) - 10*log^{10}((x-x_i)^2 + (y-y_i)^2 + Z^2)\n",
       "\\end{align*}"
      ],
      "text/plain": [
       "<IPython.core.display.Latex object>"
      ]
     },
     "metadata": {},
     "output_type": "display_data"
    }
   ],
   "source": [
    "%%latex\n",
    "\n",
    "0.3f\n",
    "\n",
    "We start with Friss free space equation as given in equation (1)\n",
    "\n",
    "\\begin{align*}\n",
    "P_r &= P_t + 20*log^{10}(\\frac{c}{4\\pi fr})\\\\\n",
    "&= P_t + 20*(log^{10}(\\frac{c}{4\\pi f}) + log^{10}(\\frac{1}{r}))\\\\\n",
    "&= P_t + 20*(log^{10}(\\frac{c}{4\\pi f}) - log^{10}(r))\\\\\n",
    "&\\text{and (De Gua)}\\\\\n",
    "r &= \\sqrt{(x-x_i)^2 + (y-y_i)^2 + Z^2}\\\\\n",
    "&\\text{so we get}\\\\\n",
    "P_r &= P_t + 20*log^{10}(\\frac{c}{4\\pi f}) - 20*log^{10}(\\sqrt{(x-x_i)^2 + (y-y_i)^2 + Z^2})\\\\\n",
    " &= P_t + 20*log^{10}(\\frac{c}{4\\pi f}) - 10*log^{10}((x-x_i)^2 + (y-y_i)^2 + Z^2)\n",
    "\\end{align*}\n"
   ]
  },
  {
   "cell_type": "code",
   "execution_count": 10,
   "metadata": {
    "collapsed": false
   },
   "outputs": [
    {
     "data": {
      "image/png": "[encoded data removed]",
      "text/plain": [
       "<matplotlib.figure.Figure at 0x299715a3518>"
      ]
     },
     "metadata": {},
     "output_type": "display_data"
    }
   ],
   "source": [
    "%matplotlib inline\n",
    "\n",
    "import matplotlib\n",
    "import numpy as np\n",
    "import matplotlib.pyplot as plt\n",
    "import math\n",
    "\n",
    "def friis_function():\n",
    "\n",
    "    c = 299792458\n",
    "    f = 2.4\n",
    "    x_router = 0\n",
    "    y_router = 0\n",
    "    x_device = 20\n",
    "    y_device = 0\n",
    "    Z = 2\n",
    "    p_t = 0\n",
    "    r = math.sqrt((x_device-x_router)^2 + (y_device-y_router)^2 + Z^2)\n",
    "\n",
    "    p_r = p_t + 20.0 * np.log10(c / (4.0 * np.pi * f * r))\n",
    "    return p_r\n",
    "\n",
    "#the mean and sigma used for creating the gaussian noise\n",
    "mu = 0.0\n",
    "sigma = 1.0\n",
    "\n",
    "#creating the gaussian package noise\n",
    "package_noise = np.random.normal(mu, sigma, 1000)\n",
    "\n",
    "\n",
    "expected = friis_function()\n",
    "measurements = [expected + noise1 for noise1 in package_noise]\n",
    "\n",
    "normalized_residuals = [(measurement - expected)/1 for measurement in measurements]\n",
    "\n",
    "\n",
    "#make the histogram plot with the gaussian plotted over it in red\n",
    "count, bins, ignored = plt.hist(normalized_residuals, 20, normed=True)\n",
    "plt.plot(bins, 1/(sigma * np.sqrt(2 * np.pi)) * np.exp( - (bins - mu)**2 / (2 * sigma**2) ),\n",
    "        linewidth=2, color='r')\n",
    "plt.show()\n"
   ]
  },
  {
   "cell_type": "markdown",
   "metadata": {},
   "source": [
    "Answer 0.3G\n",
    "The mean of the distribution is 0 and the standard deviation is 1..."
   ]
  },
  {
   "cell_type": "code",
   "execution_count": 4,
   "metadata": {
    "collapsed": false
   },
   "outputs": [
    {
     "data": {
      "image/png": "[encoded data removed]",
      "text/plain": [
       "<matplotlib.figure.Figure at 0x29971a50dd8>"
      ]
     },
     "metadata": {},
     "output_type": "display_data"
    },
    {
     "data": {
      "image/png": "[encoded data removed]",
      "text/plain": [
       "<matplotlib.figure.Figure at 0x29971fb9908>"
      ]
     },
     "metadata": {},
     "output_type": "display_data"
    }
   ],
   "source": [
    "mu = 0.0\n",
    "sigma = 2.0\n",
    "\n",
    "package_noise = np.random.normal(mu, sigma, 1000)\n",
    "\n",
    "normalized_residuals = [(measurement - expected)/1 for measurement in measurements]\n",
    "\n",
    "#make the histogram plot with the gaussian plotted over it in red\n",
    "count, bins, ignored = plt.hist(normalized_residuals, 20, normed=True)\n",
    "plt.show()\n",
    "\n",
    "mu = 0.0\n",
    "sigma = 2.0\n",
    "\n",
    "package_noise = np.random.normal(mu, sigma, 1000)\n",
    "\n",
    "normalized_residuals = [(measurement - expected)/8 for measurement in measurements]\n",
    "\n",
    "count, bins, ignored = plt.hist(normalized_residuals, 20, normed=True)\n",
    "plt.show()"
   ]
  },
  {
   "cell_type": "markdown",
   "metadata": {
    "collapsed": false
   },
   "source": [
    "0.3 h) If we underestimate the noise, the standard deviation of the pull distribution becomes larger, showing values way above 1 \n",
    "(meaning much noise). If we overestimate the noise, the standard deviation becomes small showing values lower than 1, which would mean that there is no noise (while there actually is noise). \n",
    "\n",
    "\n"
   ]
  },
  {
   "cell_type": "code",
   "execution_count": 6,
   "metadata": {
    "collapsed": false
   },
   "outputs": [
    {
     "data": {
      "image/png": "[encoded data removed]",
      "text/plain": [
       "<matplotlib.figure.Figure at 0x29971f20860>"
      ]
     },
     "metadata": {},
     "output_type": "display_data"
    }
   ],
   "source": [
    "def friis_function(const):\n",
    "\n",
    "    c = 299792458\n",
    "    f = 2.4\n",
    "    x_router = 0\n",
    "    y_router = 0\n",
    "    x_device = 20\n",
    "    y_device = 0\n",
    "    Z = 2\n",
    "    p_t = 0\n",
    "    r = math.sqrt((x_device-x_router)^2 + (y_device-y_router)^2 + Z^2)\n",
    "\n",
    "    p_r = p_t + const * np.log10(c / (4.0 * np.pi * f * r))\n",
    "    return p_r\n",
    "\n",
    "#the mean and sigma used for creating the gaussian noise\n",
    "mu = 0.0\n",
    "sigma = 1.0\n",
    "\n",
    "#creating the gaussian package noise\n",
    "package_noise = np.random.normal(mu, sigma, 1000)\n",
    "\n",
    "\n",
    "expected = friis_function(20.0)\n",
    "measure_friis = friis_function(25.0)\n",
    "measurements = [measure_friis + noise1 for noise1 in package_noise]\n",
    "\n",
    "normalized_residuals = [(measurement - expected)/1 for measurement in measurements]\n",
    "\n",
    "\n",
    "#make the histogram plot with the gaussian plotted over it in red\n",
    "count, bins, ignored = plt.hist(normalized_residuals, 20, normed=True)\n",
    "plt.show()"
   ]
  },
  {
   "cell_type": "code",
   "execution_count": 7,
   "metadata": {
    "collapsed": false
   },
   "outputs": [
    {
     "data": {
      "text/latex": [
       "\n",
       "0.3 i) The mean shifts in the positive direction. The amount of shift is determined by:\n",
       "\n",
       "\\begin{align*}\n",
       "S_i &= P_t + 20*log^{10}(\\frac{c}{4\\pi fr}) + noise\\\\\n",
       "P_r &= P_t + 25*log^{10}(\\frac{c}{4\\pi fr})\\\\\n",
       "Shift &= S_i - P_r - noise \\\\\n",
       "&= 20*log^{10}(\\frac{c}{4\\pi fr})- 25*log^{10}(\\frac{c}{4\\pi fr})\n",
       "\\end{align*}"
      ],
      "text/plain": [
       "<IPython.core.display.Latex object>"
      ]
     },
     "metadata": {},
     "output_type": "display_data"
    }
   ],
   "source": [
    "%%latex\n",
    "\n",
    "0.3 i) The mean shifts in the positive direction. The amount of shift is determined by:\n",
    "\n",
    "\\begin{align*}\n",
    "S_i &= P_t + 20*log^{10}(\\frac{c}{4\\pi fr}) + noise\\\\\n",
    "P_r &= P_t + 25*log^{10}(\\frac{c}{4\\pi fr})\\\\\n",
    "Shift &= S_i - P_r - noise \\\\\n",
    "&= 20*log^{10}(\\frac{c}{4\\pi fr})- 25*log^{10}(\\frac{c}{4\\pi fr})\n",
    "\\end{align*}"
   ]
  },
  {
   "cell_type": "code",
   "execution_count": 8,
   "metadata": {
    "collapsed": false
   },
   "outputs": [
    {
     "data": {
      "text/latex": [
       "\n",
       "0.3 j) What you want to see in a pull distribution is a spread over 4 sigmas and a centration on the 0, which means the mean is at the 0 point. "
      ],
      "text/plain": [
       "<IPython.core.display.Latex object>"
      ]
     },
     "metadata": {},
     "output_type": "display_data"
    }
   ],
   "source": [
    "%%latex\n",
    "\n",
    "0.3 j) What you want to see in a pull distribution is a spread over 4 sigmas and a centration on the 0, which means the mean is at the 0 point. "
   ]
  },
  {
   "cell_type": "code",
   "execution_count": null,
   "metadata": {
    "collapsed": true
   },
   "outputs": [],
   "source": []
  }
 ],
 "metadata": {
  "anaconda-cloud": {},
  "kernelspec": {
   "display_name": "Python [Root]",
   "language": "python",
   "name": "Python [Root]"
  },
  "language_info": {
   "codemirror_mode": {
    "name": "ipython",
    "version": 3
   },
   "file_extension": ".py",
   "mimetype": "text/x-python",
   "name": "python",
   "nbconvert_exporter": "python",
   "pygments_lexer": "ipython3",
   "version": "3.5.2"
  }
 },
 "nbformat": 4,
 "nbformat_minor": 0
}
