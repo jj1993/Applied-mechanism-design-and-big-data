{
 "cells": [
  {
   "cell_type": "code",
   "execution_count": 6,
   "metadata": {
    "collapsed": true
   },
   "outputs": [],
   "source": [
    "%matplotlib inline\n",
    "\n",
    "import matplotlib\n",
    "import numpy as np\n",
    "import matplotlib.pyplot as plt\n",
    "from scipy.optimize import minimize\n",
    "import math\n",
    "import csv\n",
    "import pandas as pd\n",
    "import random"
   ]
  },
  {
   "cell_type": "code",
   "execution_count": 7,
   "metadata": {
    "collapsed": true
   },
   "outputs": [],
   "source": [
    "#configuring the coordinates of the routers\n",
    "named_routers = {\n",
    "            \"Lima\": (5.82, 5.48),\n",
    "            \"Mike\": (11.33, 9.43),\n",
    "            \"Kilo\": (12.39, 6.77),\n",
    "            \"Oscar\": (2.48, 7.36),\n",
    "            \"Alpha\": (8.53, 2.16),\n",
    "            \"India\": (2.18, 5.61),\n",
    "            \"November\": (8.34, 4.13),\n",
    "            \"Hotel\": (5.43, 4.71),\n",
    "            \"Romeo\": (10.99, 5.94),\n",
    "            \"Quebec\": (6.82, 9.78),\n",
    "            \"Papa\": (9.9, 10.39)\n",
    "          }"
   ]
  },
  {
   "cell_type": "code",
   "execution_count": 171,
   "metadata": {
    "collapsed": false
   },
   "outputs": [],
   "source": [
    "c = 299792458\n",
    "f = 2.4 * 10**9\n",
    "Z = 2 # height of router - height of device = 3-1\n",
    "sigma = 1\n",
    "\n",
    "def P_r(P_t, r):\n",
    "    # Friss function for actual signal at router\n",
    "    P_r = P_t + 20 * np.log10(c / (4* np.pi* f* r))\n",
    "    return P_r\n",
    " \n",
    "def getD(d, r):\n",
    "    # Get partial derivative of Pr\n",
    "    # r is the radius\n",
    "    return (-20/math.log(10))*(d/(float(r)**2))\n",
    "\n",
    "def triangulate(routers, signals):\n",
    "    #print(\"TRIANGULATING!!!! WOOOO\")\n",
    "    triangulate = minimize(calculate_chi2, [10,10, -15])\n",
    "    measuredx, measuredy, P_t = triangulate.x\n",
    "    pos = (measuredx, measuredy)\n",
    "    if P_t >= 0:\n",
    "        return pos, (None, None), P_t\n",
    "\n",
    "    Pxs, Pys = [], []\n",
    "    Px2s, Py2s = [], []\n",
    "    for router in routers:\n",
    "        x, y = router\n",
    "        deltax = measuredx - x\n",
    "        deltay = measuredy - y\n",
    "        r = getR(measuredx, measuredy, x, y)\n",
    "        Px = getD(deltax, r)\n",
    "        Py = getD(deltay, r)\n",
    "        Pxs.append(Px)\n",
    "        Px2s.append(Px**2)\n",
    "        Pys.append(Py)\n",
    "        Py2s.append(Py**2)\n",
    "    Pxs, Pys = np.array(Pxs), np.array(Pys)\n",
    "    Px2s, Py2x = np.array(Px2s), np.array(Py2s)\n",
    "#     xerror = math.sqrt(abs((sum(Px2s*Py2s) - (sum(Pxs*Pys))**2)/sum(Py2s)))\n",
    "#     try:\n",
    "#         xerror = math.sqrt(abs(sum(Py2s)/(sum(Px2s*Py2s) - (sum(Pxs*Pys))**2)))\n",
    "#         yerror = math.sqrt(abs(sum(Px2s)/(sum(Px2s*Py2s) - (sum(Pxs*Pys))**2)))\n",
    "#     except:\n",
    "#         print(sum(Py2s)/(sum(Px2s*Py2s) - (sum(Pxs*Pys))**2))\n",
    "#         print(sum(Px2s)/(sum(Px2s*Py2s) - (sum(Pxs*Pys))**2))\n",
    "\n",
    "    try:\n",
    "        xerror = math.sqrt(sum(Py2s)/(sum(Px2s)*sum(Py2s) - (sum(Pxs*Pys))**2))\n",
    "        yerror = math.sqrt(sum(Px2s)/(sum(Px2s)*sum(Py2s) - (sum(Pxs*Pys))**2))\n",
    "    except:\n",
    "        print(\" Variance calculation is still crap\")\n",
    "        \n",
    "    uncertainty = (xerror, yerror)\n",
    "    return pos, uncertainty, P_t\n",
    "\n",
    "def plot_pos_uncertainty(pos, uncertainty, fig, ax):\n",
    "    # Plot the uncertainties around the positions in one plot\n",
    "    (x,y) = pos\n",
    "    (width, height) = uncertainty\n",
    "    ellipse = matplotlib.patches.Ellipse(pos, width, height, linewidth=1, fc='b', fill=True, alpha=0.3)\n",
    "    ax.plot(x,y, 'o')\n",
    "    ax.add_artist(ellipse)\n",
    "    # ax.axis([-5,20,-5,20])\n",
    "    return\n",
    "\n",
    "def getR(x1, y1, x2, y2):\n",
    "    # Get R from x-, y-, z values\n",
    "    return math.sqrt((x1 - x2)**2 + (y1 - y2)**2 + Z**2)\n",
    "\n",
    "def SiToR(Si, P_t):\n",
    "    # Get radius from measured signal\n",
    "    return abs(c/(4*math.pi*f*10**((Si-P_t)/20.0)))\n",
    "    \n",
    "def calculate_chi2(xyPt):\n",
    "    # Function that scores the goodness of the \n",
    "    # current xy position for optimize function\n",
    "    x, y, P_t = xyPt\n",
    "    chi2 = 0\n",
    "    for n, router in enumerate(routers):\n",
    "        routerx, routery = router\n",
    "        r = getR(routerx, routery, x, y)\n",
    "        expected = P_r(P_t, r)\n",
    "        signal = signals[n]\n",
    "        chi2 += (signal - expected)**2\n",
    "    return chi2\n",
    "\n",
    "    "
   ]
  },
  {
   "cell_type": "code",
   "execution_count": 172,
   "metadata": {
    "collapsed": false
   },
   "outputs": [],
   "source": [
    "fname = 'UvA-wifitracking-exercise-prepped-data.csv'"
   ]
  },
  {
   "cell_type": "code",
   "execution_count": 213,
   "metadata": {
    "collapsed": false
   },
   "outputs": [],
   "source": [
    "def triangulate_packets(packets):\n",
    "\n",
    "    #rebuild the routers list per packet\n",
    "    residuals = []\n",
    "    uncertainties = []\n",
    "    Pts = []\n",
    "    positions = []\n",
    "    fig, ax = plt.subplots()\n",
    "#     ax.axis([0,15,0,15])\n",
    "    for packet in packets:\n",
    "        global routers, signals\n",
    "        routers = []\n",
    "        signals = []\n",
    "        if len(packet[1]) < 4:\n",
    "            continue\n",
    "#         print(\"working with {} packets\".format(len(packet[1])))\n",
    "        for row in packet[1].iterrows():\n",
    "            droneId = row[1].loc['droneId']\n",
    "            signal =  row[1].loc['signal']\n",
    "            routers.append(named_routers[droneId])\n",
    "            signals.append(signal)\n",
    "        pos, uncertainty, P_t = triangulate(routers, signals)\n",
    "        if P_t >= 0:\n",
    "            continue\n",
    "        positions.append(pos)\n",
    "        uncertainties.append(uncertainty)\n",
    "        plot_pos_uncertainty(pos, uncertainty, fig, ax)\n",
    "        Pts.append(P_t)\n",
    "\n",
    "        residual = 0\n",
    "        for i, signal in enumerate(signals):\n",
    "            r = getR(routers[i][0], routers[i][1], pos[0], pos[1])\n",
    "            expected = P_r(P_t, r)\n",
    "            residual += (signal - expected)/sigma\n",
    "\n",
    "    #     if abs(P_t) < 50 and  abs(residual) < 5:\n",
    "        residuals.append(residual)\n",
    "\n",
    "    res = np.array(residuals)\n",
    "    \n",
    "    #make plot for locations\n",
    "    x = [p[0] for p in positions]\n",
    "    y = [p[1] for p in positions]\n",
    "    ax.plot(x,y)\n",
    "    fig.show()\n",
    "    \n",
    "    \n",
    "    plt.figure()\n",
    "\n",
    "    #make the histogram plot with the gaussian plotted over it in red\n",
    "    count, bins, ignored = plt.hist(Pts, 10, normed=True)\n",
    "    plt.grid(True, which='major')\n",
    "    plt.grid(True, which='minor')\n",
    "    plt.title('P_t\\'s')\n",
    "    \n",
    "    # plt.plot(bins, 1/(sigma * np.sqrt(2 * np.pi)) * np.exp( - (bins - mu)**2 / (2 * sigma**2) ),\n",
    "    #         linewidth=2, color='r')\n",
    "    plt.show()\n",
    "\n",
    "    xuncertainty = [u[0] for u in uncertainties]\n",
    "    yuncertainty = [u[1] for u in uncertainties]\n",
    "    print(\"x resolution: {:.2f}\\t y resolution:{}\".format(np.mean(xuncertainty), np.mean(yuncertainty)))\n",
    "    print(\"mean transmisison power: {}\".format(np.mean(Pts)))\n"
   ]
  },
  {
   "cell_type": "code",
   "execution_count": 214,
   "metadata": {
    "collapsed": false
   },
   "outputs": [
    {
     "name": "stderr",
     "output_type": "stream",
     "text": [
      "C:\\Anaconda3\\lib\\site-packages\\matplotlib\\figure.py:397: UserWarning: matplotlib is currently using a non-GUI backend, so cannot show the figure\n",
      "  \"matplotlib is currently using a non-GUI backend, \"\n"
     ]
    },
    {
     "data": {
      "image/png": "[encoded data removed]",
      "text/plain": [
       "<matplotlib.figure.Figure at 0x1dcd0003d30>"
      ]
     },
     "metadata": {},
     "output_type": "display_data"
    },
    {
     "data": {
      "image/png": "[encoded data removed]",
      "text/plain": [
       "<matplotlib.figure.Figure at 0x1dcd1fbbfd0>"
      ]
     },
     "metadata": {},
     "output_type": "display_data"
    },
    {
     "name": "stdout",
     "output_type": "stream",
     "text": [
      "x resolution: 0.32\t y resolution:0.3230635588330485\n",
      "mean transmisison power: -19.701984591515842\n"
     ]
    }
   ],
   "source": [
    "\n",
    "df = pd.read_csv(fname)\n",
    "packets = df.groupby(['typeNr', 'subTypeNr', 'seqNr'])\n",
    "triangulate_packets(packets)"
   ]
  },
  {
   "cell_type": "code",
   "execution_count": 215,
   "metadata": {
    "collapsed": false
   },
   "outputs": [
    {
     "name": "stderr",
     "output_type": "stream",
     "text": [
      "C:\\Anaconda3\\lib\\site-packages\\matplotlib\\figure.py:397: UserWarning: matplotlib is currently using a non-GUI backend, so cannot show the figure\n",
      "  \"matplotlib is currently using a non-GUI backend, \"\n"
     ]
    },
    {
     "data": {
      "image/png": "[encoded data removed]",
      "text/plain": [
       "<matplotlib.figure.Figure at 0x1dcd1ef00f0>"
      ]
     },
     "metadata": {},
     "output_type": "display_data"
    },
    {
     "data": {
      "image/png": "[encoded data removed]",
      "text/plain": [
       "<matplotlib.figure.Figure at 0x1dcd1fc09e8>"
      ]
     },
     "metadata": {},
     "output_type": "display_data"
    },
    {
     "name": "stdout",
     "output_type": "stream",
     "text": [
      "x resolution: 635063.17\t y resolution:61250.354085151324\n",
      "mean transmisison power: -17.372792144065034\n"
     ]
    }
   ],
   "source": [
    "df = pd.read_csv(fname)\n",
    "\n",
    "df['delta_time'] = df['measurementTimestamp'].diff().fillna(0)\n",
    "df['time_label'] = np.nan\n",
    "time_labels = []\n",
    "current_label = 0\n",
    "for row in df.iterrows():\n",
    "    data = row[1]\n",
    "    if not current_label:\n",
    "        current_label = 1\n",
    "    else:\n",
    "        if data['delta_time'] > 20:\n",
    "            current_label += 1\n",
    "    time_labels.append(current_label)\n",
    "df['time_label'] = pd.Series(time_labels)        \n",
    "packets = df.groupby(['time_label'])\n",
    "triangulate_packets(packets)"
   ]
  },
  {
   "cell_type": "code",
   "execution_count": 98,
   "metadata": {
    "collapsed": false
   },
   "outputs": [
    {
     "name": "stdout",
     "output_type": "stream",
     "text": [
      "900\n",
      "354\n"
     ]
    }
   ],
   "source": [
    "a = np.array([1,2,3,4])\n",
    "b = np.array([1,2,3,4])\n",
    "print(sum(a*b)**2)\n",
    "print(sum(a**2 * b**2))"
   ]
  }
 ],
 "metadata": {
  "anaconda-cloud": {},
  "kernelspec": {
   "display_name": "Python 3",
   "language": "python",
   "name": "python3"
  },
  "language_info": {
   "codemirror_mode": {
    "name": "ipython",
    "version": 3
   },
   "file_extension": ".py",
   "mimetype": "text/x-python",
   "name": "python",
   "nbconvert_exporter": "python",
   "pygments_lexer": "ipython3",
   "version": "3.5.1"
  }
 },
 "nbformat": 4,
 "nbformat_minor": 0
}
