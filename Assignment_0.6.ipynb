{
 "cells": [
  {
   "cell_type": "code",
   "execution_count": 65,
   "metadata": {
    "collapsed": true
   },
   "outputs": [],
   "source": [
    "%matplotlib inline\n",
    "\n",
    "import matplotlib\n",
    "import numpy as np\n",
    "import matplotlib.pyplot as plt\n",
    "import math\n",
    "import csv\n",
    "import pandas as pd\n",
    "import random"
   ]
  },
  {
   "cell_type": "code",
   "execution_count": 87,
   "metadata": {
    "collapsed": false
   },
   "outputs": [],
   "source": [
    "def P_r(r):\n",
    "    P_r = P_t + 20 * np.log10(c / (4* np.pi* f* r))\n",
    "    return P_r\n",
    "\n",
    "Z = 2 # height of router - height of device\n",
    "\n",
    "def chi_squared(Sis, x, y, routers=[], Z=2, sigma=1):\n",
    "    chi = 0\n",
    "    for i, (x_i, y_i) in enumerate(routers):\n",
    "        S_i = Sis[i]\n",
    "        r = math.sqrt((x - x_i)**2 + (y - y_i)**2 + Z**2)\n",
    "        chi += ((P_r(r) - S_i)**2)/sigma**2\n",
    "    return chi\n",
    "    \n",
    "def chi_squared_xy(xy):\n",
    "    x,y = xy\n",
    "    chi = chi_squared(Sis,x, y, routers)\n",
    "    return chi\n",
    "\n",
    "def calculate_S_is(S_x, S_y, routers, noise):\n",
    "    Sis = []\n",
    "    for (x_i, y_i) in routers:\n",
    "        if noise:\n",
    "            mu = 0\n",
    "            sigma = noise\n",
    "            package_noise = np.random.normal(mu, sigma, 1)[0]\n",
    "        else:\n",
    "            package_noise = 0\n",
    "        S_r = math.sqrt((S_x - x_i)**2 + (S_y - y_i)**2 + Z**2)\n",
    "\n",
    "        S_i = P_r(S_r) + package_noise\n",
    "        Sis.append(S_i)\n",
    "    return Sis\n",
    "  \n",
    "def triangulate(routers, signals):\n",
    "    #print(\"TRIANGULATING!!!! WOOOO\")\n",
    "    pos = (random.randint(0,20), random.randint(0,20))\n",
    "    uncertainty = (random.randint(0,2),random.randint(0,2))\n",
    "    return pos, uncertainty\n",
    "\n",
    "def plot_pos_uncertainty(pos, uncertainty, fig, ax):\n",
    "    (x,y) = pos\n",
    "    (width, height) = uncertainty\n",
    "    ellipse = matplotlib.patches.Ellipse(pos, width, height, linewidth=1, fc='b', fill=True, alpha=0.3)\n",
    "    ax.plot(x,y, 'o')\n",
    "    plt.axis([0,20,0,20])\n",
    "    ax.add_artist(ellipse)\n",
    "    "
   ]
  },
  {
   "cell_type": "code",
   "execution_count": 88,
   "metadata": {
    "collapsed": true
   },
   "outputs": [],
   "source": [
    "#configuring the coordinates of the routers\n",
    "named_routers = {\n",
    "            \"Lima\": (5.82, 5.48),\n",
    "            \"Mike\": (11.33, 9.43),\n",
    "            \"Kilo\": (12.39, 6.77),\n",
    "            \"Oscar\": (2.48, 7.36),\n",
    "            \"Alpha\": (8.53, 2.16),\n",
    "            \"India\": (2.18, 5.61),\n",
    "            \"November\": (8.34, 4.13),\n",
    "            \"Hotel\": (5.43, 4.71),\n",
    "            \"Romeo\": (10.99, 5.94),\n",
    "            \"Quebec\": (6.82, 9.78),\n",
    "            \"Papa\": (9.9, 10.39)\n",
    "          }"
   ]
  },
  {
   "cell_type": "code",
   "execution_count": 89,
   "metadata": {
    "collapsed": false
   },
   "outputs": [],
   "source": [
    "fname = 'UvA-wifitracking-exercise-prepped-data.csv'\n",
    "\n",
    "df = pd.read_csv(fname)\n",
    "packets = df.groupby(['typeNr', 'subTypeNr', 'seqNr'])\n"
   ]
  },
  {
   "cell_type": "code",
   "execution_count": 90,
   "metadata": {
    "collapsed": false
   },
   "outputs": [
    {
     "name": "stderr",
     "output_type": "stream",
     "text": [
      "C:\\Users\\Celeste\\Anaconda3\\lib\\site-packages\\matplotlib\\figure.py:397: UserWarning: matplotlib is currently using a non-GUI backend, so cannot show the figure\n",
      "  \"matplotlib is currently using a non-GUI backend, \"\n"
     ]
    },
    {
     "data": {
      "image/png": "[encoded data removed]",
      "text/plain": [
       "<matplotlib.figure.Figure at 0x540ccd6518>"
      ]
     },
     "metadata": {},
     "output_type": "display_data"
    }
   ],
   "source": [
    "positions = []\n",
    "\n",
    "#rebuild the routers list per packet\n",
    "# routers = [(0,0), (0,20), (20,20), (20, 0)]\n",
    "\n",
    "\n",
    "fig, ax = plt.subplots()\n",
    "for packet in packets:\n",
    "#     print(packet[1][['droneId', 'signal']])\n",
    "#     print(type(packet[1]))\n",
    "    routers = []\n",
    "    signals = []\n",
    "    for row in packet[1].iterrows():\n",
    "        droneId = row[1].loc['droneId']\n",
    "        signal =  row[1].loc['signal']\n",
    "        routers.append(named_routers[droneId])\n",
    "        signals.append(signal)\n",
    "    #print(routers, signals)\n",
    "    pos, uncertainty = triangulate(routers, signals) \n",
    "    plot_pos_uncertainty(pos, uncertainty, fig, ax)\n",
    "fig.show()\n",
    "    \n",
    "        "
   ]
  },
  {
   "cell_type": "code",
   "execution_count": null,
   "metadata": {
    "collapsed": true
   },
   "outputs": [],
   "source": []
  }
 ],
 "metadata": {
  "anaconda-cloud": {},
  "kernelspec": {
   "display_name": "Python 3",
   "language": "python",
   "name": "python3"
  },
  "language_info": {
   "codemirror_mode": {
    "name": "ipython",
    "version": 3
   },
   "file_extension": ".py",
   "mimetype": "text/x-python",
   "name": "python",
   "nbconvert_exporter": "python",
   "pygments_lexer": "ipython3",
   "version": "3.5.1"
  }
 },
 "nbformat": 4,
 "nbformat_minor": 0
}
