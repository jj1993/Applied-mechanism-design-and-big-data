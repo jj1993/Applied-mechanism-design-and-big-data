{
 "cells": [
  {
   "cell_type": "code",
   "execution_count": 13,
   "metadata": {
    "collapsed": true
   },
   "outputs": [],
   "source": [
    "%matplotlib inline\n",
    "\n",
    "import matplotlib\n",
    "import numpy as np\n",
    "import matplotlib.pyplot as plt\n",
    "from scipy.optimize import minimize\n",
    "import math\n",
    "import csv\n",
    "import pandas as pd\n",
    "import random"
   ]
  },
  {
   "cell_type": "code",
   "execution_count": 21,
   "metadata": {
    "collapsed": false
   },
   "outputs": [],
   "source": [
    "routers = []\n",
    "radials = None\n",
    "\n",
    "def P_r(r):\n",
    "    # Friss function for actual signal at router\n",
    "    P_r = P_t + 20 * np.log10(c / (4* np.pi* f* r))\n",
    "    return P_r\n",
    "\n",
    "c = 299792458\n",
    "f = 2.4 * 10**9\n",
    "Z = 2 # height of router - height of device\n",
    "\n",
    " \n",
    "def triangulate(used_routers, signals):\n",
    "    #print(\"TRIANGULATING!!!! WOOOO\")\n",
    "    global routers, radials\n",
    "    routers = used_routers\n",
    "    radials = [SiToR(Si) for Si in signals]\n",
    "    triangulate = minimize(locationScore, [10,10])\n",
    "    measuredx, measuredy = triangulate.x\n",
    "    pos = (measuredx, measuredy)\n",
    "    \n",
    "    xerror, yerror = 0, 0\n",
    "    for router in routers:\n",
    "        x, y = router\n",
    "        deltax = x - measuredx\n",
    "        deltay = y - measuredy\n",
    "        r = getR(measuredx, measuredy, x, y)\n",
    "        xerror += getError(deltax, r)\n",
    "        yerror += getError(deltay, r)\n",
    "    uncertainty = (xerror,yerror)\n",
    "    return pos, uncertainty\n",
    "\n",
    "def plot_pos_uncertainty(pos, uncertainty, fig, ax):\n",
    "    (x,y) = pos\n",
    "    (width, height) = uncertainty\n",
    "    ellipse = matplotlib.patches.Ellipse(pos, width, height, linewidth=1, fc='b', fill=True, alpha=0.3)\n",
    "    ax.plot(x,y, 'o')\n",
    "    plt.axis([0,20,0,20])\n",
    "    ax.add_artist(ellipse)\n",
    "    \n",
    "\n",
    "def getR(S_x, S_y, x_i, y_i):\n",
    "    # Get R from x-, y-, z values\n",
    "    return math.sqrt((S_x - x_i)**2 + (S_y - y_i)**2 + Z**2)\n",
    "\n",
    "def SiToR(Si):\n",
    "    # Get radius from measured signal\n",
    "    return c/(4*math.pi*f*10**(Si/20.0))\n",
    "    \n",
    "def locationScore(xy):\n",
    "    # Function that scores the goodness of the \n",
    "    # current xy position for optimize function\n",
    "    global routers, radials\n",
    "    x, y = xy\n",
    "    score = 0\n",
    "    for n, r in enumerate(routers):\n",
    "        routerx = r[0]\n",
    "        routery = r[1]\n",
    "        tryRadial2 = (x - routerx)**2 + (y - routery)**2\n",
    "        score += (radials[n]**2 - tryRadial2)**2\n",
    "    return score\n",
    "\n",
    "def getError(d, r):\n",
    "    # Get error on one delta x or delta y (d) value\n",
    "    # r is the radius\n",
    "    return -20/math.log(10)*d/r\n",
    "    "
   ]
  },
  {
   "cell_type": "code",
   "execution_count": 16,
   "metadata": {
    "collapsed": true
   },
   "outputs": [],
   "source": [
    "#configuring the coordinates of the routers\n",
    "named_routers = {\n",
    "            \"Lima\": (5.82, 5.48),\n",
    "            \"Mike\": (11.33, 9.43),\n",
    "            \"Kilo\": (12.39, 6.77),\n",
    "            \"Oscar\": (2.48, 7.36),\n",
    "            \"Alpha\": (8.53, 2.16),\n",
    "            \"India\": (2.18, 5.61),\n",
    "            \"November\": (8.34, 4.13),\n",
    "            \"Hotel\": (5.43, 4.71),\n",
    "            \"Romeo\": (10.99, 5.94),\n",
    "            \"Quebec\": (6.82, 9.78),\n",
    "            \"Papa\": (9.9, 10.39)\n",
    "          }"
   ]
  },
  {
   "cell_type": "code",
   "execution_count": 17,
   "metadata": {
    "collapsed": false
   },
   "outputs": [],
   "source": [
    "fname = 'UvA-wifitracking-exercise-prepped-data.csv'\n",
    "\n",
    "df = pd.read_csv(fname)\n",
    "packets = df.groupby(['typeNr', 'subTypeNr', 'seqNr'])\n"
   ]
  },
  {
   "cell_type": "code",
   "execution_count": 22,
   "metadata": {
    "collapsed": false
   },
   "outputs": [
    {
     "name": "stderr",
     "output_type": "stream",
     "text": [
      "C:\\Anaconda3\\lib\\site-packages\\matplotlib\\figure.py:397: UserWarning: matplotlib is currently using a non-GUI backend, so cannot show the figure\n",
      "  \"matplotlib is currently using a non-GUI backend, \"\n"
     ]
    },
    {
     "data": {
      "image/png": "[encoded data removed]",
      "text/plain": [
       "<matplotlib.figure.Figure at 0x201d3d1c208>"
      ]
     },
     "metadata": {},
     "output_type": "display_data"
    }
   ],
   "source": [
    "positions = []\n",
    "\n",
    "#rebuild the routers list per packet\n",
    "# routers = [(0,0), (0,20), (20,20), (20, 0)]\n",
    "\n",
    "\n",
    "fig, ax = plt.subplots()\n",
    "for packet in packets:\n",
    "#     print(packet[1][['droneId', 'signal']])\n",
    "#     print(type(packet[1]))\n",
    "    routers = []\n",
    "    signals = []\n",
    "    for row in packet[1].iterrows():\n",
    "        droneId = row[1].loc['droneId']\n",
    "        signal =  row[1].loc['signal']\n",
    "        routers.append(named_routers[droneId])\n",
    "        signals.append(signal)\n",
    "    #print(routers, signals)\n",
    "    pos, uncertainty = triangulate(routers, signals) \n",
    "    plot_pos_uncertainty(pos, uncertainty, fig, ax)\n",
    "fig.show()\n",
    "    \n",
    "        "
   ]
  },
  {
   "cell_type": "code",
   "execution_count": null,
   "metadata": {
    "collapsed": true
   },
   "outputs": [],
   "source": []
  }
 ],
 "metadata": {
  "anaconda-cloud": {},
  "kernelspec": {
   "display_name": "Python 3",
   "language": "python",
   "name": "python3"
  },
  "language_info": {
   "codemirror_mode": {
    "name": "ipython",
    "version": 3
   },
   "file_extension": ".py",
   "mimetype": "text/x-python",
   "name": "python",
   "nbconvert_exporter": "python",
   "pygments_lexer": "ipython3",
   "version": "3.5.1"
  }
 },
 "nbformat": 4,
 "nbformat_minor": 0
}
