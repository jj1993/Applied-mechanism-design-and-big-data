{
 "cells": [
  {
   "cell_type": "code",
   "execution_count": 19,
   "metadata": {
    "collapsed": false
   },
   "outputs": [],
   "source": [
    "%matplotlib inline\n",
    "\n",
    "import matplotlib\n",
    "import numpy as np\n",
    "import matplotlib.pyplot as plt"
   ]
  },
  {
   "cell_type": "markdown",
   "metadata": {},
   "source": [
    "a) Make a plot of Pr as a function of r when Pt =0dBm ,for r ranging from 0.4 m to 30 m1. For which is a router more sensitive when it comes to the distance to a device, devices that are close or devices that are far away, and why?\n",
    "\n",
    "It is more sensitive to devices that are close, since the absolute derivative decreases when the distance increases. So the difference between the router and the device is less accurate determined over greater distance."
   ]
  },
  {
   "cell_type": "code",
   "execution_count": 38,
   "metadata": {
    "collapsed": false
   },
   "outputs": [
    {
     "data": {
      "image/png": "[encoded data removed]",
      "text/plain": [
       "<matplotlib.figure.Figure at 0x110ce5850>"
      ]
     },
     "metadata": {},
     "output_type": "display_data"
    }
   ],
   "source": [
    "r = np.arange(0.4, 30, 0.1)\n",
    "P_t = 0\n",
    "c = 299792458\n",
    "f = 2.4 * 10**9\n",
    "P_r = P_t + 20 * np.log10(c / (4* np.pi* f* r))\n",
    "plt.plot(r, P_r)\n",
    "plt.ylabel(\"P_r in dBm\")\n",
    "plt.xlabel(\"distance r in m\")\n",
    "plt.show()"
   ]
  },
  {
   "cell_type": "markdown",
   "metadata": {},
   "source": [
    "The router is more sensitive to signals which are closer. "
   ]
  },
  {
   "cell_type": "markdown",
   "metadata": {},
   "source": [
    "b) Invert the Friis equation 1 to give the distance r as a function of Pr."
   ]
  },
  {
   "cell_type": "markdown",
   "metadata": {},
   "source": [
    "$$ P_r = P_t + 20 \\times log_{10}(\\frac{c}{4 \\pi f r}) \\\\\n",
    " \\frac{P_t + P_r}{20} =log_{10}(\\frac{c}{4 \\pi f r}) \\\\\n",
    "10^{\\frac{P_t + P_r}{20} }=\\frac{c}{4 \\pi f r} \\\\\n",
    "r \\times 10^{\\frac{P_t + P_r}{20} }=\\frac{c}{4 \\pi f} \\\\\n",
    "r = \\frac{c}{4 \\pi f \\times 10^{\\frac{P_t + P_r}{20} }} $$"
   ]
  },
  {
   "cell_type": "markdown",
   "metadata": {},
   "source": [
    "c) When Pt = 0 dBm, what is the difference in distance between a signal strength of  30 dBm and of  31 dBm, and between a signal strength of  60 dBm and  61 dBm?"
   ]
  },
  {
   "cell_type": "code",
   "execution_count": 35,
   "metadata": {
    "collapsed": false
   },
   "outputs": [
    {
     "name": "stdout",
     "output_type": "stream",
     "text": [
      "('The difference between 30 dBm and of  31 dBm is:', 3.4184176042559257e-05)\n",
      "('The difference between 60 dBm and of  61 dBm is:', 1.0809985623064794e-06)\n"
     ]
    }
   ],
   "source": [
    "r_30 = c / (4 * np.pi * f * np.power(10,(30.0/20)))\n",
    "\n",
    "r_31 = c / (4 * np.pi * f * np.power(10,(31.0/20)))\n",
    "r_60 = c / (4 * np.pi * f * np.power(10,(60.0/20)))\n",
    "r_61 = c / (4 * np.pi * f * np.power(10,(61.0/20)))\n",
    "r_d1 = r_30 - r_31\n",
    "r_d2 = r_60 - r_61\n",
    "print (\"The difference between 30 dBm and of  31 dBm is:\",r_d1)\n",
    "print (\"The difference between 60 dBm and of  61 dBm is:\",r_d2)"
   ]
  },
  {
   "cell_type": "markdown",
   "metadata": {},
   "source": [
    "d) For which case does an uncertainty on the measured signal strength trans- late to a larger uncertainty on the distance, for a larger signal strength of e.g.  30 dBm or for a smaller signal strength of e.g.  60 dBm, and why?"
   ]
  },
  {
   "cell_type": "markdown",
   "metadata": {},
   "source": [
    "When a packet is received two factors play a role in the uncertainty. The first is the interference from the 'real world'. When the packet has a weaker signal strength it is send from farther away and has a higher likelihood of interference thus increasing the uncertainty.\n",
    "The second factor is that when the distance is short and changes a bit the resulting signal strength varies a lot. But when the distance is large and changes by the same amount the resulting signal strength varies much less."
   ]
  },
  {
   "cell_type": "code",
   "execution_count": null,
   "metadata": {
    "collapsed": true
   },
   "outputs": [],
   "source": []
  }
 ],
 "metadata": {
  "kernelspec": {
   "display_name": "Python 3",
   "language": "python",
   "name": "python3"
  },
  "language_info": {
   "codemirror_mode": {
    "name": "ipython",
    "version": 3
   },
   "file_extension": ".py",
   "mimetype": "text/x-python",
   "name": "python",
   "nbconvert_exporter": "python",
   "pygments_lexer": "ipython3",
   "version": "3.5.1"
  }
 },
 "nbformat": 4,
 "nbformat_minor": 0
}
