{
 "cells": [
  {
   "cell_type": "code",
   "execution_count": 7,
   "metadata": {
    "collapsed": false
   },
   "outputs": [
    {
     "data": {
      "text/latex": [
       "\n",
       "0.5s\n",
       "\n",
       "\\begin{align*}\n",
       "\\chi^2 &= \\sum_i (\\frac{S_i-P_r^i(x,y)}{\\sigma_i})^2\\\\\n",
       "P_r^i(x,y) &\\approx P_r^i(x_0,y_0)\n",
       "+\\frac{\\partial P_r^i(x_0,y_0)}{\\partial x}*(x-x_0)\n",
       "+\\frac{\\partial P_r^i(x_0,y_0)}{\\partial y}*(y-y_0)\\\\\n",
       "&= P_0^i + P_{x,0}^i\\Delta x + P_{y,0}^i\\Delta y\\\\\n",
       "\\chi^2 &= \\sum_i (\\frac{S_i-P_0^i + P_{x,0}^i\\Delta x + P_{y,0}^i\\Delta y}{\\sigma_i})^2\\\\\n",
       "S_i - P_0^i &= R_0^i\\\\\n",
       "\\chi^2 &= \\sum_i \\frac{1}{\\sigma_i^2}((R_0^i)^2 + (P_{x,0}^i\\Delta x)^2 + (P_{y,0}^i\\Delta y)^2 \n",
       "                                      + R_0^iP_{x,0}^i\\Delta x + R_0^iP_{y,0}^i\\Delta y\n",
       "                                      + P_{x,0}^iP_{y,0}^i\\Delta x\\Delta y\n",
       "\n",
       "\\end{align*}\n"
      ],
      "text/plain": [
       "<IPython.core.display.Latex object>"
      ]
     },
     "metadata": {},
     "output_type": "display_data"
    }
   ],
   "source": [
    "%%latex\n",
    "\n",
    "0.5s\n",
    "\n",
    "\\begin{align*}\n",
    "\\chi^2 &= \\sum_i (\\frac{S_i-P_r^i(x,y)}{\\sigma_i})^2\\\\\n",
    "P_r^i(x,y) &\\approx P_r^i(x_0,y_0)\n",
    "+\\frac{\\partial P_r^i(x_0,y_0)}{\\partial x}*(x-x_0)\n",
    "+\\frac{\\partial P_r^i(x_0,y_0)}{\\partial y}*(y-y_0)\\\\\n",
    "&= P_0^i + P_{x,0}^i\\Delta x + P_{y,0}^i\\Delta y\\\\\n",
    "\\chi^2 &= \\sum_i (\\frac{S_i-P_0^i + P_{x,0}^i\\Delta x + P_{y,0}^i\\Delta y}{\\sigma_i})^2\\\\\n",
    "S_i - P_0^i &= R_0^i\\\\\n",
    "\\chi^2 &= \\sum_i \\frac{1}{\\sigma_i^2}((R_0^i)^2 + (P_{x,0}^i\\Delta x)^2 + (P_{y,0}^i\\Delta y)^2 \n",
    "                                      + R_0^iP_{x,0}^i\\Delta x + R_0^iP_{y,0}^i\\Delta y\n",
    "                                      + P_{x,0}^iP_{y,0}^i\\Delta x\\Delta y)\n",
    "\n",
    "\\end{align*}\n",
    "\n"
   ]
  },
  {
   "cell_type": "code",
   "execution_count": 11,
   "metadata": {
    "collapsed": false
   },
   "outputs": [
    {
     "data": {
      "text/latex": [
       "\n",
       "0.5t\n",
       "\n",
       "\\begin{align*}\n",
       "\\sum_i \\frac{1}{\\sigma^2}R_0^iP_{x,0}^i &= 0\\\\\n",
       "\\sum_i \\frac{1}{\\sigma^2}R_0^iP_{y,0}^i &= 0\\\\\n",
       "%\\sum_i \\frac{1}{\\sigma^2}P_{x,0}^iP_{y,0}^i\\Delta x\\Delta y &\\approx 0\\\\\n",
       "\\chi^2 &= \\sum_i \\frac{1}{\\sigma_i^2}((R_0^i)^2 + (P_{x,0}^i\\Delta x)^2 + (P_{y,0}^i\\Delta y)^2\n",
       "                                      + P_{x,0}^iP_{y,0}^i\\Delta x\\Delta y)\n",
       "\n",
       "\\end{align*}"
      ],
      "text/plain": [
       "<IPython.core.display.Latex object>"
      ]
     },
     "metadata": {},
     "output_type": "display_data"
    }
   ],
   "source": [
    "%%latex\n",
    "\n",
    "0.5t\n",
    "\n",
    "\\begin{align*}\n",
    "\\sum_i \\frac{1}{\\sigma^2}R_0^iP_{x,0}^i &= 0\\\\\n",
    "\\sum_i \\frac{1}{\\sigma^2}R_0^iP_{y,0}^i &= 0\\\\\n",
    "%\\sum_i \\frac{1}{\\sigma^2}P_{x,0}^iP_{y,0}^i\\Delta x\\Delta y &\\approx 0\\\\\n",
    "\\chi^2 &= \\sum_i \\frac{1}{\\sigma_i^2}((R_0^i)^2 + (P_{x,0}^i\\Delta x)^2 + (P_{y,0}^i\\Delta y)^2\n",
    "                                      + P_{x,0}^iP_{y,0}^i\\Delta x\\Delta y)\n",
    "\n",
    "\\end{align*}"
   ]
  },
  {
   "cell_type": "code",
   "execution_count": 42,
   "metadata": {
    "collapsed": false
   },
   "outputs": [
    {
     "data": {
      "text/latex": [
       "\n",
       "0.5u\n",
       "\n",
       "\\begin{align*}\n",
       "\\chi^2 &= \\sum_i \\frac{1}{\\sigma_i^2}((R_0^i)^2 + (P_{x,0}^i\\Delta x)^2 + (P_{y,0}^i\\Delta y)^2\n",
       "                                      + P_{x,0}^iP_{y,0}^i\\Delta x\\Delta y)\\\\\n",
       "\\chi^2 &= \\chi_0^2 + \\sum_i \\frac{1}{\\sigma_i^2}((P_{x,0}^i\\Delta x)^2 + (P_{y,0}^i\\Delta y)^2\n",
       "                                      + P_{x,0}^iP_{y,0}^i\\Delta x\\Delta y)\\\\\n",
       "&= A + \n",
       "\\left(\n",
       "\\begin{array}{c}\n",
       "\\Delta x & \\Delta y\n",
       "\\end{array}\n",
       "\\right)\n",
       "* B *\n",
       "\\left(\n",
       "\\begin{array}{cc}\n",
       "\\Delta x \\\\\n",
       "\\Delta y\n",
       "\\end{array}\n",
       "\\right)\\\\\n",
       "\n",
       "\\left(\n",
       "\\begin{array}{c}\n",
       "\\Delta x & \\Delta y\n",
       "\\end{array}\n",
       "\\right)\n",
       "\n",
       "\\left(\n",
       "\\begin{array}{cc}\n",
       "a & b\\\\\n",
       "c & d\\\\\n",
       "\\end{array}\n",
       "\\right) \n",
       "\n",
       "\\left(\n",
       "\\begin{array}{cc}\n",
       "\\Delta x \\\\\n",
       "\\Delta y\n",
       "\\end{array}\n",
       "\\right)\n",
       "&= (\\Delta x)^2 a + \\Delta x\\Delta y(b+c) + (\\Delta y)^2 d\\\\\n",
       "a &= P_{x,0}^i\\\\\n",
       "b + c &= P_{x,0}^iP_{y,0}^i\\\\\n",
       "b = c &= \\frac{1}{2}P_{x,0}^iP_{y,0}^i\\\\\n",
       "d &= P_{y,0}^i\\\\\n",
       "\n",
       "A &= \\chi_0^2\\\\\n",
       "B &= \n",
       "\\left(\n",
       "\\begin{array}{cc}\n",
       "P_{x,0}^i & \\frac{1}{2}P_{x,0}^iP_{y,0}^i\\\\\n",
       "\\frac{1}{2}P_{x,0}^iP_{y,0}^i & P_{y,0}^i\\\\\n",
       "\\end{array}\n",
       "\\right)\n",
       "\\end{align*}"
      ],
      "text/plain": [
       "<IPython.core.display.Latex object>"
      ]
     },
     "metadata": {},
     "output_type": "display_data"
    }
   ],
   "source": [
    "%%latex\n",
    "\n",
    "0.5u\n",
    "\n",
    "\\begin{align*}\n",
    "\\chi^2 &= \\sum_i \\frac{1}{\\sigma_i^2}((R_0^i)^2 + (P_{x,0}^i\\Delta x)^2 + (P_{y,0}^i\\Delta y)^2\n",
    "                                      + P_{x,0}^iP_{y,0}^i\\Delta x\\Delta y)\\\\\n",
    "\\chi^2 &= \\chi_0^2 + \\sum_i \\frac{1}{\\sigma_i^2}((P_{x,0}^i\\Delta x)^2 + (P_{y,0}^i\\Delta y)^2\n",
    "                                      + P_{x,0}^iP_{y,0}^i\\Delta x\\Delta y)\\\\\n",
    "&= A + \n",
    "\\left(\n",
    "\\begin{array}{c}\n",
    "\\Delta x & \\Delta y\n",
    "\\end{array}\n",
    "\\right)\n",
    "* B *\n",
    "\\left(\n",
    "\\begin{array}{cc}\n",
    "\\Delta x \\\\\n",
    "\\Delta y\n",
    "\\end{array}\n",
    "\\right)\\\\\n",
    "\n",
    "\\left(\n",
    "\\begin{array}{c}\n",
    "\\Delta x & \\Delta y\n",
    "\\end{array}\n",
    "\\right)\n",
    "\n",
    "\\left(\n",
    "\\begin{array}{cc}\n",
    "a & b\\\\\n",
    "c & d\\\\\n",
    "\\end{array}\n",
    "\\right) \n",
    "\n",
    "\\left(\n",
    "\\begin{array}{cc}\n",
    "\\Delta x \\\\\n",
    "\\Delta y\n",
    "\\end{array}\n",
    "\\right)\n",
    "&= (\\Delta x)^2 a + \\Delta x\\Delta y(b+c) + (\\Delta y)^2 d\\\\\n",
    "a &= P_{x,0}^i\\\\\n",
    "b + c &= P_{x,0}^iP_{y,0}^i\\\\\n",
    "b = c &= \\frac{1}{2}P_{x,0}^iP_{y,0}^i\\\\\n",
    "d &= P_{y,0}^i\\\\\n",
    "\n",
    "A &= \\chi_0^2\\\\\n",
    "B &= \n",
    "\\left(\n",
    "\\begin{array}{cc}\n",
    "P_{x,0}^i & \\frac{1}{2}P_{x,0}^iP_{y,0}^i\\\\\n",
    "\\frac{1}{2}P_{x,0}^iP_{y,0}^i & P_{y,0}^i\\\\\n",
    "\\end{array}\n",
    "\\right)\n",
    "\\end{align*}"
   ]
  },
  {
   "cell_type": "code",
   "execution_count": null,
   "metadata": {
    "collapsed": false
   },
   "outputs": [],
   "source": []
  },
  {
   "cell_type": "code",
   "execution_count": null,
   "metadata": {
    "collapsed": true
   },
   "outputs": [],
   "source": []
  },
  {
   "cell_type": "code",
   "execution_count": null,
   "metadata": {
    "collapsed": true
   },
   "outputs": [],
   "source": []
  }
 ],
 "metadata": {
  "anaconda-cloud": {},
  "kernelspec": {
   "display_name": "Python 3",
   "language": "python",
   "name": "python3"
  },
  "language_info": {
   "codemirror_mode": {
    "name": "ipython",
    "version": 3
   },
   "file_extension": ".py",
   "mimetype": "text/x-python",
   "name": "python",
   "nbconvert_exporter": "python",
   "pygments_lexer": "ipython3",
   "version": "3.5.1"
  }
 },
 "nbformat": 4,
 "nbformat_minor": 0
}
