{
 "cells": [
  {
   "cell_type": "markdown",
   "metadata": {},
   "source": [
    "0.5s) Error on fit parameters\n",
    "\n",
    "A taylor expantion on our Friss equation gives"
   ]
  },
  {
   "cell_type": "markdown",
   "metadata": {
    "collapsed": false
   },
   "source": [
    "$$ \\chi^2 = \\sum_i (\\frac{S_i-P_r^i(x,y)}{\\sigma_i})^2\\\\\n",
    "P_r^i(x,y) \\approx P_r^i(x_0,y_0)+\\frac{\\partial P_r^i(x_0,y_0)}{\\partial x}*(x-x_0)+\\frac{\\partial P_r^i(x_0,y_0)}{\\partial y}*(y-y_0)\\\\\n",
    "= P_0^i + P_{x,0}^i\\Delta x + P_{y,0}^i\\Delta y\\\\\n",
    "\\chi^2 = \\sum_i (\\frac{S_i-P_0^i + P_{x,0}^i\\Delta x + P_{y,0}^i\\Delta y}{\\sigma_i})^2\\\\\n",
    "S_i - P_0^i = R_0^i\\\\\n",
    "\\chi^2 = \\sum_i \\frac{1}{\\sigma_i^2}((R_0^i)^2 + (P_{x,0}^i\\Delta x)^2 + (P_{y,0}^i\\Delta y)^2 + R_0^iP_{x,0}^i\\Delta x + R_0^iP_{y,0}^i\\Delta y + P_{x,0}^iP_{y,0}^i\\Delta x\\Delta y) $$"
   ]
  },
  {
   "cell_type": "markdown",
   "metadata": {},
   "source": [
    "0.5t)\n",
    "\n",
    "Using that the x and y derivatives go to zero, we get:"
   ]
  },
  {
   "cell_type": "markdown",
   "metadata": {
    "collapsed": true
   },
   "source": [
    "$$\\sum_i \\frac{1}{\\sigma^2}R_0^iP_{x,0}^i = 0\\\\\n",
    "\\sum_i \\frac{1}{\\sigma^2}R_0^iP_{y,0}^i = 0\\\\\n",
    "%\\sum_i \\frac{1}{\\sigma^2}P_{x,0}^iP_{y,0}^i\\Delta x\\Delta y &\\approx 0\\\\\n",
    "\\chi^2 = \\sum_i \\frac{1}{\\sigma_i^2}((R_0^i)^2 + (P_{x,0}^i\\Delta x)^2 + (P_{y,0}^i\\Delta y)^2\n",
    "                                      + P_{x,0}^iP_{y,0}^i\\Delta x\\Delta y)$$"
   ]
  },
  {
   "cell_type": "markdown",
   "metadata": {},
   "source": [
    "0.5u)\n",
    "\n",
    "Writing this as a matrix equation"
   ]
  },
  {
   "cell_type": "code",
   "execution_count": 3,
   "metadata": {
    "collapsed": false
   },
   "outputs": [
    {
     "data": {
      "text/latex": [
       "\n",
       "\\begin{align*}\n",
       "\\chi^2 = \\sum_i \\frac{1}{\\sigma_i^2}((R_0^i)^2 + (P_{x,0}^i\\Delta x)^2 + (P_{y,0}^i\\Delta y)^2\n",
       "                                      + P_{x,0}^iP_{y,0}^i\\Delta x\\Delta y)\\\\\n",
       "\\chi^2 = \\chi_0^2 + \\sum_i \\frac{1}{\\sigma_i^2}((P_{x,0}^i\\Delta x)^2 + (P_{y,0}^i\\Delta y)^2\n",
       "                                      + P_{x,0}^iP_{y,0}^i\\Delta x\\Delta y)\\\\\n",
       "= A + \n",
       "\\left(\n",
       "\\begin{array}{c}\n",
       "\\Delta x & \\Delta y\n",
       "\\end{array}\n",
       "\\right)\n",
       "* B *\n",
       "\\left(\n",
       "\\begin{array}{cc}\n",
       "\\Delta x \\\\\n",
       "\\Delta y\n",
       "\\end{array}\n",
       "\\right)\\\\\n",
       "\n",
       "\\left(\n",
       "\\begin{array}{c}\n",
       "\\Delta x & \\Delta y\n",
       "\\end{array}\n",
       "\\right)\n",
       "\n",
       "\\left(\n",
       "\\begin{array}{cc}\n",
       "a & b\\\\\n",
       "c & d\\\\\n",
       "\\end{array}\n",
       "\\right) \n",
       "\n",
       "\\left(\n",
       "\\begin{array}{cc}\n",
       "\\Delta x \\\\\n",
       "\\Delta y\n",
       "\\end{array}\n",
       "\\right)\n",
       "= (\\Delta x)^2 a + \\Delta x\\Delta y(b+c) + (\\Delta y)^2 d\\\\\n",
       "a = P_{x,0}^i\\\\\n",
       "b + c = P_{x,0}^iP_{y,0}^i\\\\\n",
       "b = c = \\frac{1}{2}P_{x,0}^iP_{y,0}^i\\\\\n",
       "d = P_{y,0}^i\\\\\n",
       "\n",
       "A = \\chi_0^2\\\\\n",
       "B = \n",
       "\\left(\n",
       "\\begin{array}{cc}\n",
       "P_{x,0}^i & \\frac{1}{2}P_{x,0}^iP_{y,0}^i\\\\\n",
       "\\frac{1}{2}P_{x,0}^iP_{y,0}^i & P_{y,0}^i\\\\\n",
       "\\end{array}\n",
       "\\right)\n",
       "\n",
       "\\end{align*}"
      ],
      "text/plain": [
       "<IPython.core.display.Latex object>"
      ]
     },
     "metadata": {},
     "output_type": "display_data"
    }
   ],
   "source": [
    "%%latex\n",
    "\n",
    "\\begin{align*}\n",
    "\\chi^2 = \\sum_i \\frac{1}{\\sigma_i^2}((R_0^i)^2 + (P_{x,0}^i\\Delta x)^2 + (P_{y,0}^i\\Delta y)^2\n",
    "                                      + P_{x,0}^iP_{y,0}^i\\Delta x\\Delta y)\\\\\n",
    "\\chi^2 = \\chi_0^2 + \\sum_i \\frac{1}{\\sigma_i^2}((P_{x,0}^i\\Delta x)^2 + (P_{y,0}^i\\Delta y)^2\n",
    "                                      + P_{x,0}^iP_{y,0}^i\\Delta x\\Delta y)\\\\\n",
    "= A + \n",
    "\\left(\n",
    "\\begin{array}{c}\n",
    "\\Delta x & \\Delta y\n",
    "\\end{array}\n",
    "\\right)\n",
    "* B *\n",
    "\\left(\n",
    "\\begin{array}{cc}\n",
    "\\Delta x \\\\\n",
    "\\Delta y\n",
    "\\end{array}\n",
    "\\right)\\\\\n",
    "\n",
    "\\left(\n",
    "\\begin{array}{c}\n",
    "\\Delta x & \\Delta y\n",
    "\\end{array}\n",
    "\\right)\n",
    "\n",
    "\\left(\n",
    "\\begin{array}{cc}\n",
    "a & b\\\\\n",
    "c & d\\\\\n",
    "\\end{array}\n",
    "\\right) \n",
    "\n",
    "\\left(\n",
    "\\begin{array}{cc}\n",
    "\\Delta x \\\\\n",
    "\\Delta y\n",
    "\\end{array}\n",
    "\\right)\n",
    "= (\\Delta x)^2 a + \\Delta x\\Delta y(b+c) + (\\Delta y)^2 d\\\\\n",
    "a = P_{x,0}^i\\\\\n",
    "b + c = P_{x,0}^iP_{y,0}^i\\\\\n",
    "b = c = \\frac{1}{2}P_{x,0}^iP_{y,0}^i\\\\\n",
    "d = P_{y,0}^i\\\\\n",
    "\n",
    "A = \\chi_0^2\\\\\n",
    "B = \n",
    "\\left(\n",
    "\\begin{array}{cc}\n",
    "P_{x,0}^i & \\frac{1}{2}P_{x,0}^iP_{y,0}^i\\\\\n",
    "\\frac{1}{2}P_{x,0}^iP_{y,0}^i & P_{y,0}^i\\\\\n",
    "\\end{array}\n",
    "\\right)\n",
    "\n",
    "\\end{align*}"
   ]
  },
  {
   "cell_type": "markdown",
   "metadata": {},
   "source": [
    "0.5v)\n",
    "\n",
    "To find the maximal $\\Delta x$ to raise $\\chi^2$ by one, the $\\Delta y$ and $\\chi_0^2$ have to be zero. \n",
    "Also the $\\Delta x$ will be maximal, if the complete $\\chi^2$ value is caused by one router."
   ]
  },
  {
   "cell_type": "markdown",
   "metadata": {
    "collapsed": false
   },
   "source": [
    "$$\\chi^2 = \\sum_i \\frac{1}{\\sigma_i^2}(P_{x,0}^i\\Delta x)^2 = 1\\\\\n",
    "\\chi^2 = \\frac{1}{\\sigma_i^2}(P_{x,0}^i\\Delta x)^2 = 1\\\\\n",
    "(\\frac{\\sigma_i}{P_{x,0}^i})^2 = (\\Delta x)^2\\\\\n",
    "\\Delta x = \\pm \\frac{\\sigma_i}{P_{x,0}^i}\\\\\n",
    "\\text{The same procedure gives:}\\\\\n",
    "\\Delta y = \\pm \\frac{\\sigma_i}{P_{y,0}^i}$$"
   ]
  },
  {
   "cell_type": "markdown",
   "metadata": {
    "collapsed": true
   },
   "source": [
    "0.5w) \n",
    "$$\\frac{\\partial P_r}{\\partial x}= \\frac{\\partial}{\\partial x}(P_t)+20 \\times \\log_{10}(\\frac{c}{4\\pi f})-20\\log_{10}(r^2) )\\\\\n",
    "= \\frac{\\partial}{\\partial x} (-10 \\times \\frac{\\ln (r^2)}{\\ln (10)})\\\\\n",
    "= \\frac{-10}{\\ln (10)}\\times \\frac{1}{r^2}\\times \\frac{\\partial r^2 }{\\partial x}\\\\\n",
    "r = (x-x_i)^2+(y-y_i)^2+Z^2\\\\\n",
    "\\frac{\\partial r^2}{\\partial x} = 2(x-x_i) = 2 \\Delta x\\\\\n",
    "\\Rightarrow \\frac{\\partial P_r}{\\partial x}=\\frac{-10}{\\ln (10)} \\times \\frac{2\\Delta x}{r^2}$$\n",
    "and in the same way:\n",
    "$$\\Rightarrow \\frac{\\partial P_r}{\\partial y}=\\frac{-10}{\\ln (10)} \\times \\frac{2\\Delta y}{r^2}$$"
   ]
  },
  {
   "cell_type": "code",
   "execution_count": 4,
   "metadata": {
    "collapsed": false
   },
   "outputs": [],
   "source": [
    "import numpy as np\n",
    "import math\n",
    "from scipy.optimize import minimize\n",
    "import matplotlib.pyplot as plt\n",
    "from matplotlib.patches import Ellipse\n",
    "import numpy.random as rnd\n",
    "\n",
    "# Constants\n",
    "P_t = 0\n",
    "c = 299792458\n",
    "f = 2.4 * 10**9\n",
    "Z = 2 # height of router - height of device\n",
    "\n",
    "routers = [(0,0), (0,20), (20,20), (20, 0)]\n",
    "S_x = 5\n",
    "S_y = 5\n",
    "sigma = 1\n",
    "\n",
    "def P_r(r):\n",
    "    # Friss function for actual signal at router\n",
    "    P_r = P_t + 20 * np.log10(c / (4* np.pi* f* r))\n",
    "    return P_r\n",
    "\n",
    "def getR(S_x, S_y, x_i, y_i):\n",
    "    # Get R from x-, y-, z values\n",
    "    return math.sqrt((S_x - x_i)**2 + (S_y - y_i)**2 + Z**2)\n",
    "\n",
    "def SiToR(Si):\n",
    "    # Get radius from measured signal\n",
    "    return c/(4*math.pi*f*10**(Si/20.0))\n",
    "    \n",
    "def calculate_S_is(S_x, S_y, routers, sigma):\n",
    "    # Construct a measured signal from acual signal plus\n",
    "    # gaussian noise\n",
    "    Sis = []\n",
    "    for (x_i, y_i) in routers:\n",
    "        package_noise = np.random.normal(0, sigma, 1)[0]\n",
    "        S_r = getR(S_x, S_y, x_i, y_i)\n",
    "        S_i = P_r(S_r) + package_noise\n",
    "        Sis.append(S_i)\n",
    "    return Sis\n",
    "\n",
    "def locationScore(xy):\n",
    "    # Function that scores the goodness of the \n",
    "    # current xy position for optimize function\n",
    "    x, y = xy\n",
    "    score = 0\n",
    "    for n, r in enumerate(routers):\n",
    "        routerx = r[0]\n",
    "        routery = r[1]\n",
    "        tryRadial2 = (x - routerx)**2 + (y - routery)**2\n",
    "        score += (radials[n]**2 - tryRadial2)**2\n",
    "    return score\n",
    "\n",
    "def getError(d, r):\n",
    "    # Get error on one delta x or delta y (d) value\n",
    "    # r is the radius\n",
    "    return -20/math.log(10)*d/r\n",
    "\n",
    "# Simulate wifi packet (plus noise) and \n",
    "# triangulate onto the position\n",
    "Sis = calculate_S_is(S_x, S_y, routers, sigma)\n",
    "radials = [SiToR(Si) for Si in Sis]\n",
    "triangulate = minimize(locationScore, [10,10])\n",
    "measuredx, measuredy = triangulate.x\n",
    "\n",
    "# Calculate the x and y errors (for ellipses)\n",
    "xerror, yerror = 0, 0\n",
    "for router in routers:\n",
    "    x, y = router\n",
    "    deltax = x - measuredx\n",
    "    deltay = y - measuredy\n",
    "    r = getR(measuredx, measuredy, x, y)\n",
    "    xerror += getError(deltax, r)\n",
    "    yerror += getError(deltay, r)\n",
    "\n",
    "# Plot ellipse\n",
    "fig = plt.figure(0)\n",
    "ax = fig.add_subplot(111, aspect='equal')\n",
    "e = Ellipse(xy=(measuredx, measuredy), width=xerror, height=yerror)\n",
    "e.set_alpha(0.3)\n",
    "e.set_facecolor(rnd.rand(3))\n",
    "ax.add_artist(e)\n",
    "\n",
    "# Plot actual send point\n",
    "ax.plot([S_x, measuredx], [S_y, measuredy], 'ro')\n",
    "\n",
    "ax.set_xlim(0, 20)\n",
    "ax.set_ylim(0, 20)\n",
    "plt.show()"
   ]
  },
  {
   "cell_type": "code",
   "execution_count": null,
   "metadata": {
    "collapsed": false
   },
   "outputs": [],
   "source": []
  },
  {
   "cell_type": "code",
   "execution_count": null,
   "metadata": {
    "collapsed": true
   },
   "outputs": [],
   "source": []
  },
  {
   "cell_type": "code",
   "execution_count": null,
   "metadata": {
    "collapsed": true
   },
   "outputs": [],
   "source": []
  }
 ],
 "metadata": {
  "anaconda-cloud": {},
  "kernelspec": {
   "display_name": "Python 3",
   "language": "python",
   "name": "python3"
  },
  "language_info": {
   "codemirror_mode": {
    "name": "ipython",
    "version": 3
   },
   "file_extension": ".py",
   "mimetype": "text/x-python",
   "name": "python",
   "nbconvert_exporter": "python",
   "pygments_lexer": "ipython3",
   "version": "3.5.1"
  }
 },
 "nbformat": 4,
 "nbformat_minor": 0
}
