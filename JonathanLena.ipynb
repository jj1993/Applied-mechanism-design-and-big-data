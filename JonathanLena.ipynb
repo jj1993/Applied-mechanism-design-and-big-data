{
 "cells": [
  {
   "cell_type": "markdown",
   "metadata": {},
   "source": [
    "# 0.1 Poisson Processes"
   ]
  },
  {
   "cell_type": "markdown",
   "metadata": {},
   "source": [
    "### 0.1a"
   ]
  },
  {
   "cell_type": "markdown",
   "metadata": {},
   "source": [
    "$$\n",
    "P(arrival) = p\\Delta t\\\\\n",
    "P(no-arrival) = 1 - p\\Delta t\n",
    "$$"
   ]
  },
  {
   "cell_type": "markdown",
   "metadata": {},
   "source": [
    "### 0.1b"
   ]
  },
  {
   "cell_type": "markdown",
   "metadata": {},
   "source": [
    "$$\n",
    "P(n| t + \\Delta t, t_0) = P(arrival)P(n-1| t, t_0) + P(no-arrival)P(n| t, t_0)\\\\\n",
    "P(n| t + \\Delta t, t_0) = p\\Delta t\\times P(n-1| t, t_0) + (1-p\\Delta t)\\times P(n| t, t_0)\n",
    "$$"
   ]
  },
  {
   "cell_type": "markdown",
   "metadata": {},
   "source": [
    "### 0.1c"
   ]
  },
  {
   "cell_type": "markdown",
   "metadata": {},
   "source": [
    "$$\n",
    "\\frac{dP(n| t, t_0)}{dt} = \\frac{P(n| t + \\Delta t, t_0) - P(n| t, t_0)}{\\Delta t}\\\\\n",
    "= \\frac{p\\Delta t* P(n-1| t, t_0) + (1-p\\Delta t)\\times P(n| t, t_0) - P(n| t, t_0)}{\\Delta t}\\\\\n",
    "= pP(n-1| t, t_0) -pP(n| t, t_0)\n",
    "$$"
   ]
  },
  {
   "cell_type": "markdown",
   "metadata": {},
   "source": [
    "### 0.1d"
   ]
  },
  {
   "cell_type": "markdown",
   "metadata": {},
   "source": [
    "$$\n",
    "P(0| t, t_0) = P(no-arrival)P(0| t, t_0)\\\\\n",
    "P(0| t, t_0) = (1-p\\Delta t)P(0| t, t_0)\\\\\n",
    "\\frac{dP(0| t, t_0)}{dt} = \\frac{P(0| t + \\Delta t, t_0) - P(0| t, t_0)}{\\Delta t}\\\\\n",
    "= \\frac{(1-p\\Delta t)\\times P(0| t, t_0) - P(0| t, t_0)}{\\Delta t}\\\\\n",
    "= -pP(0| t, t_0)\n",
    "$$"
   ]
  },
  {
   "cell_type": "markdown",
   "metadata": {},
   "source": [
    "### 0.1e"
   ]
  },
  {
   "cell_type": "markdown",
   "metadata": {},
   "source": [
    "The $A_n(t)$ terms should be normalised for $P(n|t,t_0)$ to represent a probability distribution. Imposing the normalisation condition we derive the $A_n(t)$ values.\n",
    "\n",
    "$$\n",
    "\\sum_n P(n|t,t_0) = \\sum_n A_n(t)e^{-p(t-t_0)} = 1\\\\\n",
    "\\sum_n A_n(t) =  e^{p(t-t_0)} = \\sum_n \\frac{(p(t-t_0))^n}{n!}\\\\\n",
    "A_n(t) = \\frac{(p(t-t_0))^n}{n!}\\\\\n",
    "P(n|t,t_0) = \\frac{(p(t-t_0))^n}{n!}e^{-p(t-t_0)}\n",
    "$$"
   ]
  },
  {
   "cell_type": "markdown",
   "metadata": {},
   "source": [
    "Now whats left is to prove that this ansatz satisfies the differential equations.\n",
    "\n",
    "$$\n",
    "\\frac{dP(n|t,t_0)}{dt} = n\\frac{p^n(t-t_0)^{n-1}}{n!}e^{-p(t-t_0)} -p\\frac{(p(t-t_0))^n}{n!}e^{-p(t-t_0)}\\\\\n",
    "= p\\frac{(p(t-t_0))^{n-1}}{(n-1)!}e^{-p(t-t_0)} -p\\frac{(p(t-t_0))^n}{n!}e^{-p(t-t_0)}\\\\\n",
    "= pP(n-1|t,t_0) - pP(n|t,t_0)\n",
    "$$\n",
    "\n",
    "Quod erat demonstrandum"
   ]
  },
  {
   "cell_type": "markdown",
   "metadata": {},
   "source": [
    "### 0.1f"
   ]
  },
  {
   "cell_type": "markdown",
   "metadata": {},
   "source": [
    "This distribution is a Poisson distribution, defined as\n",
    "\n",
    "$$\n",
    "P = \\frac{\\lambda^ne^{-\\lambda}}{n!}\n",
    "$$\n",
    "\n",
    "Where $\\lambda$ is the expectation value. Now our equation is already in this form, with $\\lambda = p(t-t_0)$."
   ]
  },
  {
   "cell_type": "markdown",
   "metadata": {},
   "source": [
    "### 0.1g"
   ]
  },
  {
   "cell_type": "markdown",
   "metadata": {},
   "source": [
    "To find the maximum amount of people likely to come to the party, we impose the boundaries\n",
    "\n",
    "$$\n",
    "P(n|t,t_0) > P(n-1|t,t_0)\\\\\n",
    "A_n(t) > A_{n-1}(t)\\\\\n",
    "\\frac{(p(t-t_0))^n}{n!} > \\frac{(p(t-t_0))^{n-1}}{(n-1)!}\\\\\n",
    "\\frac{p(t-t_0)}{n} > 1\n",
    "$$\n",
    "And the other boundary:\n",
    "$$\n",
    "P(n|t,t_0) > P(n+1|t,t_0)\\\\\n",
    "A_n(t) > A_{n+1}(t)\\\\\n",
    "\\frac{(p(t-t_0))^n}{n!} > \\frac{(p(t-t_0))^{n+1}}{(n+1)!}\\\\\n",
    "1 > \\frac{p(t-t_0)}{n-1}\n",
    "$$\n",
    "So that we get\n",
    "$$\n",
    "p(t - t_0) - 1 < n < p(t-t_0)\n",
    "$$\n",
    "\n",
    "This interval contains exactly one integer value, representing the amount of people maximaly likely to arrive"
   ]
  },
  {
   "cell_type": "markdown",
   "metadata": {},
   "source": [
    "### 0.1h"
   ]
  },
  {
   "cell_type": "code",
   "execution_count": 5,
   "metadata": {
    "collapsed": false
   },
   "outputs": [
    {
     "name": "stderr",
     "output_type": "stream",
     "text": [
      "/Users/lena/anaconda3/lib/python3.5/site-packages/matplotlib/figure.py:397: UserWarning: matplotlib is currently using a non-GUI backend, so cannot show the figure\n",
      "  \"matplotlib is currently using a non-GUI backend, \"\n"
     ]
    },
    {
     "data": {
      "image/png": "[encoded data removed]",
      "text/plain": [
       "<matplotlib.figure.Figure at 0x10400ec50>"
      ]
     },
     "metadata": {},
     "output_type": "display_data"
    }
   ],
   "source": [
    "import random\n",
    "import matplotlib.mlab as mlab\n",
    "import matplotlib.pyplot as plt\n",
    "from scipy.stats import poisson\n",
    "\n",
    "%matplotlib inline\n",
    "\n",
    "def visitors_in_hour(p):\n",
    "    visitors = 0\n",
    "    for t in range(60):\n",
    "        if p >= random.random():\n",
    "            visitors += 1\n",
    "    return visitors\n",
    "\n",
    "fig = plt.figure()\n",
    "p=0.5\n",
    "experiment_list = []\n",
    "for i in range(10000):\n",
    "    experiment_list.append(visitors_in_hour(p))\n",
    "bin_count = max(experiment_list) - min(experiment_list)\n",
    "n, bins, patches = plt.hist(experiment_list, bin_count, normed=True, facecolor='green', alpha=0.75)\n",
    "\n",
    "\n",
    "mu = p*(60)\n",
    "dist = poisson(mu)\n",
    "x = range(min(experiment_list), max(experiment_list))\n",
    "poi = [dist.pmf(i) for i in x]\n",
    "plt.plot(x, poi, c='red')\n",
    "fig.show()"
   ]
  },
  {
   "cell_type": "markdown",
   "metadata": {
    "collapsed": true
   },
   "source": [
    "### 0.1i"
   ]
  },
  {
   "cell_type": "code",
   "execution_count": 6,
   "metadata": {
    "collapsed": false
   },
   "outputs": [
    {
     "name": "stderr",
     "output_type": "stream",
     "text": [
      "/Users/lena/anaconda3/lib/python3.5/site-packages/matplotlib/figure.py:397: UserWarning: matplotlib is currently using a non-GUI backend, so cannot show the figure\n",
      "  \"matplotlib is currently using a non-GUI backend, \"\n"
     ]
    },
    {
     "data": {
      "image/png": "[encoded data removed]",
      "text/plain": [
       "<matplotlib.figure.Figure at 0x10400e7b8>"
      ]
     },
     "metadata": {},
     "output_type": "display_data"
    }
   ],
   "source": [
    "def visitors_in_hour_per_second(p):\n",
    "    visitors = 0\n",
    "    for t in range(60*60):\n",
    "        if p >= random.random():\n",
    "            visitors += 1\n",
    "    return visitors\n",
    "\n",
    "fig = plt.figure()\n",
    "experiment_list = []\n",
    "p=0.5/60\n",
    "for i in range(10000):\n",
    "    experiment_list.append(visitors_in_hour_per_second(p))\n",
    "bin_count = max(experiment_list) - min(experiment_list)\n",
    "n, bins, patches = plt.hist(experiment_list, bin_count, normed=True, facecolor='green', alpha=0.75)\n",
    "\n",
    "mu = p*(60*60-0)\n",
    "dist = poisson(mu)\n",
    "x = range(min(experiment_list), max(experiment_list))\n",
    "poi = [dist.pmf(i) for i in x]\n",
    "plt.plot(x, poi, c='red')\n",
    "fig.show()"
   ]
  },
  {
   "cell_type": "markdown",
   "metadata": {},
   "source": [
    "Q: Why are the two simulated distributions not the same? Which one is more accurate? And why?\n",
    "A: The second is more accurate. This is caused byt the fact that we generate more random values, such that every value becomes less important (has less impact) but rahter the mass of it."
   ]
  },
  {
   "cell_type": "markdown",
   "metadata": {},
   "source": [
    "### 0.1j\n",
    "\n",
    "$$ dtP(t|n,t_0)=  dtP(n|t,t_0) pdt=dt \\frac{p(pt-t_0)^{n-1}e^{-p(t-t_0)}}{(n-1)!} $$"
   ]
  },
  {
   "cell_type": "markdown",
   "metadata": {},
   "source": [
    "## 0.1k\n",
    "$$P(t;1, t_0) = pe^{-p(t-t_0)}$$\n",
    "The general form of an exponential distribution is:\n",
    "$$f(x)=\\lambda e^{-\\lambda x}$$\n",
    "So using pattern matching with the given distribution, we find:\n",
    "$$p=\\lambda$$\n",
    "As the mean of the genral form of an exponential distribution is:\n",
    "$$\\lambda^{-1}$$ the mean of this distribution is $$p^{-1}$$\n"
   ]
  },
  {
   "cell_type": "markdown",
   "metadata": {},
   "source": [
    "## 0.1l\n",
    "\n",
    "$$\n",
    "\\int_{t_0}^{t_2}P(t_1;1,t_0)P(t_2;2,t_1)dt_1\n",
    "=\\int_{t_0}^{t_2}\\frac{p(p(t_1-t_0))^{1-1}e^{-p(t_1-t_0)}}{(1-1)!}\\times\\frac{p(p(t_2-t_1))^{2-1}e^{-p(t_2-t_1)}}{(2-1)!}dt_1\\\\\n",
    "=\\int_{t_0}^{t_2}\\frac{p(p(t_1-t_0))^{0}e^{-p(t_1-t_0)}}{(0)!}\\times\\frac{p(p(t_2-t_1))^{1}e^{-p(t_2-t_1)}}{(1)!}dt_1\\\\\n",
    "=\\int_{t_0}^{t_2}pe^{-p(t_1-t_0)}\\times p(p(t_2-t_1))e^{-p(t_2-t_1)}dt_1\\\\\n",
    "=\\int_{t_0}^{t_2}p(p(t_2-t_1))e^{-p(t_1-t_0 + t_2-t_1)}dt_1\\\\\n",
    "=\\int_{t_0}^{t_2}p(p(t_2-t_1))e^{-p(t_2-t_0)}dt_1\\\\\n",
    "=pe^{-p(t_2-t_0)}\\int_{t_0}^{t_2}p(t_2-t_1)dt_1\\\\\n",
    "=pe^{-p(t_2-t_0)}[\\frac{(p(t_2-t_1))^2}{2}]_{t_0}^{t_2}\\\\\n",
    "=pe^{-p(t_2-t_0)}[\\frac{(p(t_2-t_2))^2}{2}-\\frac{(p(t_2-t_0))^2}{2}]\\\\\n",
    "=-\\frac{p(p(t_2-t_0))^2e^{-p(t_2-t_0)}}{2}\\\\\n",
    "=-P(t_2;2,t_0)\n",
    "$$"
   ]
  },
  {
   "cell_type": "markdown",
   "metadata": {},
   "source": [
    "## 0.1 m\n"
   ]
  },
  {
   "cell_type": "code",
   "execution_count": 7,
   "metadata": {
    "collapsed": false
   },
   "outputs": [
    {
     "name": "stdout",
     "output_type": "stream",
     "text": [
      "Times generated: 309448\n"
     ]
    },
    {
     "name": "stderr",
     "output_type": "stream",
     "text": [
      "/Users/lena/anaconda3/lib/python3.5/site-packages/matplotlib/figure.py:397: UserWarning: matplotlib is currently using a non-GUI backend, so cannot show the figure\n",
      "  \"matplotlib is currently using a non-GUI backend, \"\n"
     ]
    },
    {
     "data": {
      "image/png": "[encoded data removed]",
      "text/plain": [
       "<matplotlib.figure.Figure at 0x104016a58>"
      ]
     },
     "metadata": {},
     "output_type": "display_data"
    }
   ],
   "source": [
    "import numpy as np\n",
    "times = []\n",
    "def exponential_pdf_visitors_one_hour(p):\n",
    "    visitors = 0\n",
    "    time = 0\n",
    "    while time < 60:\n",
    "        t = np.random.exponential(1/p)\n",
    "        time += t\n",
    "        times.append(t)\n",
    "        visitors += 1\n",
    "    return visitors-1\n",
    "        \n",
    "        \n",
    "fig = plt.figure()\n",
    "p=0.5\n",
    "visitors_list = []\n",
    "for i in range(10000):\n",
    "    visitors = exponential_pdf_visitors_one_hour(p)\n",
    "    visitors_list.append(visitors)\n",
    "n, bins, patches = plt.hist(experiment_list, bin_count, normed=True, facecolor='green', alpha=0.75)\n",
    "\n",
    "print(\"Times generated:\",len(times))\n",
    "\n",
    "\n",
    "mu = p*(60-0)\n",
    "dist = poisson(mu)\n",
    "x = range(min(visitors_list), max(visitors_list))\n",
    "poi = [dist.pmf(i) for i in x]\n",
    "plt.plot(x, poi, c='red')\n",
    "fig.show()"
   ]
  },
  {
   "cell_type": "markdown",
   "metadata": {},
   "source": [
    "## 0.1n\n",
    "Times generated: 309685\n",
    "\n",
    "Number of steps in i): 600000\n",
    "\n",
    "Therefore the number of times generated is roughly 600000/2"
   ]
  },
  {
   "cell_type": "markdown",
   "metadata": {
    "collapsed": true
   },
   "source": [
    " ### 0.1o\n",
    " \n",
    "$$\n",
    "\\int_{t_0}^{t}P(n;t_n,t_0)P(t;0,t_n)dt_n\n",
    "=\\int_{t_0}^{t}\\frac{p(p(t_n-t_0))^{n-1}e^{-p(t_n-t_0)}}{(n-1)!}\\times pe^{-p(t-t_n)}dt_n\\\\\n",
    "=\\int_{t_0}^{t}\\frac{p(p(t_n-t_0))^{n-1}pe^{-p(t_n-t_0+t-t_n)}}{(n-1)!}dt_n\\\\\n",
    "=\\int_{t_0}^{t}\\frac{p(p(t_n-t_0))^{n-1}pe^{-p(t-t_0)}}{(n-1)!}dt_n\\\\\n",
    "=\\frac{pp^{n-1}pe^{-p(t-t_0)}}{(n-1)!}\\int_{t_0}^{t}(t_n-t_0)^{n-1}dt_n\\\\\n",
    "=\\frac{pp^{n}e^{-p(t-t_0)}}{(n-1)!}[\\frac{(t_n-t_0)^{n}}{n}]_{t_0}^{t}\\\\\n",
    "=\\frac{pp^{n}e^{-p(t-t_0)}}{(n-1)!}\\frac{(t-t_0)^{n}}{n}\\\\\n",
    "=\\frac{p(p(t-t_0))^{n}e^{-p(t-t_0)}}{n!}\\\\\n",
    "=P(n;t,t_0)\n",
    "$$"
   ]
  },
  {
   "cell_type": "markdown",
   "metadata": {
    "collapsed": true
   },
   "source": [
    "## 0.2)"
   ]
  },
  {
   "cell_type": "markdown",
   "metadata": {},
   "source": [
    "### 0.2a\n"
   ]
  },
  {
   "cell_type": "markdown",
   "metadata": {},
   "source": [
    "Since for the expression of $P(n|t+\\Delta t, t_0)$ we used p(t) and not $p(t + \\Delta t)$, the differential equations remain the same. Since the time dependence of the equation changed we have to formulate a new anzats to match our differential equation $\\frac{dP(n|t,t_0)}{dt} = -p(t)P(n|t,t_0) + p(t)P(n-1|t,t_0)$. As an anzats we take the general form of the Poisson distribution solution with a time dependent $\\lambda(t)$.\\\\\n",
    "\n",
    "$$\n",
    "P(n|t,t_0) = \\frac{\\lambda(t)^ne^{-\\lambda(t)}}{n!}\\\\\n",
    "\\frac{dP(n|t,t_0)}{dt} = \\frac{d\\lambda}{dt} (\\frac{n\\lambda(t)^{n-1}e^{-\\lambda(t)}}{n!} - \\frac{\\lambda(t)^ne^{-\\lambda(t)}}{n!})\\\\\n",
    "= \\frac{d\\lambda}{dt} \\frac{\\lambda(t)^{n-1}e^{-\\lambda(t)}}{(n-1)!} - \\frac{d\\lambda}{dt}\\frac{\\lambda(t)^ne^{-\\lambda(t)}}{n!})\\\\\n",
    "= -\\frac{d\\lambda}{dt}P(n|t,t_0) + \\frac{d\\lambda}{dt}P(n-1|t,t_0))\\\\\n",
    "= -pP(n|t,t_0) + pP(n-1|t,t_0)\\\\\n",
    "\\frac{d\\lambda}{dt} = p(t)\\\\\n",
    "\\lambda = \\int_{t_0}^tp(t)dt\n",
    "$$\n",
    "\n",
    "Now if we keep p constant over time we get $\\lambda = \\int_{t_0}^tp(t)dt = p(t - t_0)$, which was our original result for constant p!"
   ]
  },
  {
   "cell_type": "markdown",
   "metadata": {},
   "source": [
    "### 0.2b\n",
    "\n",
    "$$\n",
    "P(0|\\infty,t_0) = \\frac{\\lambda(\\infty)^0e^{-\\lambda(\\infty)}}{0!}\\\\\n",
    "= e^{-\\lambda(\\infty)}\\\\\n",
    "\\lambda(\\infty) = \\int_{t_0}^{\\infty}p(t)dt\n",
    "$$\n",
    "\n",
    "This chance goes to 0 for $\\lambda \\rightarrow \\infty$. If we would take p(t) = constant, then $\\lambda = \\infty$ and $P(0|\\infty,t_0) = 0$, but if we take a p(t) that will give us a non-infinitely large $\\lambda$ value ($p(t) = 1$, for $0 < t < 1$, $p(t) = 0$ otherwise, for example) our $P(0|\\infty,t_0) \\neq 0$. "
   ]
  },
  {
   "cell_type": "markdown",
   "metadata": {},
   "source": [
    "## 0.2c\n",
    "$$\n",
    "P(t|n,t_0) = p(t)P(n-1|t,t_0)\\\\\n",
    "= p(t)\\frac{\\lambda(t)^{n-1}e^{-\\lambda(t)}}{(n-1)!}\n",
    "$$"
   ]
  },
  {
   "cell_type": "markdown",
   "metadata": {},
   "source": [
    "## 0.2d\n",
    "$$\n",
    "P(t_2|2,t_0) = \\int_{t_0}^{t_2} P(t_1|1,t_0)P(t_2|2,t_1)dt_1 \\\\\n",
    "= \\int_{t_0}^{t_2} p(t_1)e^{-\\int_{t_0}^{t_1} p(s)ds}p(t_2)e^{-\\int_{t_1}^{t_2} p(s)ds}dt_1\\\\\n",
    "= p(t_2)\\int_{t_0}^{t_1} p(t_1)e^{-(\\int_{t_0}^{t_2} p(s)ds+\\int_{t_1}^{t_2} p(s)ds)}dt_1\\\\\n",
    "= p(t_2)e^{-\\int_{t_0}^{t_2} p(s)ds}\\int_{t_0}^{t_2} p(t_1)dt_1\\\\\n",
    "= p(t_2)\\lambda(t_2)e^{-\\lambda(t_2)}\\\\\n",
    "= p(t_2)\\frac{\\lambda(t_2)^{n-1}e^{-\\lambda(t_2)}}{(n-1)!}, \\text{for }n = 2\n",
    "$$"
   ]
  },
  {
   "cell_type": "markdown",
   "metadata": {},
   "source": [
    "## 0.2e"
   ]
  },
  {
   "cell_type": "code",
   "execution_count": 12,
   "metadata": {
    "collapsed": false
   },
   "outputs": [
    {
     "data": {
      "image/png": "[encoded data removed]",
      "text/plain": [
       "<matplotlib.figure.Figure at 0x110a224a8>"
      ]
     },
     "metadata": {},
     "output_type": "display_data"
    }
   ],
   "source": [
    "import math\n",
    "\n",
    "pt = {18:0.1,\n",
    "      19:0.2,\n",
    "      20:0.3,\n",
    "      21:0.4,\n",
    "      22:0.5,\n",
    "      23:0.6,\n",
    "      0:0.3,\n",
    "      1:0.1}\n",
    "\n",
    "def nth_visitor_arrival(n, t0, t):\n",
    "    l = lambda_function(t0, t)\n",
    "    hour = get_hour(t)\n",
    "    return (pt[hour] * math.pow(l,n-1) * math.exp(-l))/math.factorial(n-1)\n",
    "\n",
    "def get_hour(minute):\n",
    "    return (18+math.floor(minute/60))%24\n",
    "\n",
    "def get_rate(minute):\n",
    "    return pt[get_hour(minute)]\n",
    "\n",
    "def lambda_function(t0, t):\n",
    "    result = 0\n",
    "    for minute in range(t0, t):\n",
    "        hour = get_hour(minute)\n",
    "        rate = pt[hour]\n",
    "        result += rate\n",
    "    return result\n",
    "\n",
    "\n",
    "results = []\n",
    "for minute in range(60*len(pt)):\n",
    "    result =nth_visitor_arrival(1, 0, minute)\n",
    "    results.append(result)\n",
    "\n",
    "plt.plot(results)\n",
    "\n",
    "\n",
    "plt.show()"
   ]
  },
  {
   "cell_type": "markdown",
   "metadata": {},
   "source": [
    "## 0.2f"
   ]
  },
  {
   "cell_type": "code",
   "execution_count": 13,
   "metadata": {
    "collapsed": false
   },
   "outputs": [
    {
     "data": {
      "image/png": "[encoded data removed]",
      "text/plain": [
       "<matplotlib.figure.Figure at 0x1110b4748>"
      ]
     },
     "metadata": {},
     "output_type": "display_data"
    }
   ],
   "source": [
    "results = []\n",
    "for minute in range(60*len(pt)):\n",
    "    result =nth_visitor_arrival(10, 0, minute)\n",
    "    results.append(result)\n",
    "\n",
    "plt.plot(results)\n",
    "\n",
    "plt.show()"
   ]
  },
  {
   "cell_type": "markdown",
   "metadata": {},
   "source": [
    "## 0.2 g"
   ]
  },
  {
   "cell_type": "code",
   "execution_count": 14,
   "metadata": {
    "collapsed": true
   },
   "outputs": [],
   "source": [
    "def random_number(t0, nth_visitor):\n",
    "    # use distribution given by the formula and integrate\n",
    "    r = random.random()\n",
    "    integral = 0\n",
    "    for minute in range(1,60*len(pt)):\n",
    "        integral += nth_visitor_arrival(nth_visitor, t0, minute)\n",
    "        if integral>=r:\n",
    "            return minute"
   ]
  },
  {
   "cell_type": "code",
   "execution_count": 15,
   "metadata": {
    "collapsed": false
   },
   "outputs": [
    {
     "name": "stdout",
     "output_type": "stream",
     "text": [
      "0.7810601151442712\n"
     ]
    }
   ],
   "source": [
    "def random_number2(t0):\n",
    "    # Use the rewritten formula to get the time at which the nth person comes in\n",
    "    r = random.random()\n",
    "    t = -1/get_rate(t0) * math.log(1-r)\n",
    "    t =  t if t> 0 else 0\n",
    "    return t\n",
    "\n",
    "print(random_number2(300))"
   ]
  },
  {
   "cell_type": "code",
   "execution_count": 16,
   "metadata": {
    "collapsed": true
   },
   "outputs": [],
   "source": [
    "def random_number3(t0):\n",
    "    # look per minute whether someone comes in or not\n",
    "    r = random.random()\n",
    "    for minute in range(t0,60*len(pt)):\n",
    "        if get_rate(minute) >= random.random():\n",
    "            return minute"
   ]
  },
  {
   "cell_type": "markdown",
   "metadata": {},
   "source": [
    "## 0.2 h"
   ]
  },
  {
   "cell_type": "code",
   "execution_count": 30,
   "metadata": {
    "collapsed": false
   },
   "outputs": [
    {
     "name": "stdout",
     "output_type": "stream",
     "text": [
      "100\n"
     ]
    },
    {
     "data": {
      "image/png": "[encoded data removed]",
      "text/plain": [
       "<matplotlib.figure.Figure at 0x110feec50>"
      ]
     },
     "metadata": {},
     "output_type": "display_data"
    },
    {
     "name": "stdout",
     "output_type": "stream",
     "text": [
      "201\n"
     ]
    },
    {
     "data": {
      "image/png": "[encoded data removed]",
      "text/plain": [
       "<matplotlib.figure.Figure at 0x110feecf8>"
      ]
     },
     "metadata": {},
     "output_type": "display_data"
    },
    {
     "name": "stdout",
     "output_type": "stream",
     "text": [
      "177\n"
     ]
    },
    {
     "data": {
      "image/png": "[encoded data removed]",
      "text/plain": [
       "<matplotlib.figure.Figure at 0x1125a9198>"
      ]
     },
     "metadata": {},
     "output_type": "display_data"
    }
   ],
   "source": [
    "first_visitors = []\n",
    "tenth_visitors = []\n",
    "v25 = []\n",
    "\n",
    "for i in range(10000):\n",
    "    minute = 0\n",
    "    nth_visitor=1\n",
    "    arrival_times = []\n",
    "    c = 0\n",
    "    while minute != None and minute < (60*len(pt)) and c < 200:\n",
    "        r = random_number2(int(minute))\n",
    "#         print(r)\n",
    "        minute += r\n",
    "        \n",
    "#         minute = math.ceil(minute)\n",
    "        c+=1\n",
    "#         print(minute)\n",
    "        if minute:\n",
    "            nth_visitor += 1\n",
    "            arrival_times.append(minute)\n",
    "        else:\n",
    "            break\n",
    "    try:\n",
    "        first_visitors.append(arrival_times[0])\n",
    "        tenth_visitors.append(arrival_times[9])\n",
    "        v25.append(arrival_times[24])\n",
    "    except:\n",
    "        continue\n",
    "\n",
    "    \n",
    "def plot_visitors(visitors, v):\n",
    "    #plot 1\n",
    "    fig = plt.figure()\n",
    "    bin_count = math.ceil(max(visitors)) - math.floor(min(visitors))\n",
    "    print(bin_count)\n",
    "    n, bins, patches = plt.hist(visitors, bin_count, normed=True, facecolor='green', alpha=0.75)\n",
    "\n",
    "    first_range = range(math.floor(min(visitors)), math.ceil(max(visitors)))\n",
    "    real_results = []\n",
    "    for minute in first_range:\n",
    "        result = nth_visitor_arrival(v, 0, minute)\n",
    "        real_results.append(result)\n",
    "\n",
    "    x = first_range\n",
    "    plt.plot(x, real_results, c='red')\n",
    "    plt.title('{}th visitor'.format(v))\n",
    "    plt.show()\n",
    "\n",
    "plot_visitors(first_visitors, 1)\n",
    "plot_visitors(tenth_visitors, 10)\n",
    "plot_visitors(v25, 25)"
   ]
  },
  {
   "cell_type": "markdown",
   "metadata": {},
   "source": [
    "## 0.3"
   ]
  },
  {
   "cell_type": "markdown",
   "metadata": {},
   "source": [
    "### 0.3a\n",
    "\n",
    "$$\n",
    "P(t|n+1, t_0) = p(n, t)e^{-\\int_{t_0}^tp(n,s)ds}\\\\\n",
    "= p(n, t)P(n|t,t_0)\\\\\n",
    "P(t|n, t_0) = p(n-1, t)P(n-1|t,t_0)\n",
    "$$\n",
    "where\n",
    "$$\n",
    "P(n|t,t_0) = e^{-\\int_{t_0}^tp(n,s)ds}\\\\\n",
    "\\sum_{n=0}^{\\infty} P(n|t,t_0) = 1\n",
    "$$"
   ]
  },
  {
   "cell_type": "markdown",
   "metadata": {},
   "source": [
    "### 0.3b\n",
    "\n",
    "$$\n",
    "P(t_2|2,t_0) = \\int_{t_0}^{t_2} P(t_1|1,t_0) P(t_2|2,t_1)dt_1\\\\\n",
    "= \\int_{t_0}^{t_2} p(0, t_1)e^{-\\int_{t_0}^{t_1}p(0,s)ds} p(1, t_2)e^{-\\int_{t_1}^{t_2}p(1,s)ds} dt_1\\\\\n",
    "= p(1, t_2)\\int_{t_0}^{t_2} p(0, t_1)e^{-\\int_{t_0}^{t_1}p(0,s)ds} e^{-\\int_{t_1}^{t_2}p(1,s)ds} dt_1\\\\\n",
    "$$"
   ]
  },
  {
   "cell_type": "markdown",
   "metadata": {},
   "source": [
    "### 0.3c\n",
    "\n",
    "We now have\n",
    "$$\n",
    "e^{-\\int_{t_0}^{t_1}p(0,s)ds} e^{-\\int_{t_1}^{t_2}p(1,s)ds} = e^{-(\\int_{t_0}^{t_1}p(0,s)ds+\\int_{t_1}^{t_2}p(1,s)ds)}\n",
    "$$\n",
    "which cannot be concatinated because the p-values are now not the same in the two integrals. In other words, before we had $\\int_{t_0}^{t_1}a(s)ds+\\int_{t_1}^{t_2}a(s)ds = \\int_{t_0}^{t_2}a(s)ds$, but now we have $\\int_{t_0}^{t_1}a_1(s)ds+\\int_{t_1}^{t_2}a_2(s)ds$. \n",
    "\n",
    "The consequence of this is that the exponentials remain being dependent on $t_1$, so we cannot take them out of the integral."
   ]
  },
  {
   "cell_type": "markdown",
   "metadata": {},
   "source": [
    "| Start | End   | Rate |\n",
    "|-------|-------|------|\n",
    "| 18:00 | 19:00 | 0.1  |\n",
    "| 19:00 | 20:00 | 0.2  |\n",
    "| 20:00 | 21:00 | 0.3  |\n",
    "| 21:00 | 22:00 | 0.4  |\n",
    "| 22:00 | 23:00 | 0.5  |\n",
    "| 23:00 | 00:00 | 0.6  |\n",
    "| 00:00 | 01:00 | 0.3  |\n",
    "| 01:00 | 02:00 | 0.1  |"
   ]
  },
  {
   "cell_type": "markdown",
   "metadata": {},
   "source": [
    "### 0.3d"
   ]
  },
  {
   "cell_type": "code",
   "execution_count": 9,
   "metadata": {
    "collapsed": false
   },
   "outputs": [
    {
     "name": "stdout",
     "output_type": "stream",
     "text": [
      "\tStep  0\tStep  1000\tStep  2000\tStep  3000\tStep  4000\tStep  5000\tStep  6000\tStep  7000\tStep  8000\tStep  9000\n",
      "\n",
      "P(t| 1 ,t_0) distribution\n"
     ]
    },
    {
     "data": {
      "image/png": "[encoded data removed]",
      "text/plain": [
       "<matplotlib.figure.Figure at 0x103d78a90>"
      ]
     },
     "metadata": {},
     "output_type": "display_data"
    },
    {
     "name": "stdout",
     "output_type": "stream",
     "text": [
      "\n",
      "\n",
      "P(t| 2 ,t_0) distribution\n"
     ]
    },
    {
     "data": {
      "image/png": "[encoded data removed]",
      "text/plain": [
       "<matplotlib.figure.Figure at 0x1110bafd0>"
      ]
     },
     "metadata": {},
     "output_type": "display_data"
    },
    {
     "name": "stdout",
     "output_type": "stream",
     "text": [
      "\n",
      "\n",
      "P(t| 3 ,t_0) distribution\n"
     ]
    },
    {
     "data": {
      "image/png": "[encoded data removed]",
      "text/plain": [
       "<matplotlib.figure.Figure at 0x112022978>"
      ]
     },
     "metadata": {},
     "output_type": "display_data"
    },
    {
     "name": "stdout",
     "output_type": "stream",
     "text": [
      "\n",
      "\n",
      "P(t| 4 ,t_0) distribution\n"
     ]
    },
    {
     "data": {
      "image/png": "[encoded data removed]",
      "text/plain": [
       "<matplotlib.figure.Figure at 0x110fe8240>"
      ]
     },
     "metadata": {},
     "output_type": "display_data"
    },
    {
     "name": "stdout",
     "output_type": "stream",
     "text": [
      "\n",
      "\n",
      "P(t| 5 ,t_0) distribution\n"
     ]
    },
    {
     "data": {
      "image/png": "[encoded data removed]",
      "text/plain": [
       "<matplotlib.figure.Figure at 0x1118bd5f8>"
      ]
     },
     "metadata": {},
     "output_type": "display_data"
    },
    {
     "name": "stdout",
     "output_type": "stream",
     "text": [
      "\n",
      "\n",
      "P(t| 6 ,t_0) distribution\n"
     ]
    },
    {
     "data": {
      "image/png": "[encoded data removed]",
      "text/plain": [
       "<matplotlib.figure.Figure at 0x112599710>"
      ]
     },
     "metadata": {},
     "output_type": "display_data"
    },
    {
     "name": "stdout",
     "output_type": "stream",
     "text": [
      "\n",
      "\n",
      "P(t| 7 ,t_0) distribution\n"
     ]
    },
    {
     "data": {
      "image/png": "[encoded data removed]",
      "text/plain": [
       "<matplotlib.figure.Figure at 0x1126b0cc0>"
      ]
     },
     "metadata": {},
     "output_type": "display_data"
    },
    {
     "name": "stdout",
     "output_type": "stream",
     "text": [
      "\n",
      "\n",
      "P(t| 8 ,t_0) distribution\n"
     ]
    },
    {
     "data": {
      "image/png": "[encoded data removed]",
      "text/plain": [
       "<matplotlib.figure.Figure at 0x1127da6d8>"
      ]
     },
     "metadata": {},
     "output_type": "display_data"
    },
    {
     "name": "stdout",
     "output_type": "stream",
     "text": [
      "\n",
      "\n",
      "P(t| 9 ,t_0) distribution\n"
     ]
    },
    {
     "data": {
      "image/png": "[encoded data removed]",
      "text/plain": [
       "<matplotlib.figure.Figure at 0x112639c88>"
      ]
     },
     "metadata": {},
     "output_type": "display_data"
    }
   ],
   "source": [
    "%matplotlib inline\n",
    "\n",
    "import math, random\n",
    "import matplotlib.pyplot as plt\n",
    "import numpy as np\n",
    "\n",
    "def p(n, tstep):\n",
    "    # chance of someone comming in\n",
    "    rates = [.1, .2, .3, .4, .5, .6, .3, .1]\n",
    "    pt = rates[tstep]/resolution\n",
    "    q = pt*math.exp(-0.05*(n-100))/(1+math.exp(-0.05*(n-100)))\n",
    "    return q\n",
    "\n",
    "def PDFformula(goalValue):\n",
    "    # The function calculating the PDF values at each point.\n",
    "    # The PDF values are integrated (sum(PDFs)) to get the\n",
    "    # integrated chances of finding n people at time t, giving\n",
    "    # a number between 0 and 1.\n",
    "    #\n",
    "    # By comparing to a random uniform distribution, a distribution\n",
    "    # for the PDF for different numbers of arrived people is \n",
    "    # obtained.\n",
    "    people, PDFs, p_nts = 0, [], []\n",
    "    steps = int(numTimeSteps*resolution)\n",
    "    \n",
    "    for t in range(steps):\n",
    "        tstep = int(t/resolution)\n",
    "        p_nt = p(people, tstep)\n",
    "        if random.random() < p_nt:\n",
    "            people += 1\n",
    "        p_nts.append(p_nt)\n",
    "        lamb = sum(p_nts)\n",
    "        PDF = p_nt*math.exp(-lamb)\n",
    "        PDFs.append(PDF)\n",
    "        if sum(PDFs) >= goalValue:\n",
    "            return people, t\n",
    "    \n",
    "    # For is the goalvalue is never reached\n",
    "    return False, False\n",
    "\n",
    "def buildDistributions(iterations):\n",
    "    # The distributions are build\n",
    "    dist = {}\n",
    "    \n",
    "    for i in range(iterations):\n",
    "        if i%int(iterations/10.0) == 0:\n",
    "            print(\"\\tStep \",i,end=\"\")\n",
    "        goalValue = random.random()\n",
    "        n, t = PDFformula(goalValue)\n",
    "        if not n:\n",
    "            # If no n and t values are found\n",
    "            # for the goalValue, it is not stored\n",
    "            continue\n",
    "\n",
    "        try: dist[n].append(t)\n",
    "        except: dist[n] = [t]\n",
    "        \n",
    "    return dist\n",
    "\n",
    "numTimeSteps = 7\n",
    "# 60 means we take minutes in stead of hours\n",
    "# Dont go too high with this number\n",
    "resolution = 60.0\n",
    "iterations = 10000\n",
    "dist = buildDistributions(iterations)\n",
    "\n",
    "# A distribution for every amount of arrived people is obtained\n",
    "for n in dist.keys():\n",
    "    print(\"\\n\\nP(t|\", n, \",t_0) distribution\")\n",
    "    plt.hist(dist[n])\n",
    "    plt.show()\n"
   ]
  },
  {
   "cell_type": "code",
   "execution_count": 10,
   "metadata": {
    "collapsed": false
   },
   "outputs": [
    {
     "data": {
      "image/png": "[encoded data removed]",
      "text/plain": [
       "<matplotlib.figure.Figure at 0x1126c24a8>"
      ]
     },
     "metadata": {},
     "output_type": "display_data"
    }
   ],
   "source": [
    "# Selecting the distribution on the basis of the\n",
    "# amount of arrived people. Dont go higher than 5 people...\n",
    "distNumber = 1\n",
    "maxIterations = 10000\n",
    "\n",
    "def generateRandomNumber(distNumber, maxIterations):\n",
    "    # The actual generator function for this distribution\n",
    "    for i in range(maxIterations):\n",
    "        goalValue = random.random()\n",
    "        n, t = PDFformula(goalValue)\n",
    "        if n == distNumber:\n",
    "            return t\n",
    "        \n",
    "    raise RuntimeError\n",
    "    \n",
    "# Just a test to see if the function is working properly!\n",
    "# Try to see when the first person arrives (early) and for\n",
    "# example the 4th person (later)\n",
    "nums = []\n",
    "for i in range(1000):\n",
    "    randomNumber = generateRandomNumber(distNumber, maxIterations)\n",
    "    nums.append(randomNumber)\n",
    "plt.hist(nums)\n",
    "plt.show()\n",
    "\n"
   ]
  },
  {
   "cell_type": "markdown",
   "metadata": {},
   "source": [
    "### 0.3e"
   ]
  },
  {
   "cell_type": "code",
   "execution_count": 11,
   "metadata": {
    "collapsed": false,
    "scrolled": true
   },
   "outputs": [
    {
     "name": "stdout",
     "output_type": "stream",
     "text": [
      "\tIteration  0\tIteration  100"
     ]
    },
    {
     "ename": "RuntimeError",
     "evalue": "",
     "output_type": "error",
     "traceback": [
      "\u001b[0;31m---------------------------------------------------------------------------\u001b[0m",
      "\u001b[0;31mRuntimeError\u001b[0m                              Traceback (most recent call last)",
      "\u001b[0;32m<ipython-input-11-bed605ba08f3>\u001b[0m in \u001b[0;36m<module>\u001b[0;34m()\u001b[0m\n\u001b[1;32m     18\u001b[0m     \u001b[0;32mif\u001b[0m \u001b[0mi\u001b[0m\u001b[0;34m%\u001b[0m\u001b[0mint\u001b[0m\u001b[0;34m(\u001b[0m\u001b[0miterations\u001b[0m\u001b[0;34m/\u001b[0m\u001b[0;36m10.0\u001b[0m\u001b[0;34m)\u001b[0m \u001b[0;34m==\u001b[0m \u001b[0;36m0\u001b[0m\u001b[0;34m:\u001b[0m\u001b[0;34m\u001b[0m\u001b[0m\n\u001b[1;32m     19\u001b[0m         \u001b[0mprint\u001b[0m\u001b[0;34m(\u001b[0m\u001b[0;34m\"\\tIteration \"\u001b[0m\u001b[0;34m,\u001b[0m\u001b[0mi\u001b[0m\u001b[0;34m,\u001b[0m\u001b[0mend\u001b[0m\u001b[0;34m=\u001b[0m\u001b[0;34m\"\"\u001b[0m\u001b[0;34m)\u001b[0m\u001b[0;34m\u001b[0m\u001b[0m\n\u001b[0;32m---> 20\u001b[0;31m     \u001b[0mvisitors\u001b[0m \u001b[0;34m=\u001b[0m \u001b[0mgetNumberOfVisitors\u001b[0m\u001b[0;34m(\u001b[0m\u001b[0mmaxIterations\u001b[0m\u001b[0;34m)\u001b[0m\u001b[0;34m\u001b[0m\u001b[0m\n\u001b[0m\u001b[1;32m     21\u001b[0m     \u001b[0mvisitorsList\u001b[0m\u001b[0;34m.\u001b[0m\u001b[0mappend\u001b[0m\u001b[0;34m(\u001b[0m\u001b[0mvisitors\u001b[0m\u001b[0;34m)\u001b[0m\u001b[0;34m\u001b[0m\u001b[0m\n\u001b[1;32m     22\u001b[0m \u001b[0;34m\u001b[0m\u001b[0m\n",
      "\u001b[0;32m<ipython-input-11-bed605ba08f3>\u001b[0m in \u001b[0;36mgetNumberOfVisitors\u001b[0;34m(maxIterations)\u001b[0m\n\u001b[1;32m      7\u001b[0m         \u001b[0;31m# arrive before the last one, the current number of\u001b[0m\u001b[0;34m\u001b[0m\u001b[0;34m\u001b[0m\u001b[0m\n\u001b[1;32m      8\u001b[0m         \u001b[0;31m# visitors is returned\u001b[0m\u001b[0;34m\u001b[0m\u001b[0;34m\u001b[0m\u001b[0m\n\u001b[0;32m----> 9\u001b[0;31m         \u001b[0mrandomTime\u001b[0m \u001b[0;34m=\u001b[0m \u001b[0mgenerateRandomNumber\u001b[0m\u001b[0;34m(\u001b[0m\u001b[0mvisitors\u001b[0m\u001b[0;34m,\u001b[0m \u001b[0mmaxIterations\u001b[0m\u001b[0;34m)\u001b[0m\u001b[0;34m\u001b[0m\u001b[0m\n\u001b[0m\u001b[1;32m     10\u001b[0m         \u001b[0;32mif\u001b[0m \u001b[0mrandomTime\u001b[0m \u001b[0;34m<\u001b[0m \u001b[0mcurrentTime\u001b[0m\u001b[0;34m:\u001b[0m\u001b[0;34m\u001b[0m\u001b[0m\n\u001b[1;32m     11\u001b[0m             \u001b[0;32mreturn\u001b[0m \u001b[0mvisitors\u001b[0m\u001b[0;34m\u001b[0m\u001b[0m\n",
      "\u001b[0;32m<ipython-input-10-6b3cc9ba0f24>\u001b[0m in \u001b[0;36mgenerateRandomNumber\u001b[0;34m(distNumber, maxIterations)\u001b[0m\n\u001b[1;32m     12\u001b[0m             \u001b[0;32mreturn\u001b[0m \u001b[0mt\u001b[0m\u001b[0;34m\u001b[0m\u001b[0m\n\u001b[1;32m     13\u001b[0m \u001b[0;34m\u001b[0m\u001b[0m\n\u001b[0;32m---> 14\u001b[0;31m     \u001b[0;32mraise\u001b[0m \u001b[0mRuntimeError\u001b[0m\u001b[0;34m\u001b[0m\u001b[0m\n\u001b[0m\u001b[1;32m     15\u001b[0m \u001b[0;34m\u001b[0m\u001b[0m\n\u001b[1;32m     16\u001b[0m \u001b[0;31m# Just a test to see if the function is working properly!\u001b[0m\u001b[0;34m\u001b[0m\u001b[0;34m\u001b[0m\u001b[0m\n",
      "\u001b[0;31mRuntimeError\u001b[0m: "
     ]
    }
   ],
   "source": [
    "maxIterations = 100000\n",
    "\n",
    "def getNumberOfVisitors(maxIterations):\n",
    "    visitors, currentTime = 0, 0\n",
    "    while True:\n",
    "        # A visitor arrives each loop. If the next visitor doesnt\n",
    "        # arrive before the last one, the current number of\n",
    "        # visitors is returned\n",
    "        randomTime = generateRandomNumber(visitors, maxIterations)\n",
    "        if randomTime < currentTime:\n",
    "            return visitors\n",
    "        visitors += 1\n",
    "        currentTime = randomTime\n",
    "\n",
    "visitorsList = []\n",
    "iterations = 1000\n",
    "for i in range(iterations):\n",
    "    if i%int(iterations/10.0) == 0:\n",
    "        print(\"\\tIteration \",i,end=\"\")\n",
    "    visitors = getNumberOfVisitors(maxIterations)\n",
    "    visitorsList.append(visitors)\n",
    "\n",
    "print(\"\\n\\nAverage number of visitors is \",np.mean(visitorsList))\n",
    "plt.hist(visitorsList)\n",
    "plt.show()\n",
    "    "
   ]
  }
 ],
 "metadata": {
  "anaconda-cloud": {},
  "kernelspec": {
   "display_name": "Python [Root]",
   "language": "python",
   "name": "Python [Root]"
  },
  "language_info": {
   "codemirror_mode": {
    "name": "ipython",
    "version": 3
   },
   "file_extension": ".py",
   "mimetype": "text/x-python",
   "name": "python",
   "nbconvert_exporter": "python",
   "pygments_lexer": "ipython3",
   "version": "3.5.2"
  }
 },
 "nbformat": 4,
 "nbformat_minor": 0
}
