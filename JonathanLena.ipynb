{
 "cells": [
  {
   "cell_type": "markdown",
   "metadata": {},
   "source": [
    "# 0.1 Poisson Processes"
   ]
  },
  {
   "cell_type": "markdown",
   "metadata": {},
   "source": [
    "### 0.1a"
   ]
  },
  {
   "cell_type": "markdown",
   "metadata": {},
   "source": [
    "$$\n",
    "P(arrival) = p\\Delta t\\\\\n",
    "P(no-arrival) = 1 - p\\Delta t\n",
    "$$"
   ]
  },
  {
   "cell_type": "markdown",
   "metadata": {},
   "source": [
    "### 0.1b"
   ]
  },
  {
   "cell_type": "markdown",
   "metadata": {},
   "source": [
    "$$\n",
    "P(n| t + \\Delta t, t_0) = P(arrival)P(n-1| t, t_0) + P(no-arrival)P(n| t, t_0)\\\\\n",
    "P(n| t + \\Delta t, t_0) = p\\Delta t* P(n-1| t, t_0) + (1-p\\Delta t)*P(n| t, t_0)\n",
    "$$"
   ]
  },
  {
   "cell_type": "markdown",
   "metadata": {},
   "source": [
    "### 0.1c"
   ]
  },
  {
   "cell_type": "markdown",
   "metadata": {},
   "source": [
    "$$\n",
    "\\frac{dP(n| t, t_0)}{dt} = \\frac{P(n| t + \\Delta t, t_0) - P(n| t, t_0)}{\\Delta t}\\\\\n",
    "= \\frac{p\\Delta t* P(n-1| t, t_0) + (1-p\\Delta t)*P(n| t, t_0) - P(n| t, t_0)}{\\Delta t}\\\\\n",
    "= pP(n-1| t, t_0) -pP(n| t, t_0)\n",
    "$$"
   ]
  },
  {
   "cell_type": "markdown",
   "metadata": {},
   "source": [
    "### 0.1d"
   ]
  },
  {
   "cell_type": "markdown",
   "metadata": {},
   "source": [
    "$$\n",
    "P(0| t, t_0) = P(no-arrival)P(0| t, t_0)\\\\\n",
    "P(0| t, t_0) = (1-p\\Delta t)P(0| t, t_0)\\\\\n",
    "\\frac{dP(0| t, t_0)}{dt} = \\frac{P(0| t + \\Delta t, t_0) - P(0| t, t_0)}{\\Delta t}\\\\\n",
    "= \\frac{(1-p\\Delta t)*P(0| t, t_0) - P(0| t, t_0)}{\\Delta t}\\\\\n",
    "= -pP(0| t, t_0)\n",
    "$$"
   ]
  },
  {
   "cell_type": "markdown",
   "metadata": {},
   "source": [
    "### 0.1e"
   ]
  },
  {
   "cell_type": "markdown",
   "metadata": {},
   "source": [
    "The $A_n(t)$ terms should be normalised for $P(n|t,t_0)$ to represent a probability distribution. Imposing the normalisation condition we derive the $A_n(t)$ values.\n",
    "\n",
    "$$\n",
    "\\sum_n P(n|t,t_0) = \\sum_n A_n(t)e^{-p(t-t_0)} = 1\\\\\n",
    "\\sum_n A_n(t) =  e^{p(t-t_0)} = \\sum_n \\frac{(p(t-t_0))^n}{n!}\\\\\n",
    "A_n(t) = \\frac{(p(t-t_0))^n}{n!}\\\\\n",
    "P(n|t,t_0) = \\frac{(p(t-t_0))^n}{n!}e^{-p(t-t_0)}\n",
    "$$"
   ]
  },
  {
   "cell_type": "markdown",
   "metadata": {},
   "source": [
    "Now whats left is to prove that this ansatz satisfies the differential equations.\n",
    "\n",
    "$$\n",
    "\\frac{dP(n|t,t_0)}{dt} = n\\frac{p^n(t-t_0)^{n-1}}{n!}e^{-p(t-t_0)} -p\\frac{(p(t-t_0))^n}{n!}e^{-p(t-t_0)}\\\\\n",
    "= p\\frac{(p(t-t_0))^{n-1}}{(n-1)!}e^{-p(t-t_0)} -p\\frac{(p(t-t_0))^n}{n!}e^{-p(t-t_0)}\\\\\n",
    "= pP(n-1|t,t_0) - pP(n|t,t_0)\n",
    "$$\n",
    "\n",
    "Quod erat demonstrandum"
   ]
  },
  {
   "cell_type": "markdown",
   "metadata": {},
   "source": [
    "### 0.1f"
   ]
  },
  {
   "cell_type": "markdown",
   "metadata": {},
   "source": [
    "This distribution is a Poisson distribution, defined as\n",
    "\n",
    "$$\n",
    "P = \\frac{\\lambda^ne^{-\\lambda}}{n!}\n",
    "$$\n",
    "\n",
    "Where $\\lambda$ is the expectation value. Now our equation is already in this form, with $\\lambda = p(t-t_0)$."
   ]
  },
  {
   "cell_type": "markdown",
   "metadata": {},
   "source": [
    "### 0.1g"
   ]
  },
  {
   "cell_type": "markdown",
   "metadata": {},
   "source": [
    "To find the maximum amount of people likely to come to the party, we impose the boundaries\n",
    "\n",
    "$$\n",
    "P(n|t,t_0) > P(n-1|t,t_0)\\\\\n",
    "A_n(t) > A_{n-1}(t)\\\\\n",
    "\\frac{(p(t-t_0))^n}{n!} > \\frac{(p(t-t_0))^{n-1}}{(n-1)!}\\\\\n",
    "\\frac{p(t-t_0)}{n} > 1\n",
    "$$\n",
    "And the other boundary:\n",
    "$$\n",
    "P(n|t,t_0) > P(n+1|t,t_0)\\\\\n",
    "A_n(t) > A_{n+1}(t)\\\\\n",
    "\\frac{(p(t-t_0))^n}{n!} > \\frac{(p(t-t_0))^{n+1}}{(n+1)!}\\\\\n",
    "1 > \\frac{p(t-t_0)}{n-1}\n",
    "$$\n",
    "So that we get\n",
    "$$\n",
    "p(t - t_0) - 1 < n < p(t-t_0)\n",
    "$$\n",
    "\n",
    "This interval contains exactly one integer value, representing the amount of people maximaly likely to arrive"
   ]
  },
  {
   "cell_type": "markdown",
   "metadata": {},
   "source": [
    "### 0.1h"
   ]
  },
  {
   "cell_type": "markdown",
   "metadata": {
    "collapsed": true
   },
   "source": [
    "### 0.1i"
   ]
  },
  {
   "cell_type": "markdown",
   "metadata": {},
   "source": [
    "### 0.1j\n",
    "\n",
    "$$ dtP(t|n,t_0)=  dtP(n|t,t_0) pdt=dt \\frac{p(pt-t_0)^{n-1}e^{-p(t-t_0)}}{(n-1)!} $$"
   ]
  },
  {
   "cell_type": "markdown",
   "metadata": {
    "collapsed": true
   },
   "source": [
    " ### 0.1o\n",
    " \n",
    "$$\n",
    "\\int_{t_0}^{t}P(n;t_n,t_0)P(t;0,t_n)dt_n\n",
    "=\\int_{t_0}^{t}\\frac{p(p(t_n-t_0))^{n-1}e^{-p(t_n-t_0)}}{(n-1)!}*e^{-p(t-t_n)}dt_n\\\\\n",
    "=\\int_{t_0}^{t}\\frac{p(p(t_n-t_0))^{n-1}e^{-p(t_n-t_0+t-t_n)}}{(n-1)!}dt_n\\\\\n",
    "=\\int_{t_0}^{t}\\frac{p(p(t_n-t_0))^{n-1}e^{-p(t-t_0)}}{(n-1)!}dt_n\\\\\n",
    "=\\frac{p^{n}e^{-p(t-t_0)}}{(n-1)!}\\int_{t_0}^{t}(t_n-t_0)^{n-1}dt_n\\\\\n",
    "=\\frac{p^{n}e^{-p(t-t_0)}}{(n-1)!}[\\frac{(t_n-t_0)^{n}}{n}]_{t_0}^{t}\\\\\n",
    "=\\frac{p^{n}e^{-p(t-t_0)}}{(n-1)!}\\frac{(t-t_0)^{n}}{n}\\\\\n",
    "=\\frac{p^{n}(t-t_0)^{n}e^{-p(t-t_0)}}{n!}\\\\\n",
    "=P(n;t,t_0)\n",
    "$$"
   ]
  },
  {
   "cell_type": "markdown",
   "metadata": {
    "collapsed": true
   },
   "source": [
    "## 0.2)"
   ]
  },
  {
   "cell_type": "markdown",
   "metadata": {},
   "source": [
    "### 0.2a\n"
   ]
  },
  {
   "cell_type": "markdown",
   "metadata": {},
   "source": [
    "Since for the expression of $P(n|t+\\Delta t, t_0)$ we used p(t) and not $p(t + \\Delta t)$, the differential equations remain the same. Since the time dependence of the equation changed we have to formulate a new anzats to match our differential equation $\\frac{dP(n|t,t_0)}{dt} = -p(t)P(n|t,t_0) + p(t)P(n-1|t,t_0)$. As an anzats we take the general form of the Poisson distribution solution with a time dependent $\\lambda(t)$.\\\\\n",
    "\n",
    "$$\n",
    "P(n|t,t_0) = \\frac{\\lambda(t)^ne^{-\\lambda(t)}}{n!}\\\\\n",
    "\\frac{dP(n|t,t_0)}{dt} = \\frac{d\\lambda}{dt} (\\frac{n\\lambda(t)^{n-1}e^{-\\lambda(t)}}{n!} - \\frac{\\lambda(t)^ne^{-\\lambda(t)}}{n!})\\\\\n",
    "= \\frac{d\\lambda}{dt} \\frac{\\lambda(t)^{n-1}e^{-\\lambda(t)}}{(n-1)!} - \\frac{d\\lambda}{dt}\\frac{\\lambda(t)^ne^{-\\lambda(t)}}{n!})\\\\\n",
    "= -\\frac{d\\lambda}{dt}P(n|t,t_0) + \\frac{d\\lambda}{dt}P(n-1|t,t_0))\\\\\n",
    "= -pP(n|t,t_0) + pP(n-1|t,t_0)\\\\\n",
    "\\frac{d\\lambda}{dt} = p(t)\\\\\n",
    "\\lambda = \\int_{t_0}^tp(t)dt\n",
    "$$\n",
    "\n",
    "Now if we keep p constant over time we get $\\lambda = \\int_{t_0}^tp(t)dt = p(t - t_0)$, which was our original result for constant p!"
   ]
  },
  {
   "cell_type": "markdown",
   "metadata": {},
   "source": [
    "### 0.2b\n",
    "\n",
    "$$\n",
    "P(0|\\infty,t_0) = \\frac{\\lambda(\\infty)^0e^{-\\lambda(\\infty)}}{0!}\\\\\n",
    "= e^{-\\lambda(\\infty)}\\\\\n",
    "\\lambda(\\infty) = \\int_{t_0}^{\\infty}p(t)dt\n",
    "$$\n",
    "\n",
    "This chance goes to 0 for $\\lambda -> \\infty$. If we would take p(t) = constant, then $\\lambda = \\infty$ and $P(0|\\infty,t_0) = 0$, but if we take a p(t) that will give us a non-infinitely large $\\lambda$ value ($p(t) = 1$, for $0 < t < 1$, $p(t) = 0$ otherwise, for example) our $P(0|\\infty,t_0) \\neq 0$. "
   ]
  },
  {
   "cell_type": "markdown",
   "metadata": {},
   "source": []
  },
  {
   "cell_type": "markdown",
   "metadata": {},
   "source": [
    "## 0.3"
   ]
  },
  {
   "cell_type": "markdown",
   "metadata": {},
   "source": [
    "### 0.3a\n",
    "\n",
    "$$\n",
    "P(t|n+1, t_0) = p(n, t)e^{-\\int_{t_0}^tp(n,s)ds}\\\\\n",
    "= p(n, t)P(n|t,t_0)\\\\\n",
    "P(t|n, t_0) = p(n-1, t)P(n-1|t,t_0)\n",
    "$$\n",
    "where\n",
    "$$\n",
    "P(n|t,t_0) = e^{-\\int_{t_0}^tp(n,s)ds}\\\\\n",
    "\\sum_{n=0}^{\\infty} P(n|t,t_0) = 1\n",
    "$$"
   ]
  },
  {
   "cell_type": "markdown",
   "metadata": {},
   "source": [
    "### 0.3b\n",
    "\n",
    "$$\n",
    "P(t_2|2,t_0) = \\int_{t_0}^{t_2} P(t_1|1,t_0) P(t_2|2,t_1)dt_1\\\\\n",
    "= \\int_{t_0}^{t_2} p(0, t_1)e^{-\\int_{t_0}^{t_1}p(0,s)ds} p(1, t_2)e^{-\\int_{t_1}^{t_2}p(1,s)ds} dt_1\\\\\n",
    "= p(1, t_2)\\int_{t_0}^{t_2} p(0, t_1)e^{-\\int_{t_0}^{t_1}p(0,s)ds} e^{-\\int_{t_1}^{t_2}p(1,s)ds} dt_1\\\\\n",
    "$$"
   ]
  },
  {
   "cell_type": "markdown",
   "metadata": {},
   "source": [
    "### 0.3c\n",
    "\n",
    "We now have\n",
    "$$\n",
    "e^{-\\int_{t_0}^{t_1}p(0,s)ds} e^{-\\int_{t_1}^{t_2}p(1,s)ds} = e^{-(\\int_{t_0}^{t_1}p(0,s)ds+\\int_{t_1}^{t_2}p(1,s)ds)}\n",
    "$$\n",
    "which cannot be concatinated because the p-values are now not the same in the two integrals. In other words, before we had $\\int_{t_0}^{t_1}a(s)ds+\\int_{t_1}^{t_2}a(s)ds = \\int_{t_0}^{t_2}a(s)ds$, but now we have $\\int_{t_0}^{t_1}a_1(s)ds+\\int_{t_1}^{t_2}a_2(s)ds$. \n",
    "\n",
    "The consequence of this is that the exponentials remain being dependent on $t_1$, so we cannot take them out of the integral."
   ]
  },
  {
   "cell_type": "markdown",
   "metadata": {},
   "source": [
    "| Start | End   | Rate |\n",
    "|-------|-------|------|\n",
    "| 18:00 | 19:00 | 0.1  |\n",
    "| 19:00 | 20:00 | 0.2  |\n",
    "| 20:00 | 21:00 | 0.3  |\n",
    "| 21:00 | 22:00 | 0.4  |\n",
    "| 22:00 | 23:00 | 0.5  |\n",
    "| 23:00 | 00:00 | 0.6  |\n",
    "| 00:00 | 01:00 | 0.3  |\n",
    "| 01:00 | 02:00 | 0.1  |"
   ]
  },
  {
   "cell_type": "markdown",
   "metadata": {},
   "source": [
    "### 0.3d"
   ]
  },
  {
   "cell_type": "code",
   "execution_count": 15,
   "metadata": {
    "collapsed": false
   },
   "outputs": [
    {
     "name": "stdout",
     "output_type": "stream",
     "text": [
      "\tStep  0\tStep  1000\tStep  2000\tStep  3000\tStep  4000\tStep  5000\tStep  6000\tStep  7000\tStep  8000\tStep  9000\n",
      "\n",
      "P(t| 1 ,t_0) distribution\n"
     ]
    },
    {
     "data": {
      "image/png": "[encoded data removed]",
      "text/plain": [
       "<matplotlib.figure.Figure at 0x1097606d8>"
      ]
     },
     "metadata": {},
     "output_type": "display_data"
    },
    {
     "name": "stdout",
     "output_type": "stream",
     "text": [
      "\n",
      "\n",
      "P(t| 2 ,t_0) distribution\n"
     ]
    },
    {
     "data": {
      "image/png": "[encoded data removed]",
      "text/plain": [
       "<matplotlib.figure.Figure at 0x1088f5eb8>"
      ]
     },
     "metadata": {},
     "output_type": "display_data"
    },
    {
     "name": "stdout",
     "output_type": "stream",
     "text": [
      "\n",
      "\n",
      "P(t| 3 ,t_0) distribution\n"
     ]
    },
    {
     "data": {
      "image/png": "[encoded data removed]",
      "text/plain": [
       "<matplotlib.figure.Figure at 0x1087fb2b0>"
      ]
     },
     "metadata": {},
     "output_type": "display_data"
    },
    {
     "name": "stdout",
     "output_type": "stream",
     "text": [
      "\n",
      "\n",
      "P(t| 4 ,t_0) distribution\n"
     ]
    },
    {
     "data": {
      "image/png": "[encoded data removed]",
      "text/plain": [
       "<matplotlib.figure.Figure at 0x108944908>"
      ]
     },
     "metadata": {},
     "output_type": "display_data"
    },
    {
     "name": "stdout",
     "output_type": "stream",
     "text": [
      "\n",
      "\n",
      "P(t| 5 ,t_0) distribution\n"
     ]
    },
    {
     "data": {
      "image/png": "[encoded data removed]",
      "text/plain": [
       "<matplotlib.figure.Figure at 0x1090445c0>"
      ]
     },
     "metadata": {},
     "output_type": "display_data"
    },
    {
     "name": "stdout",
     "output_type": "stream",
     "text": [
      "\n",
      "\n",
      "P(t| 6 ,t_0) distribution\n"
     ]
    },
    {
     "data": {
      "image/png": "[encoded data removed]",
      "text/plain": [
       "<matplotlib.figure.Figure at 0x108f68518>"
      ]
     },
     "metadata": {},
     "output_type": "display_data"
    },
    {
     "name": "stdout",
     "output_type": "stream",
     "text": [
      "\n",
      "\n",
      "P(t| 7 ,t_0) distribution\n"
     ]
    },
    {
     "data": {
      "image/png": "[encoded data removed]",
      "text/plain": [
       "<matplotlib.figure.Figure at 0x109642f60>"
      ]
     },
     "metadata": {},
     "output_type": "display_data"
    }
   ],
   "source": [
    "%matplotlib inline\n",
    "\n",
    "import math, random\n",
    "import matplotlib.pyplot as plt\n",
    "import numpy as np\n",
    "\n",
    "def p(n, tstep):\n",
    "    # chance of someone comming in\n",
    "    rates = [.1, .2, .3, .4, .5, .6, .3, .1]\n",
    "    pt = rates[tstep]/resolution\n",
    "    q = pt*math.exp(-0.05*(n-100))/(1+math.exp(-0.05*(n-100)))\n",
    "    return q\n",
    "\n",
    "def PDFformula(goalValue):\n",
    "    # The function calculating the PDF values at each point.\n",
    "    # The PDF values are integrated (sum(PDFs)) to get the\n",
    "    # integrated chances of finding n people at time t, giving\n",
    "    # a number between 0 and 1.\n",
    "    #\n",
    "    # By comparing to a random uniform distribution, a distribution\n",
    "    # for the PDF for different numbers of arrived people is \n",
    "    # obtained.\n",
    "    people, PDFs, p_nts = 0, [], []\n",
    "    steps = int(numTimeSteps*resolution)\n",
    "    \n",
    "    for t in range(steps):\n",
    "        tstep = int(t/resolution)\n",
    "        p_nt = p(people, tstep)\n",
    "        if random.random() < p_nt:\n",
    "            people += 1\n",
    "        p_nts.append(p_nt)\n",
    "        lamb = sum(p_nts)\n",
    "        PDF = p_nt*math.exp(-lamb)\n",
    "        PDFs.append(PDF)\n",
    "        if sum(PDFs) >= goalValue:\n",
    "            return people, t\n",
    "    \n",
    "    # For is the goalvalue is never reached\n",
    "    return False, False\n",
    "\n",
    "def buildDistributions(iterations):\n",
    "    # The distributions are build\n",
    "    dist = {}\n",
    "    \n",
    "    for i in range(iterations):\n",
    "        if i%int(iterations/10.0) == 0:\n",
    "            print(\"\\tStep \",i,end=\"\")\n",
    "        goalValue = random.random()\n",
    "        n, t = PDFformula(goalValue)\n",
    "        if not n:\n",
    "            # If no n and t values are found\n",
    "            # for the goalValue, it is not stored\n",
    "            continue\n",
    "\n",
    "        try: dist[n].append(t)\n",
    "        except: dist[n] = [t]\n",
    "        \n",
    "    return dist\n",
    "\n",
    "numTimeSteps = 7\n",
    "# 60 means we take minutes in stead of hours\n",
    "# Dont go too high with this number\n",
    "resolution = 60.0\n",
    "iterations = 10000\n",
    "dist = buildDistributions(iterations)\n",
    "\n",
    "# A distribution for every amount of arrived people is obtained\n",
    "for n in dist.keys():\n",
    "    print(\"\\n\\nP(t|\", n, \",t_0) distribution\")\n",
    "    plt.hist(dist[n])\n",
    "    plt.show()\n"
   ]
  },
  {
   "cell_type": "code",
   "execution_count": 25,
   "metadata": {
    "collapsed": false
   },
   "outputs": [
    {
     "data": {
      "image/png": "[encoded data removed]",
      "text/plain": [
       "<matplotlib.figure.Figure at 0x1086a2ba8>"
      ]
     },
     "metadata": {},
     "output_type": "display_data"
    }
   ],
   "source": [
    "# Selecting the distribution on the basis of the\n",
    "# amount of arrived people. Dont go higher than 5 people...\n",
    "distNumber = 1\n",
    "maxIterations = 10000\n",
    "\n",
    "def generateRandomNumber(distNumber, maxIterations):\n",
    "    # The actual generator function for this distribution\n",
    "    for i in range(maxIterations):\n",
    "        goalValue = random.random()\n",
    "        n, t = PDFformula(goalValue)\n",
    "        if n == distNumber:\n",
    "            return t\n",
    "        \n",
    "    raise RuntimeError\n",
    "    \n",
    "# Just a test to see if the function is working properly!\n",
    "# Try to see when the first person arrives (early) and for\n",
    "# example the 4th person (later)\n",
    "nums = []\n",
    "for i in range(1000):\n",
    "    randomNumber = generateRandomNumber(distNumber, maxIterations)\n",
    "    nums.append(randomNumber)\n",
    "plt.hist(nums)\n",
    "plt.show()\n",
    "\n"
   ]
  },
  {
   "cell_type": "markdown",
   "metadata": {},
   "source": [
    "### 0.3e"
   ]
  },
  {
   "cell_type": "code",
   "execution_count": 33,
   "metadata": {
    "collapsed": false,
    "scrolled": true
   },
   "outputs": [
    {
     "name": "stdout",
     "output_type": "stream",
     "text": [
      "\tIteration  0\tIteration  10\tIteration  20\tIteration  30\tIteration  40\tIteration  50\tIteration  60\tIteration  70\tIteration  80\tIteration  90\n",
      "\n",
      "Average number of visitors is  2.85\n"
     ]
    },
    {
     "data": {
      "image/png": "[encoded data removed]",
      "text/plain": [
       "<matplotlib.figure.Figure at 0x1098a0438>"
      ]
     },
     "metadata": {},
     "output_type": "display_data"
    }
   ],
   "source": [
    "maxIterations = 100000\n",
    "\n",
    "def getNumberOfVisitors(maxIterations):\n",
    "    visitors, currentTime = 0, 0\n",
    "    while True:\n",
    "        # A visitor arrives each loop. If the next visitor doesnt\n",
    "        # arrive before the last one, the current number of\n",
    "        # visitors is returned\n",
    "        randomTime = generateRandomNumber(visitors, maxIterations)\n",
    "        if randomTime < currentTime:\n",
    "            return visitors\n",
    "        visitors += 1\n",
    "        currentTime = randomTime\n",
    "\n",
    "visitorsList = []\n",
    "iterations = 1000\n",
    "for i in range(iterations):\n",
    "    if i%int(iterations/10.0) == 0:\n",
    "        print(\"\\tIteration \",i,end=\"\")\n",
    "    visitors = getNumberOfVisitors(maxIterations)\n",
    "    visitorsList.append(visitors)\n",
    "\n",
    "print(\"\\n\\nAverage number of visitors is \",np.mean(visitorsList))\n",
    "plt.hist(visitorsList)\n",
    "plt.show()\n",
    "    "
   ]
  }
 ],
 "metadata": {
  "anaconda-cloud": {},
  "kernelspec": {
   "display_name": "Python 3",
   "language": "python",
   "name": "python3"
  },
  "language_info": {
   "codemirror_mode": {
    "name": "ipython",
    "version": 3
   },
   "file_extension": ".py",
   "mimetype": "text/x-python",
   "name": "python",
   "nbconvert_exporter": "python",
   "pygments_lexer": "ipython3",
   "version": "3.5.1"
  }
 },
 "nbformat": 4,
 "nbformat_minor": 0
}
