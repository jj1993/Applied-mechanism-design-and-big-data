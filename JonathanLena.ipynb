{
 "cells": [
  {
   "cell_type": "markdown",
   "metadata": {},
   "source": [
    "# 0.1 Poisson Processes"
   ]
  },
  {
   "cell_type": "markdown",
   "metadata": {},
   "source": [
    "### 0.1a"
   ]
  },
  {
   "cell_type": "markdown",
   "metadata": {},
   "source": [
    "$$\n",
    "P(arrival) = p\\Delta t\\\\\n",
    "P(no-arrival) = 1 - p\\Delta t\n",
    "$$"
   ]
  },
  {
   "cell_type": "markdown",
   "metadata": {},
   "source": [
    "### 0.1b"
   ]
  },
  {
   "cell_type": "markdown",
   "metadata": {},
   "source": [
    "$$\n",
    "P(n| t + \\Delta t, t_0) = P(arrival)P(n-1| t, t_0) + P(no-arrival)P(n| t, t_0)\\\\\n",
    "P(n| t + \\Delta t, t_0) = p\\Delta t* P(n-1| t, t_0) + (1-p\\Delta t)*P(n| t, t_0)\n",
    "$$"
   ]
  },
  {
   "cell_type": "markdown",
   "metadata": {},
   "source": [
    "### 0.1c"
   ]
  },
  {
   "cell_type": "markdown",
   "metadata": {},
   "source": [
    "$$\n",
    "\\frac{dP(n| t, t_0)}{dt} = \\frac{P(n| t + \\Delta t, t_0) - P(n| t, t_0)}{\\Delta t}\\\\\n",
    "= \\frac{p\\Delta t* P(n-1| t, t_0) + (1-p\\Delta t)*P(n| t, t_0) - P(n| t, t_0)}{\\Delta t}\\\\\n",
    "= pP(n-1| t, t_0) -pP(n| t, t_0)\n",
    "$$"
   ]
  },
  {
   "cell_type": "markdown",
   "metadata": {},
   "source": [
    "### 0.1d"
   ]
  },
  {
   "cell_type": "markdown",
   "metadata": {},
   "source": [
    "$$\n",
    "P(0| t, t_0) = P(no-arrival)P(0| t, t_0)\\\\\n",
    "P(0| t, t_0) = (1-p\\Delta t)P(0| t, t_0)\\\\\n",
    "\\frac{dP(0| t, t_0)}{dt} = \\frac{P(0| t + \\Delta t, t_0) - P(0| t, t_0)}{\\Delta t}\\\\\n",
    "= \\frac{(1-p\\Delta t)*P(0| t, t_0) - P(0| t, t_0)}{\\Delta t}\\\\\n",
    "= -pP(0| t, t_0)\n",
    "$$"
   ]
  },
  {
   "cell_type": "markdown",
   "metadata": {},
   "source": [
    "### 0.1e"
   ]
  },
  {
   "cell_type": "markdown",
   "metadata": {},
   "source": [
    "The $A_n(t)$ terms should be normalised for $P(n|t,t_0)$ to represent a probability distribution. Imposing the normalisation condition we derive the $A_n(t)$ values.\n",
    "\n",
    "$$\n",
    "\\sum_n P(n|t,t_0) = \\sum_n A_n(t)e^{-p(t-t_0)} = 1\\\\\n",
    "\\sum_n A_n(t) =  e^{p(t-t_0)} = \\sum_n \\frac{(p(t-t_0))^n}{n!}\\\\\n",
    "A_n(t) = \\frac{(p(t-t_0))^n}{n!}\\\\\n",
    "P(n|t,t_0) = \\frac{(p(t-t_0))^n}{n!}e^{-p(t-t_0)}\n",
    "$$"
   ]
  },
  {
   "cell_type": "markdown",
   "metadata": {},
   "source": [
    "Now whats left is to prove that this ansatz satisfies the differential equations.\n",
    "\n",
    "$$\n",
    "\\frac{dP(n|t,t_0)}{dt} = n\\frac{p^n(t-t_0)^{n-1}}{n!}e^{-p(t-t_0)} -p\\frac{(p(t-t_0))^n}{n!}e^{-p(t-t_0)}\\\\\n",
    "= p\\frac{(p(t-t_0))^{n-1}}{(n-1)!}e^{-p(t-t_0)} -p\\frac{(p(t-t_0))^n}{n!}e^{-p(t-t_0)}\\\\\n",
    "= pP(n-1|t,t_0) - pP(n|t,t_0)\n",
    "$$\n",
    "\n",
    "Quod erat demonstrandum"
   ]
  },
  {
   "cell_type": "markdown",
   "metadata": {},
   "source": [
    "### 0.1f"
   ]
  },
  {
   "cell_type": "markdown",
   "metadata": {},
   "source": [
    "This distribution is a Poisson distribution, defined as\n",
    "\n",
    "$$\n",
    "P = \\frac{\\lambda^ne^{-\\lambda}}{n!}\n",
    "$$\n",
    "\n",
    "Where $\\lambda$ is the expectation value. Now our equation is already in this form, with $\\lambda = p(t-t_0)$."
   ]
  },
  {
   "cell_type": "markdown",
   "metadata": {},
   "source": [
    "### 0.1g"
   ]
  },
  {
   "cell_type": "markdown",
   "metadata": {},
   "source": [
    "To find the maximum amount of people likely to come to the party, we impose the boundaries\n",
    "\n",
    "$$\n",
    "P(n|t,t_0) > P(n-1|t,t_0)\\\\\n",
    "A_n(t) > A_{n-1}(t)\\\\\n",
    "\\frac{(p(t-t_0))^n}{n!} > \\frac{(p(t-t_0))^{n-1}}{(n-1)!}\\\\\n",
    "\\frac{p(t-t_0)}{n} > 1\n",
    "$$\n",
    "And the other boundary:\n",
    "$$\n",
    "P(n|t,t_0) > P(n+1|t,t_0)\\\\\n",
    "A_n(t) > A_{n+1}(t)\\\\\n",
    "\\frac{(p(t-t_0))^n}{n!} > \\frac{(p(t-t_0))^{n+1}}{(n+1)!}\\\\\n",
    "1 > \\frac{p(t-t_0)}{n-1}\n",
    "$$\n",
    "So that we get\n",
    "$$\n",
    "p(t - t_0) - 1 < n < p(t-t_0)\n",
    "$$\n",
    "\n",
    "This interval contains exactly one integer value, representing the amount of people maximaly likely to arrive"
   ]
  },
  {
   "cell_type": "markdown",
   "metadata": {},
   "source": [
    "### 0.1h"
   ]
  },
  {
   "cell_type": "markdown",
   "metadata": {
    "collapsed": true
   },
   "source": [
    "### 0.1i"
   ]
  },
  {
   "cell_type": "markdown",
   "metadata": {},
   "source": [
    "### 0.1j\n",
    "\n",
    "$$ dtP(t|n,t_0)=  dtP(n|t,t_0) pdt=dt \\frac{p(pt-t_0)^{n-1}e^{-p(t-t_0)}}{(n-1)!} $$"
   ]
  },
  {
   "cell_type": "markdown",
   "metadata": {
    "collapsed": true
   },
   "source": [
    " ### 0.1o\n",
    " \n",
    "$$\n",
    "\\int_{t_0}^{t}P(n;t_n,t_0)P(t;0,t_n)dt_n\n",
    "=\\int_{t_0}^{t}\\frac{p(p(t_n-t_0))^{n-1}e^{-p(t_n-t_0)}}{(n-1)!}*e^{-p(t-t_n)}dt_n\\\\\n",
    "=\\int_{t_0}^{t}\\frac{p(p(t_n-t_0))^{n-1}e^{-p(t_n-t_0+t-t_n)}}{(n-1)!}dt_n\\\\\n",
    "=\\int_{t_0}^{t}\\frac{p(p(t_n-t_0))^{n-1}e^{-p(t-t_0)}}{(n-1)!}dt_n\\\\\n",
    "=\\frac{p^{n}e^{-p(t-t_0)}}{(n-1)!}\\int_{t_0}^{t}(t_n-t_0)^{n-1}dt_n\\\\\n",
    "=\\frac{p^{n}e^{-p(t-t_0)}}{(n-1)!}[\\frac{(t_n-t_0)^{n}}{n}]_{t_0}^{t}\\\\\n",
    "=\\frac{p^{n}e^{-p(t-t_0)}}{(n-1)!}\\frac{(t-t_0)^{n}}{n}\\\\\n",
    "=\\frac{p^{n}(t-t_0)^{n}e^{-p(t-t_0)}}{n!}\\\\\n",
    "=P(n;t,t_0)\n",
    "$$"
   ]
  },
  {
   "cell_type": "markdown",
   "metadata": {
    "collapsed": true
   },
   "source": [
    "## 0.2)"
   ]
  },
  {
   "cell_type": "markdown",
   "metadata": {},
   "source": [
    "### 0.2a\n"
   ]
  },
  {
   "cell_type": "markdown",
   "metadata": {},
   "source": [
    "Since for the expression of $P(n|t+\\Delta t, t_0)$ we used p(t) and not $p(t + \\Delta t)$, the differential equations remain the same. Since the time dependence of the equation changed we have to formulate a new anzats to match our differential equation $\\frac{dP(n|t,t_0)}{dt} = -p(t)P(n|t,t_0) + p(t)P(n-1|t,t_0)$. As an anzats we take the general form of the Poisson distribution solution with a time dependent $\\lambda(t)$.\\\\\n",
    "\n",
    "$$\n",
    "P(n|t,t_0) = \\frac{\\lambda(t)^ne^{-\\lambda(t)}}{n!}\\\\\n",
    "\\frac{dP(n|t,t_0)}{dt} = \\frac{d\\lambda}{dt} (\\frac{n\\lambda(t)^{n-1}e^{-\\lambda(t)}}{n!} - \\frac{\\lambda(t)^ne^{-\\lambda(t)}}{n!})\\\\\n",
    "= \\frac{d\\lambda}{dt} \\frac{\\lambda(t)^{n-1}e^{-\\lambda(t)}}{(n-1)!} - \\frac{d\\lambda}{dt}\\frac{\\lambda(t)^ne^{-\\lambda(t)}}{n!})\\\\\n",
    "= -\\frac{d\\lambda}{dt}P(n|t,t_0) + \\frac{d\\lambda}{dt}P(n-1|t,t_0))\\\\\n",
    "= -pP(n|t,t_0) + pP(n-1|t,t_0)\\\\\n",
    "\\frac{d\\lambda}{dt} = p(t)\\\\\n",
    "\\lambda = \\int_{t_0}^tp(t)dt\n",
    "$$\n",
    "\n",
    "Now if we keep p constant over time we get $\\lambda = \\int_{t_0}^tp(t)dt = p(t - t_0)$, which was our original result for constant p!"
   ]
  },
  {
   "cell_type": "markdown",
   "metadata": {},
   "source": [
    "### 0.2b\n",
    "\n",
    "$$\n",
    "P(0|\\infty,t_0) = \\frac{\\lambda(\\infty)^0e^{-\\lambda(\\infty)}}{0!}\\\\\n",
    "= e^{-\\lambda(\\infty)}\\\\\n",
    "\\lambda(\\infty) = \\int_{t_0}^{\\infty}p(t)dt\n",
    "$$\n",
    "\n",
    "This chance goes to 0 for $\\lambda -> \\infty$. If we would take p(t) = constant, then $\\lambda = \\infty$ and $P(0|\\infty,t_0) = 0$, but if we take a p(t) that will give us a non-infinitely large $\\lambda$ value ($p(t) = 1$, for $0 < t < 1$, $p(t) = 0$ otherwise, for example) our $P(0|\\infty,t_0) \\neq 0$. "
   ]
  }
 ],
 "metadata": {
  "anaconda-cloud": {},
  "kernelspec": {
   "display_name": "Python [Root]",
   "language": "python",
   "name": "Python [Root]"
  },
  "language_info": {
   "codemirror_mode": {
    "name": "ipython",
    "version": 3
   },
   "file_extension": ".py",
   "mimetype": "text/x-python",
   "name": "python",
   "nbconvert_exporter": "python",
   "pygments_lexer": "ipython3",
   "version": "3.5.2"
  }
 },
 "nbformat": 4,
 "nbformat_minor": 0
}
