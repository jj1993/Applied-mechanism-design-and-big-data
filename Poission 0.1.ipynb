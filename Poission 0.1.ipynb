{
 "cells": [
  {
   "cell_type": "markdown",
   "metadata": {
    "slideshow": {
     "slide_type": "slide"
    }
   },
   "source": [
    "## a)\n",
    "Q: If $p\\Delta t$ is the probability that someone arrives within the small time interval\n",
    "$\\Delta t$, then what is the probability that no one arrives within this small time\n",
    "interval?\n",
    "\n",
    "A: $1 - p\\Delta t$"
   ]
  },
  {
   "cell_type": "markdown",
   "metadata": {
    "slideshow": {
     "slide_type": "slide"
    }
   },
   "source": [
    "## b)\n",
    "Q: Express the probability $P(n; t+\\Delta t, t_0)$ in terms of probabilities $P(n −\n",
    "1; t, t_0)$ and $P(n; t, t_0)$.\n",
    "\n",
    "A: $P(n; t+\\Delta t, t_0) = P(n-1; t, t_0) \\times p\\Delta t + P(n; t, t_0)\\times (1-p\\Delta t)$"
   ]
  },
  {
   "cell_type": "markdown",
   "metadata": {
    "slideshow": {
     "slide_type": "slide"
    }
   },
   "source": [
    "## c)\n",
    "Q:  Derive from this expression the differential equation\n",
    "\n",
    "A:\n",
    "\n",
    "$$\\lim_{x\\to0}  \\frac{P(n-1;t, t_0)p \\Delta t + P(n; t, t_0) -  P(n; t, t_0) p\\Delta t - P(n;t, t_0)}{\\Delta t}\\\\\n",
    "\\lim_{x\\to0} \\frac{P(n-1;t, t_0)p \\Delta t -  P(n; t, t_0) p\\Delta t}{\\Delta t}\\\\\n",
    "pP(n-1;t, t_0) -  pP(n; t, t_0) = \\frac{d P(n; t, t_0)}{dt} $$\n"
   ]
  },
  {
   "cell_type": "markdown",
   "metadata": {
    "slideshow": {
     "slide_type": "slide"
    }
   },
   "source": [
    "## d)\n",
    "Q:\n",
    "\n",
    "A: \n",
    "$$P(0; t+\\Delta t, t_0) = P(0; t, t_0) \\times P(1-p\\Delta t)\\\\\n",
    "= P(0; t, t_0) -P(o; t, t_0)p\\Delta t\\\\\\\\\n",
    "\\frac{dP(0;t,t_0)}{dt} = \\lim_{\\Delta t \\to0} \\frac{P(0;t;t_0) - P(0;t;t_0)p\\Delta t - P(0;t;t_0)}{\\Delta t}\\\\\n",
    "= \\lim_{\\Delta t \\to0} \\frac{- P(0;t;t_0)p\\Delta t}{\\Delta t}\\\\\n",
    "= - pP(0;t;t_0)\\\\\n",
    "$$"
   ]
  },
  {
   "cell_type": "markdown",
   "metadata": {
    "slideshow": {
     "slide_type": "slide"
    }
   },
   "source": [
    "## e) \n",
    "$$\\sum_n A_n(t) e^{-p(t-t_0)}=1\\\\\n",
    "\\sum_n A_n(t) =\\frac{1}{e^{-p(t-t_0)}} = e^{p(t-t_0)}\\\\\n",
    "\\sum_n \\frac{(p(t-t_0))^n}{n!}=\\sum_n A_n(t)\\\\\\\\\n",
    "\\frac{(p(t-t_0))^n}{n!}=A_n(t)$$\n"
   ]
  },
  {
   "cell_type": "markdown",
   "metadata": {},
   "source": [
    "## f)\n",
    "mean = $p(t-t_0) = \\lambda = E(x) = Var(x)$\n",
    "\n",
    "because $\\frac{\\lambda^n e^{-\\lambda}}{n!} = \\frac{(p(t-t_0))^n e^{-p(t-t_0)}}{n!}$"
   ]
  },
  {
   "cell_type": "markdown",
   "metadata": {},
   "source": [
    "## g)\n",
    "Most likely number of visitors\n",
    "The number n where "
   ]
  },
  {
   "cell_type": "markdown",
   "metadata": {},
   "source": [
    "## h)"
   ]
  },
  {
   "cell_type": "code",
   "execution_count": 136,
   "metadata": {
    "collapsed": false,
    "scrolled": true
   },
   "outputs": [
    {
     "name": "stderr",
     "output_type": "stream",
     "text": [
      "C:\\Anaconda3\\lib\\site-packages\\matplotlib\\figure.py:397: UserWarning: matplotlib is currently using a non-GUI backend, so cannot show the figure\n",
      "  \"matplotlib is currently using a non-GUI backend, \"\n"
     ]
    },
    {
     "data": {
      "image/png": "[encoded data removed]",
      "text/plain": [
       "<matplotlib.figure.Figure at 0x16690bad208>"
      ]
     },
     "metadata": {},
     "output_type": "display_data"
    }
   ],
   "source": [
    "import random\n",
    "import matplotlib.mlab as mlab\n",
    "import matplotlib.pyplot as plt\n",
    "%matplotlib inline\n",
    "\n",
    "def visitors_in_hour(p):\n",
    "    visitors = 0\n",
    "    for t in range(60):\n",
    "        if p >= random.random():\n",
    "            visitors += 1\n",
    "    return visitors\n",
    "\n",
    "fig = plt.figure()\n",
    "p=0.5\n",
    "experiment_list = []\n",
    "for i in range(10000):\n",
    "    experiment_list.append(visitors_in_hour(p))\n",
    "bin_count = max(experiment_list) - min(experiment_list)\n",
    "n, bins, patches = plt.hist(experiment_list, bin_count, normed=True, facecolor='green', alpha=0.75)\n",
    "\n",
    "\n",
    "mu = p*(60)\n",
    "dist = poisson(mu)\n",
    "x = range(min(experiment_list), max(experiment_list))\n",
    "poi = [dist.pmf(i) for i in x]\n",
    "plt.plot(x, poi, c='red')\n",
    "fig.show()"
   ]
  },
  {
   "cell_type": "code",
   "execution_count": 137,
   "metadata": {
    "collapsed": false,
    "scrolled": false
   },
   "outputs": [
    {
     "name": "stderr",
     "output_type": "stream",
     "text": [
      "C:\\Anaconda3\\lib\\site-packages\\matplotlib\\figure.py:397: UserWarning: matplotlib is currently using a non-GUI backend, so cannot show the figure\n",
      "  \"matplotlib is currently using a non-GUI backend, \"\n"
     ]
    },
    {
     "data": {
      "image/png": "[encoded data removed]",
      "text/plain": [
       "<matplotlib.figure.Figure at 0x1669274b438>"
      ]
     },
     "metadata": {},
     "output_type": "display_data"
    }
   ],
   "source": [
    "from scipy.stats import poisson\n",
    "\n",
    "def visitors_in_hour_per_second(p):\n",
    "    visitors = 0\n",
    "    for t in range(60*60):\n",
    "        if p >= random.random():\n",
    "            visitors += 1\n",
    "    return visitors\n",
    "\n",
    "fig = plt.figure()\n",
    "experiment_list = []\n",
    "p=0.5/60\n",
    "for i in range(10000):\n",
    "    experiment_list.append(visitors_in_hour_per_second(p))\n",
    "bin_count = max(experiment_list) - min(experiment_list)\n",
    "n, bins, patches = plt.hist(experiment_list, bin_count, normed=True, facecolor='green', alpha=0.75)\n",
    "\n",
    "mu = p*(60*60-0)\n",
    "dist = poisson(mu)\n",
    "x = range(min(experiment_list), max(experiment_list))\n",
    "poi = [dist.pmf(i) for i in x]\n",
    "plt.plot(x, poi, c='red')\n",
    "fig.show()"
   ]
  },
  {
   "cell_type": "markdown",
   "metadata": {},
   "source": [
    "## j)\n",
    "The probability for the (n-1)$^{th}$ visit at time t is:\n",
    "\n",
    "$$P(n-1; t, t_0)=\\frac{(p(t-t_0))^{n-1} e^{-p(t-t_0)}}{(n-1)!}$$\n",
    "The probability for 1 extra visitor the arive is:\n",
    "\n",
    "$$p\\Delta t$$\n",
    "\n",
    "So the probability for getting the $n^{th}$ visitor at time $t$ is:\n",
    "\n",
    "$$\\frac{(p(t-t_0))^{n-1} e^{-p(t-t_0)}}{(n-1)!} \\times p\\Delta t$$\n",
    "\n",
    "and as $\\Delta t$ becomes infinitesimally\n",
    "$$dt\\frac{p(p(t-t_0))^{n-1} e^{-p(t-t_0)}}{(n-1)!}=dtP(t;n, t_0)$$ \n"
   ]
  },
  {
   "cell_type": "markdown",
   "metadata": {},
   "source": [
    "## k)\n",
    "$P(t;1, t_0) = pe^{-p(t-t_0)}$\n",
    "An exponential distribution is:\n",
    "$\\lambda e^{-\\lambda x}$\n",
    "So using pattern matching we find:\n",
    "$p=\\lambda$\n",
    "As the mean of a exponential distribution is:\n",
    "$\\lambda^{-1}$ the mean of our function is $p^{-1}$\n"
   ]
  },
  {
   "cell_type": "code",
   "execution_count": 145,
   "metadata": {
    "collapsed": false
   },
   "outputs": [
    {
     "name": "stderr",
     "output_type": "stream",
     "text": [
      "C:\\Anaconda3\\lib\\site-packages\\matplotlib\\figure.py:397: UserWarning: matplotlib is currently using a non-GUI backend, so cannot show the figure\n",
      "  \"matplotlib is currently using a non-GUI backend, \"\n"
     ]
    },
    {
     "data": {
      "image/png": "[encoded data removed]",
      "text/plain": [
       "<matplotlib.figure.Figure at 0x16690a0a400>"
      ]
     },
     "metadata": {},
     "output_type": "display_data"
    }
   ],
   "source": [
    "import numpy as np\n",
    "\n",
    "def exponential_pdf_visitors_one_hour(p):\n",
    "    visitors = 0\n",
    "    time = 0\n",
    "    while time < 60:\n",
    "        time += np.random.exponential(1/p)\n",
    "        visitors += 1\n",
    "    return visitors-1\n",
    "        \n",
    "        \n",
    "fig = plt.figure()\n",
    "p=0.5\n",
    "visitors_list = []\n",
    "for i in range(10000):\n",
    "    visitors = exponential_pdf_visitors_one_hour(p)\n",
    "    visitors_list.append(visitors)\n",
    "n, bins, patches = plt.hist(experiment_list, bin_count, normed=True, facecolor='green', alpha=0.75)\n",
    "\n",
    "\n",
    "\n",
    "mu = p*(60-0)\n",
    "dist = poisson(mu)\n",
    "x = range(min(visitors_list), max(visitors_list))\n",
    "poi = [dist.pmf(i) for i in x]\n",
    "plt.plot(x, poi, c='red')\n",
    "fig.show()"
   ]
  }
 ],
 "metadata": {
  "kernelspec": {
   "display_name": "Python 3",
   "language": "python",
   "name": "python3"
  },
  "language_info": {
   "codemirror_mode": {
    "name": "ipython",
    "version": 3
   },
   "file_extension": ".py",
   "mimetype": "text/x-python",
   "name": "python",
   "nbconvert_exporter": "python",
   "pygments_lexer": "ipython3",
   "version": "3.5.1"
  }
 },
 "nbformat": 4,
 "nbformat_minor": 0
}
