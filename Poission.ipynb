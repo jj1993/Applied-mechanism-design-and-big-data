{
 "cells": [
  {
   "cell_type": "markdown",
   "metadata": {},
   "source": [
    "# 0.1 Poisson Processes"
   ]
  },
  {
   "cell_type": "markdown",
   "metadata": {
    "slideshow": {
     "slide_type": "slide"
    }
   },
   "source": [
    "## a)\n",
    "Q: If $p\\Delta t$ is the probability that someone arrives within the small time interval\n",
    "$\\Delta t$, then what is the probability that no one arrives within this small time\n",
    "interval?\n",
    "\n",
    "A: $1 - p\\Delta t$"
   ]
  },
  {
   "cell_type": "markdown",
   "metadata": {
    "slideshow": {
     "slide_type": "slide"
    }
   },
   "source": [
    "## b)\n",
    "Q: Express the probability $P(n; t+\\Delta t, t_0)$ in terms of probabilities $P(n −\n",
    "1; t, t_0)$ and $P(n; t, t_0)$.\n",
    "\n",
    "A: $P(n; t+\\Delta t, t_0) = P(n-1; t, t_0) \\times p\\Delta t + P(n; t, t_0)\\times (1-p\\Delta t)$"
   ]
  },
  {
   "cell_type": "markdown",
   "metadata": {
    "slideshow": {
     "slide_type": "slide"
    }
   },
   "source": [
    "## c)\n",
    "Q:  Derive from this expression the differential equation\n",
    "\n",
    "A:\n",
    "\n",
    "$$\\lim_{\\Delta t\\to0}  \\frac{P(n-1;t, t_0)p \\Delta t + P(n; t, t_0) -  P(n; t, t_0) p\\Delta t - P(n;t, t_0)}{\\Delta t}\\\\\n",
    "\\lim_{\\Delta t\\to0} \\frac{P(n-1;t, t_0)p \\Delta t -  P(n; t, t_0) p\\Delta t}{\\Delta t}\\\\\n",
    "pP(n-1;t, t_0) -  pP(n; t, t_0) = \\frac{d P(n; t, t_0)}{dt} $$\n"
   ]
  },
  {
   "cell_type": "markdown",
   "metadata": {
    "slideshow": {
     "slide_type": "slide"
    }
   },
   "source": [
    "## d)\n",
    "Q:\n",
    "\n",
    "A: \n",
    "$$P(0; t+\\Delta t, t_0) = P(0; t, t_0) \\times P(1-p\\Delta t)\\\\\n",
    "= P(0; t, t_0) -P(o; t, t_0)p\\Delta t\\\\\\\\\n",
    "\\frac{dP(0;t,t_0)}{dt} = \\lim_{\\Delta t \\to0} \\frac{P(0;t;t_0) - P(0;t;t_0)p\\Delta t - P(0;t;t_0)}{\\Delta t}\\\\\n",
    "= \\lim_{\\Delta t \\to0} \\frac{- P(0;t;t_0)p\\Delta t}{\\Delta t}\\\\\n",
    "= - pP(0;t;t_0)\\\\\n",
    "$$"
   ]
  },
  {
   "cell_type": "markdown",
   "metadata": {
    "slideshow": {
     "slide_type": "slide"
    }
   },
   "source": [
    "## e) \n",
    "$$\\sum_n P(n;t,t_0) = \\sum_n A_n(t) e^{-p(t-t_0)}=1\\\\\n",
    "\\sum_n A_n(t) =\\frac{1}{e^{-p(t-t_0)}} = e^{p(t-t_0)}=\\sum_n \\frac{(p(t-t_0))^n}{n!}\\\\\n",
    "\\sum_n \\frac{(p(t-t_0))^n}{n!}=\\sum_n A_n(t)\\\\\\\\\n",
    "\\frac{(p(t-t_0))^n}{n!}=A_n(t)\\\\\n",
    "P(n:t,t_0) = \\frac{(p(t-t_0))^n}{n!}e^{-p(t-t_0)}\n",
    "$$\n",
    "Now whats left is to prove that this ansatz satisfies the differential equations.\n",
    "\n",
    "$$\n",
    "\\frac{dP(n;t,t_0)}{dt} = n\\frac{p^n(t-t_0)^{n-1}}{n!}e^{-p(t-t_0)} -p\\frac{(p(t-t_0))^n}{n!}e^{-p(t-t_0)}\\\\\n",
    "= p\\frac{(p(t-t_0))^{n-1}}{(n-1)!}e^{-p(t-t_0)} -p\\frac{(p(t-t_0))^n}{n!}e^{-p(t-t_0)}\\\\\n",
    "= pP(n-1;t,t_0) - pP(n;t,t_0)\n",
    "$$\n",
    "\n",
    "Quod erat demonstrandum"
   ]
  },
  {
   "cell_type": "markdown",
   "metadata": {},
   "source": [
    "## f)\n",
    "mean = $p(t-t_0) = \\lambda = E(x) = Var(x)$\n",
    "\n",
    "because $\\frac{\\lambda^n e^{-\\lambda}}{n!} = \\frac{(p(t-t_0))^n e^{-p(t-t_0)}}{n!}$"
   ]
  },
  {
   "cell_type": "markdown",
   "metadata": {},
   "source": [
    "## g)\n",
    "Most likely number of visitors\n",
    "The number n where "
   ]
  },
  {
   "cell_type": "markdown",
   "metadata": {},
   "source": [
    "## h)"
   ]
  },
  {
   "cell_type": "code",
   "execution_count": 1,
   "metadata": {
    "collapsed": false,
    "scrolled": true
   },
   "outputs": [
    {
     "name": "stderr",
     "output_type": "stream",
     "text": [
      "C:\\Anaconda3\\lib\\site-packages\\matplotlib\\figure.py:397: UserWarning: matplotlib is currently using a non-GUI backend, so cannot show the figure\n",
      "  \"matplotlib is currently using a non-GUI backend, \"\n"
     ]
    },
    {
     "data": {
      "image/png": "[encoded data removed]",
      "text/plain": [
       "<matplotlib.figure.Figure at 0x22084967f28>"
      ]
     },
     "metadata": {},
     "output_type": "display_data"
    }
   ],
   "source": [
    "import random\n",
    "import matplotlib.mlab as mlab\n",
    "import matplotlib.pyplot as plt\n",
    "from scipy.stats import poisson\n",
    "\n",
    "%matplotlib inline\n",
    "\n",
    "def visitors_in_hour(p):\n",
    "    visitors = 0\n",
    "    for t in range(60):\n",
    "        if p >= random.random():\n",
    "            visitors += 1\n",
    "    return visitors\n",
    "\n",
    "fig = plt.figure()\n",
    "p=0.5\n",
    "experiment_list = []\n",
    "for i in range(10000):\n",
    "    experiment_list.append(visitors_in_hour(p))\n",
    "bin_count = max(experiment_list) - min(experiment_list)\n",
    "n, bins, patches = plt.hist(experiment_list, bin_count, normed=True, facecolor='green', alpha=0.75)\n",
    "\n",
    "\n",
    "mu = p*(60)\n",
    "dist = poisson(mu)\n",
    "x = range(min(experiment_list), max(experiment_list))\n",
    "poi = [dist.pmf(i) for i in x]\n",
    "plt.plot(x, poi, c='red')\n",
    "fig.show()"
   ]
  },
  {
   "cell_type": "code",
   "execution_count": 2,
   "metadata": {
    "collapsed": false,
    "scrolled": false
   },
   "outputs": [
    {
     "name": "stderr",
     "output_type": "stream",
     "text": [
      "C:\\Anaconda3\\lib\\site-packages\\matplotlib\\figure.py:397: UserWarning: matplotlib is currently using a non-GUI backend, so cannot show the figure\n",
      "  \"matplotlib is currently using a non-GUI backend, \"\n"
     ]
    },
    {
     "data": {
      "image/png": "[encoded data removed]",
      "text/plain": [
       "<matplotlib.figure.Figure at 0x22082c18780>"
      ]
     },
     "metadata": {},
     "output_type": "display_data"
    }
   ],
   "source": [
    "\n",
    "def visitors_in_hour_per_second(p):\n",
    "    visitors = 0\n",
    "    for t in range(60*60):\n",
    "        if p >= random.random():\n",
    "            visitors += 1\n",
    "    return visitors\n",
    "\n",
    "fig = plt.figure()\n",
    "experiment_list = []\n",
    "p=0.5/60\n",
    "for i in range(10000):\n",
    "    experiment_list.append(visitors_in_hour_per_second(p))\n",
    "bin_count = max(experiment_list) - min(experiment_list)\n",
    "n, bins, patches = plt.hist(experiment_list, bin_count, normed=True, facecolor='green', alpha=0.75)\n",
    "\n",
    "mu = p*(60*60-0)\n",
    "dist = poisson(mu)\n",
    "x = range(min(experiment_list), max(experiment_list))\n",
    "poi = [dist.pmf(i) for i in x]\n",
    "plt.plot(x, poi, c='red')\n",
    "fig.show()"
   ]
  },
  {
   "cell_type": "markdown",
   "metadata": {},
   "source": [
    "## j)\n",
    "The probability for the (n-1)$^{th}$ visit at time t is:\n",
    "\n",
    "$$P(n-1; t, t_0)=\\frac{(p(t-t_0))^{n-1} e^{-p(t-t_0)}}{(n-1)!}$$\n",
    "The probability for 1 extra visitor the arive is:\n",
    "\n",
    "$$p\\Delta t$$\n",
    "\n",
    "So the probability for getting the $n^{th}$ visitor at time $t$ is:\n",
    "\n",
    "$$\\frac{(p(t-t_0))^{n-1} e^{-p(t-t_0)}}{(n-1)!} \\times p\\Delta t$$\n",
    "\n",
    "and as $\\Delta t$ becomes infinitesimally small\n",
    "$$dt\\frac{p(p(t-t_0))^{n-1} e^{-p(t-t_0)}}{(n-1)!}=dtP(t;n, t_0)$$ \n"
   ]
  },
  {
   "cell_type": "markdown",
   "metadata": {},
   "source": [
    "## k)\n",
    "$P(t;1, t_0) = pe^{-p(t-t_0)}$\n",
    "An exponential distribution is:\n",
    "$\\lambda e^{-\\lambda x}$\n",
    "So using pattern matching we find:\n",
    "$p=\\lambda$\n",
    "As the mean of a exponential distribution is:\n",
    "$\\lambda^{-1}$ the mean of our function is $p^{-1}$\n"
   ]
  },
  {
   "cell_type": "markdown",
   "metadata": {},
   "source": [
    "## l)"
   ]
  },
  {
   "cell_type": "markdown",
   "metadata": {},
   "source": [
    "## m)\n",
    "\n",
    "See code below..\n",
    "\n",
    "**Q:** Compare with the previous simulations and with the expected Poisson\n",
    "distribution"
   ]
  },
  {
   "cell_type": "code",
   "execution_count": 3,
   "metadata": {
    "collapsed": false
   },
   "outputs": [
    {
     "name": "stdout",
     "output_type": "stream",
     "text": [
      "Times generated: 309762\n"
     ]
    },
    {
     "name": "stderr",
     "output_type": "stream",
     "text": [
      "C:\\Anaconda3\\lib\\site-packages\\matplotlib\\figure.py:397: UserWarning: matplotlib is currently using a non-GUI backend, so cannot show the figure\n",
      "  \"matplotlib is currently using a non-GUI backend, \"\n"
     ]
    },
    {
     "data": {
      "image/png": "[encoded data removed]",
      "text/plain": [
       "<matplotlib.figure.Figure at 0x22082c18358>"
      ]
     },
     "metadata": {},
     "output_type": "display_data"
    }
   ],
   "source": [
    "import numpy as np\n",
    "times = []\n",
    "def exponential_pdf_visitors_one_hour(p):\n",
    "    visitors = 0\n",
    "    time = 0\n",
    "    while time < 60:\n",
    "        t = np.random.exponential(1/p)\n",
    "        time += t\n",
    "        times.append(t)\n",
    "        visitors += 1\n",
    "    return visitors-1\n",
    "        \n",
    "        \n",
    "fig = plt.figure()\n",
    "p=0.5\n",
    "visitors_list = []\n",
    "for i in range(10000):\n",
    "    visitors = exponential_pdf_visitors_one_hour(p)\n",
    "    visitors_list.append(visitors)\n",
    "n, bins, patches = plt.hist(experiment_list, bin_count, normed=True, facecolor='green', alpha=0.75)\n",
    "\n",
    "print(\"Times generated:\",len(times))\n",
    "\n",
    "\n",
    "mu = p*(60-0)\n",
    "dist = poisson(mu)\n",
    "x = range(min(visitors_list), max(visitors_list))\n",
    "poi = [dist.pmf(i) for i in x]\n",
    "plt.plot(x, poi, c='red')\n",
    "fig.show()"
   ]
  },
  {
   "cell_type": "markdown",
   "metadata": {},
   "source": [
    "## n)\n",
    "Times generated: 309685\n",
    "Number of steps in i): 600000\n",
    "So the number of times generates is roughly 600000/2\n"
   ]
  },
  {
   "cell_type": "markdown",
   "metadata": {},
   "source": [
    "## o)"
   ]
  },
  {
   "cell_type": "markdown",
   "metadata": {},
   "source": [
    "# 0.2 Time dependent rate"
   ]
  },
  {
   "cell_type": "markdown",
   "metadata": {
    "collapsed": true
   },
   "source": [
    "## 0.2 a)\n",
    "\n",
    "$$P(n;t,t_0) = \\frac{(p(t-t_0))^n e^{-p(t-t_0)}}{n!}$$\n",
    "With the new p: $p = p(t)$ we get:\n",
    "$$P(n;t,t_0) = \\frac{(p(t)(t-t_0))^n e^{-p(t)(t-t_0)}}{n!}$$\n",
    "\n"
   ]
  },
  {
   "cell_type": "markdown",
   "metadata": {
    "collapsed": true
   },
   "source": [
    "## 0.2 b)\n",
    "$$lim_{t\\to\\infty} P(0,\\infty, t_0) = \\\\\n",
    "lim_{t\\to\\infty} \\frac{(p(t)(t-t_0))^0 e^{-p(t)(t-t_0)}}{0!}\\\\\n",
    "lim_{t\\to\\infty} \\frac{1 e^{-p(t)(t-t_0)}}{1}\\\\\n",
    "lim_{t\\to\\infty} e^{-p(t)(t-t_0)}-0\n",
    "$$\n",
    "\n",
    "If $p(t) = 0$ after a certain point in time the propabililty for 0 visitores ever is non-zero. This is impossible with a constant rate."
   ]
  },
  {
   "cell_type": "markdown",
   "metadata": {
    "collapsed": true
   },
   "source": [
    "##  0.2 c)\n",
    "\n",
    "$$\n",
    "P(t|n,t_0) = p(t)P(n-1|t,t_0)\\\\\n",
    "= p(t)\\frac{\\lambda(t)^{n-1}e^{-\\lambda(t)}}{(n-1)!}\n",
    "$$"
   ]
  },
  {
   "cell_type": "markdown",
   "metadata": {
    "collapsed": true
   },
   "source": [
    "## 0.2 d)\n",
    "\n",
    "$$\n",
    "P(t_2|2,t_0) = \\int_{t_0}^{t_2} P(t_1|1,t_0)P(t_2|2,t_1)dt_1 \\\\\n",
    "= \\int_{t_0}^{t_2} p(t_1)e^{-\\int_{t_0}^{t_1} p(s)ds}p(t_2)e^{-\\int_{t_1}^{t_2} p(s)ds}dt_1\\\\\n",
    "= p(t_2)\\int_{t_0}^{t_1} p(t_1)e^{-(\\int_{t_0}^{t_2} p(s)ds+\\int_{t_1}^{t_2} p(s)ds)}dt_1\\\\\n",
    "= p(t_2)e^{-\\int_{t_0}^{t_2} p(s)ds}\\int_{t_0}^{t_2} p(t_1)dt_1\\\\\n",
    "= p(t_2)\\lambda(t_2)e^{-\\lambda(t_2)}\\\\\n",
    "= p(t_2)\\frac{\\lambda(t_2)^{n-1}e^{-\\lambda(t_2)}}{(n-1)!}, \\text{for }n = 2\n",
    "$$"
   ]
  },
  {
   "cell_type": "markdown",
   "metadata": {
    "collapsed": true
   },
   "source": [
    "## 0.2 e)\n",
    "| Start | End   | Rate |\n",
    "|-------|-------|------|\n",
    "| 18:00 | 19:00 | 0.1  |\n",
    "| 19:00 | 20:00 | 0.2  |\n",
    "| 20:00 | 21:00 | 0.3  |\n",
    "| 21:00 | 22:00 | 0.4  |\n",
    "| 22:00 | 23:00 | 0.5  |\n",
    "| 23:00 | 00:00 | 0.6  |\n",
    "| 00:00 | 01:00 | 0.3  |\n",
    "| 01:00 | 02:00 | 0.1  |"
   ]
  },
  {
   "cell_type": "code",
   "execution_count": 4,
   "metadata": {
    "collapsed": false
   },
   "outputs": [
    {
     "data": {
      "image/png": "[encoded data removed]",
      "text/plain": [
       "<matplotlib.figure.Figure at 0x220874ee208>"
      ]
     },
     "metadata": {},
     "output_type": "display_data"
    }
   ],
   "source": [
    "import math\n",
    "\n",
    "pt = {18:0.1,\n",
    "      19:0.2,\n",
    "      20:0.3,\n",
    "      21:0.4,\n",
    "      22:0.5,\n",
    "      23:0.6,\n",
    "      0:0.3,\n",
    "      1:0.1}\n",
    "\n",
    "def nth_visitor_arrival(n, t0, t):\n",
    "    l = lambda_function(t0, t)\n",
    "    hour = get_hour(t)\n",
    "    return (pt[hour] * math.pow(l,n-1) * math.exp(-l))/math.factorial(n-1)\n",
    "\n",
    "def get_hour(minute):\n",
    "    return (18+math.floor(minute/60))%24\n",
    "\n",
    "def get_rate(minute):\n",
    "    return pt[get_hour(minute)]\n",
    "\n",
    "def lambda_function(t0, t):\n",
    "    result = 0\n",
    "    for minute in range(t0, t):\n",
    "        hour = get_hour(minute)\n",
    "        rate = pt[hour]\n",
    "        result += rate\n",
    "    return result\n",
    "\n",
    "\n",
    "results = []\n",
    "for minute in range(60*len(pt)):\n",
    "    result =nth_visitor_arrival(1, 0, minute)\n",
    "    results.append(result)\n",
    "\n",
    "plt.plot(results)\n",
    "\n",
    "\n",
    "plt.show()\n",
    "\n",
    "                                                 \n",
    "    "
   ]
  },
  {
   "cell_type": "markdown",
   "metadata": {
    "collapsed": true
   },
   "source": [
    "## f)"
   ]
  },
  {
   "cell_type": "code",
   "execution_count": 5,
   "metadata": {
    "collapsed": false
   },
   "outputs": [
    {
     "data": {
      "image/png": "[encoded data removed]",
      "text/plain": [
       "<matplotlib.figure.Figure at 0x22082c1aa90>"
      ]
     },
     "metadata": {},
     "output_type": "display_data"
    }
   ],
   "source": [
    "results = []\n",
    "for minute in range(60*len(pt)):\n",
    "    result =nth_visitor_arrival(10, 0, minute)\n",
    "    results.append(result)\n",
    "\n",
    "plt.plot(results)\n",
    "\n",
    "plt.show()"
   ]
  },
  {
   "cell_type": "markdown",
   "metadata": {
    "collapsed": true
   },
   "source": [
    "## g)"
   ]
  },
  {
   "cell_type": "code",
   "execution_count": 6,
   "metadata": {
    "collapsed": false
   },
   "outputs": [],
   "source": [
    "def random_number(t0, nth_visitor):\n",
    "    r = random.random()\n",
    "    integral = 0\n",
    "    for minute in range(1,60*len(pt)):\n",
    "        integral += nth_visitor_arrival(nth_visitor, t0, minute)\n",
    "        if integral>=r:\n",
    "            return minute\n",
    "\n"
   ]
  },
  {
   "cell_type": "code",
   "execution_count": 7,
   "metadata": {
    "collapsed": true
   },
   "outputs": [],
   "source": [
    "def random_number2(t0):\n",
    "    r = random.random()\n",
    "    t = -get_rate(t0) * math.log(1-r)\n",
    "    t =  t if t> 0 else 0\n",
    "    return t"
   ]
  },
  {
   "cell_type": "code",
   "execution_count": 8,
   "metadata": {
    "collapsed": false
   },
   "outputs": [
    {
     "name": "stdout",
     "output_type": "stream",
     "text": [
      "0.9509633246326925\n"
     ]
    },
    {
     "data": {
      "text/plain": [
       "[<matplotlib.lines.Line2D at 0x22087621a58>]"
      ]
     },
     "execution_count": 8,
     "metadata": {},
     "output_type": "execute_result"
    },
    {
     "data": {
      "image/png": "[encoded data removed]",
      "text/plain": [
       "<matplotlib.figure.Figure at 0x220875d47f0>"
      ]
     },
     "metadata": {},
     "output_type": "display_data"
    }
   ],
   "source": [
    "#thing\n",
    "integral = 0\n",
    "area = []\n",
    "for minute in range(1,60*len(pt)):\n",
    "    integral += nth_visitor_arrival(1, 0, minute)\n",
    "    if integral>=1:\n",
    "        print(\"yay\", integral)\n",
    "        break\n",
    "    area.append(integral)\n",
    "print(integral)\n",
    "plt.plot(area)"
   ]
  },
  {
   "cell_type": "markdown",
   "metadata": {
    "collapsed": true
   },
   "source": [
    "## h)"
   ]
  },
  {
   "cell_type": "code",
   "execution_count": 13,
   "metadata": {
    "collapsed": false
   },
   "outputs": [
    {
     "name": "stdout",
     "output_type": "stream",
     "text": [
      "1 951\n"
     ]
    },
    {
     "data": {
      "image/png": "[encoded data removed]",
      "text/plain": [
       "<matplotlib.figure.Figure at 0x220e266ce80>"
      ]
     },
     "metadata": {},
     "output_type": "display_data"
    },
    {
     "name": "stdout",
     "output_type": "stream",
     "text": [
      "10 1000\n"
     ]
    },
    {
     "data": {
      "image/png": "[encoded data removed]",
      "text/plain": [
       "<matplotlib.figure.Figure at 0x220e255ce48>"
      ]
     },
     "metadata": {},
     "output_type": "display_data"
    }
   ],
   "source": [
    "def do_simulation_for_nth(nth_visitor):\n",
    "    results = []\n",
    "    for i in range(1000):\n",
    "        r = random_number(0,nth_visitor)\n",
    "        if r:\n",
    "            results.append(r)\n",
    "    print(nth_visitor, len(results))\n",
    "    fig = plt.figure()\n",
    "    bin_count = max(results) - min(results)\n",
    "    n, bins, patches = plt.hist(results, bin_count, normed=True, facecolor='green', alpha=0.75)\n",
    "\n",
    "    real_results = []\n",
    "    for minute in range(min(results), max(results)):\n",
    "        result = nth_visitor_arrival(nth_visitor, 0, minute)\n",
    "        real_results.append(result)\n",
    "\n",
    "    x = range(min(results), max(results))\n",
    "    plt.plot(x, real_results, c='red')\n",
    "    plt.title('{}th visitor'.format(nth_visitor))\n",
    "    plt.show()\n",
    "\n",
    "nth_visitor = 1\n",
    "do_simulation_for_nth(nth_visitor)\n",
    "nth_visitor = 10\n",
    "do_simulation_for_nth(nth_visitor)"
   ]
  },
  {
   "cell_type": "code",
   "execution_count": 18,
   "metadata": {
    "collapsed": false
   },
   "outputs": [
    {
     "name": "stdout",
     "output_type": "stream",
     "text": [
      "0.013490028493107323\n",
      "0.049461451637405604\n",
      "0.39844662519885427\n",
      "0.08998360436563722\n",
      "0.3699477113131753\n",
      "0.16260753928781987\n",
      "0.1526277776861811\n",
      "0.041640037291556305\n",
      "0.016849176314155136\n",
      "0.043429087604274524\n",
      "0.02613847238931812\n",
      "0.009689722239561762\n",
      "0.0964260100671554\n",
      "0.045987077733200155\n",
      "0.043223767987500224\n",
      "0.007789918102283239\n",
      "0.1132442474073038\n",
      "0.04343272937370064\n",
      "0.041722265169164635\n",
      "0.012976853046868398\n",
      "0.057202516296401024\n",
      "0.07274136332749924\n",
      "0.035955046444259196\n",
      "0.0013429646697530303\n",
      "0.03611648429975424\n",
      "0.21270131812390494\n",
      "0.04952882163451424\n",
      "0.15611371120996087\n",
      "0.28490057231477656\n",
      "0.11847940930968939\n",
      "0.010905821351253273\n",
      "0.0683274104810348\n",
      "0.020086634377396058\n",
      "0.0565768072902385\n",
      "0.005381878019973859\n",
      "0.01913098990784269\n",
      "0.018123376274968423\n",
      "0.17352148653702326\n",
      "0.2572587542144488\n",
      "0.02314370387071906\n",
      "0.0661265437260422\n",
      "0.011989088516903196\n",
      "0.0368103360673918\n",
      "0.22636629904795127\n",
      "0.2038452688677027\n",
      "0.1355172620834304\n",
      "0.0244747068721567\n",
      "0.2059849810356867\n",
      "0.14655724539502038\n",
      "0.17882944052056668\n",
      "0.052854772578810105\n",
      "0.046937799443280755\n",
      "0.022508112652368396\n",
      "0.048202300279275724\n",
      "0.10987353705813914\n",
      "0.1094287943996179\n",
      "0.000442411364108075\n",
      "0.0791917677717994\n",
      "0.014935750434293578\n",
      "0.0073456260754690755\n",
      "0.0969624160004566\n",
      "0.08404154203949304\n",
      "0.03606599414639651\n",
      "0.06153380975674294\n",
      "0.03583068769992933\n",
      "0.20106429329355083\n",
      "0.07586255829120858\n",
      "0.006389153665821011\n",
      "0.061754510025247504\n",
      "0.006536941572364444\n",
      "0.3008995668617643\n",
      "0.05488032507859878\n",
      "0.09832051778490108\n",
      "0.028075125696014742\n",
      "0.06531875616300196\n",
      "0.08268829314725593\n",
      "0.21269808529384845\n",
      "0.08177725658351213\n",
      "0.6164110689389565\n",
      "0.053004317581396704\n",
      "0.057780783295955054\n",
      "0.10520756895446148\n",
      "0.11726641662610315\n",
      "0.033896268652101824\n",
      "0.22379311052369344\n",
      "0.1864788830231736\n",
      "0.12661232016231214\n",
      "0.017048293416347362\n",
      "0.19779222799125404\n",
      "0.015920006119923263\n",
      "0.03178348986972867\n",
      "0.15115701469307466\n",
      "0.08911804032355412\n",
      "0.19955880161305672\n",
      "0.13384604711770132\n",
      "0.08234902483901048\n",
      "0.1031271087672485\n",
      "0.004917239182524846\n",
      "0.14557961929423732\n",
      "0.02054231073603548\n",
      "0.10108666528364255\n",
      "0.06490386615628758\n",
      "0.0249644820833568\n",
      "0.07979348912049238\n",
      "0.2596816359934141\n",
      "0.017051422948534668\n",
      "0.04630365697705847\n",
      "0.49917689482440325\n",
      "0.36381884124404257\n",
      "0.04703876341822648\n",
      "0.002968649486120729\n",
      "0.15930656242289157\n",
      "0.0341424046722319\n",
      "0.05499857974757866\n",
      "0.07652063625673232\n",
      "0.08279650248938142\n",
      "0.15948244475136789\n",
      "0.0021984438605737377\n",
      "0.20337200222403143\n",
      "0.03705519761356126\n",
      "0.23242685137235786\n",
      "0.20385164734882275\n",
      "0.1071141629602366\n",
      "0.005121790202035563\n",
      "0.10558787791727216\n",
      "0.1602086397482631\n",
      "0.22517109869395335\n",
      "0.036092406315292654\n",
      "0.024571470746849525\n",
      "0.0739675821191206\n",
      "0.08323412356289517\n",
      "0.0902845952158753\n",
      "0.09891689246465148\n",
      "0.02781669152214222\n",
      "0.20907346298997476\n",
      "0.04867442215731894\n",
      "0.3243223398007571\n",
      "0.1232268044927884\n",
      "0.009852955908660997\n",
      "0.023105981327295404\n",
      "0.08316099590579423\n",
      "0.10739074024434686\n",
      "0.22645988633412295\n",
      "0.036739129584335145\n",
      "0.19691772162807608\n",
      "0.13113144091887746\n",
      "0.042830624726529126\n",
      "0.09512938385139158\n",
      "0.05801636888130327\n",
      "0.18298749655350877\n",
      "0.011998657413758796\n",
      "0.058687466737302366\n",
      "0.18618822140997288\n",
      "0.059729353178674505\n",
      "0.1824121770665458\n",
      "0.07673197438122481\n",
      "0.06423369711251786\n",
      "0.13054305466617178\n",
      "0.10215164268233415\n",
      "0.04154258557162803\n",
      "0.09201755416114059\n",
      "0.03061589596620523\n",
      "0.006102325369475029\n",
      "0.5708773639457555\n",
      "0.15733127037603467\n",
      "0.21345011835431507\n",
      "0.2100043358930348\n",
      "0.05889301811742447\n",
      "0.1330420261162548\n",
      "0.020580248173167073\n",
      "0.07109232249955462\n",
      "0.13845354671295992\n",
      "0.004901125611482167\n",
      "0.05603685966906416\n",
      "0.16656239594646194\n",
      "0.046020514340296456\n",
      "0.0665754463848626\n",
      "0.0649658325913182\n",
      "0.16359982712353321\n",
      "0.014949431260431831\n",
      "0.01504590742872384\n",
      "0.0674127172848144\n",
      "0.06040149602824796\n",
      "0.07105432225611523\n",
      "0.07826315397799016\n",
      "0.06768566623766979\n",
      "0.026053726684761552\n",
      "0.026934921294209137\n",
      "0.27277014253511933\n",
      "0.06918429526478127\n",
      "0.02621963417448931\n",
      "0.13072921983165417\n",
      "0.07641685277696682\n",
      "0.11259812133368721\n",
      "0.047309830856218656\n",
      "0.007010723315166921\n",
      "0.17109085314486408\n",
      "0.32943555940231156\n",
      "0.002933874453571391\n",
      "0.06909348835965072\n"
     ]
    },
    {
     "ename": "ValueError",
     "evalue": "`bins` should be a positive integer.",
     "output_type": "error",
     "traceback": [
      "\u001b[1;31m---------------------------------------------------------------------------\u001b[0m",
      "\u001b[1;31mValueError\u001b[0m                                Traceback (most recent call last)",
      "\u001b[1;32m<ipython-input-18-3050167d47fa>\u001b[0m in \u001b[0;36m<module>\u001b[1;34m()\u001b[0m\n\u001b[0;32m     28\u001b[0m \u001b[0mbin_count\u001b[0m \u001b[1;33m=\u001b[0m \u001b[0mmax\u001b[0m\u001b[1;33m(\u001b[0m\u001b[0mfirst_visitors\u001b[0m\u001b[1;33m)\u001b[0m \u001b[1;33m-\u001b[0m \u001b[0mmin\u001b[0m\u001b[1;33m(\u001b[0m\u001b[0mfirst_visitors\u001b[0m\u001b[1;33m)\u001b[0m\u001b[1;33m\u001b[0m\u001b[0m\n\u001b[0;32m     29\u001b[0m \u001b[1;33m\u001b[0m\u001b[0m\n\u001b[1;32m---> 30\u001b[1;33m \u001b[0mn\u001b[0m\u001b[1;33m,\u001b[0m \u001b[0mbins\u001b[0m\u001b[1;33m,\u001b[0m \u001b[0mpatches\u001b[0m \u001b[1;33m=\u001b[0m \u001b[0mplt\u001b[0m\u001b[1;33m.\u001b[0m\u001b[0mhist\u001b[0m\u001b[1;33m(\u001b[0m\u001b[0mfirst_visitors\u001b[0m\u001b[1;33m,\u001b[0m \u001b[0mbin_count\u001b[0m\u001b[1;33m,\u001b[0m \u001b[0mnormed\u001b[0m\u001b[1;33m=\u001b[0m\u001b[1;32mTrue\u001b[0m\u001b[1;33m,\u001b[0m \u001b[0mfacecolor\u001b[0m\u001b[1;33m=\u001b[0m\u001b[1;34m'green'\u001b[0m\u001b[1;33m,\u001b[0m \u001b[0malpha\u001b[0m\u001b[1;33m=\u001b[0m\u001b[1;36m0.75\u001b[0m\u001b[1;33m)\u001b[0m\u001b[1;33m\u001b[0m\u001b[0m\n\u001b[0m\u001b[0;32m     31\u001b[0m \u001b[1;33m\u001b[0m\u001b[0m\n\u001b[0;32m     32\u001b[0m \u001b[0mreal_results\u001b[0m \u001b[1;33m=\u001b[0m \u001b[1;33m[\u001b[0m\u001b[1;33m]\u001b[0m\u001b[1;33m\u001b[0m\u001b[0m\n",
      "\u001b[1;32mC:\\Anaconda3\\lib\\site-packages\\matplotlib\\pyplot.py\u001b[0m in \u001b[0;36mhist\u001b[1;34m(x, bins, range, normed, weights, cumulative, bottom, histtype, align, orientation, rwidth, log, color, label, stacked, hold, data, **kwargs)\u001b[0m\n\u001b[0;32m   2956\u001b[0m                       \u001b[0mhisttype\u001b[0m\u001b[1;33m=\u001b[0m\u001b[0mhisttype\u001b[0m\u001b[1;33m,\u001b[0m \u001b[0malign\u001b[0m\u001b[1;33m=\u001b[0m\u001b[0malign\u001b[0m\u001b[1;33m,\u001b[0m \u001b[0morientation\u001b[0m\u001b[1;33m=\u001b[0m\u001b[0morientation\u001b[0m\u001b[1;33m,\u001b[0m\u001b[1;33m\u001b[0m\u001b[0m\n\u001b[0;32m   2957\u001b[0m                       \u001b[0mrwidth\u001b[0m\u001b[1;33m=\u001b[0m\u001b[0mrwidth\u001b[0m\u001b[1;33m,\u001b[0m \u001b[0mlog\u001b[0m\u001b[1;33m=\u001b[0m\u001b[0mlog\u001b[0m\u001b[1;33m,\u001b[0m \u001b[0mcolor\u001b[0m\u001b[1;33m=\u001b[0m\u001b[0mcolor\u001b[0m\u001b[1;33m,\u001b[0m \u001b[0mlabel\u001b[0m\u001b[1;33m=\u001b[0m\u001b[0mlabel\u001b[0m\u001b[1;33m,\u001b[0m\u001b[1;33m\u001b[0m\u001b[0m\n\u001b[1;32m-> 2958\u001b[1;33m                       stacked=stacked, data=data, **kwargs)\n\u001b[0m\u001b[0;32m   2959\u001b[0m     \u001b[1;32mfinally\u001b[0m\u001b[1;33m:\u001b[0m\u001b[1;33m\u001b[0m\u001b[0m\n\u001b[0;32m   2960\u001b[0m         \u001b[0max\u001b[0m\u001b[1;33m.\u001b[0m\u001b[0mhold\u001b[0m\u001b[1;33m(\u001b[0m\u001b[0mwashold\u001b[0m\u001b[1;33m)\u001b[0m\u001b[1;33m\u001b[0m\u001b[0m\n",
      "\u001b[1;32mC:\\Anaconda3\\lib\\site-packages\\matplotlib\\__init__.py\u001b[0m in \u001b[0;36minner\u001b[1;34m(ax, *args, **kwargs)\u001b[0m\n\u001b[0;32m   1809\u001b[0m                     warnings.warn(msg % (label_namer, func.__name__),\n\u001b[0;32m   1810\u001b[0m                                   RuntimeWarning, stacklevel=2)\n\u001b[1;32m-> 1811\u001b[1;33m             \u001b[1;32mreturn\u001b[0m \u001b[0mfunc\u001b[0m\u001b[1;33m(\u001b[0m\u001b[0max\u001b[0m\u001b[1;33m,\u001b[0m \u001b[1;33m*\u001b[0m\u001b[0margs\u001b[0m\u001b[1;33m,\u001b[0m \u001b[1;33m**\u001b[0m\u001b[0mkwargs\u001b[0m\u001b[1;33m)\u001b[0m\u001b[1;33m\u001b[0m\u001b[0m\n\u001b[0m\u001b[0;32m   1812\u001b[0m         \u001b[0mpre_doc\u001b[0m \u001b[1;33m=\u001b[0m \u001b[0minner\u001b[0m\u001b[1;33m.\u001b[0m\u001b[0m__doc__\u001b[0m\u001b[1;33m\u001b[0m\u001b[0m\n\u001b[0;32m   1813\u001b[0m         \u001b[1;32mif\u001b[0m \u001b[0mpre_doc\u001b[0m \u001b[1;32mis\u001b[0m \u001b[1;32mNone\u001b[0m\u001b[1;33m:\u001b[0m\u001b[1;33m\u001b[0m\u001b[0m\n",
      "\u001b[1;32mC:\\Anaconda3\\lib\\site-packages\\matplotlib\\axes\\_axes.py\u001b[0m in \u001b[0;36mhist\u001b[1;34m(self, x, bins, range, normed, weights, cumulative, bottom, histtype, align, orientation, rwidth, log, color, label, stacked, **kwargs)\u001b[0m\n\u001b[0;32m   6008\u001b[0m             \u001b[1;31m# this will automatically overwrite bins,\u001b[0m\u001b[1;33m\u001b[0m\u001b[1;33m\u001b[0m\u001b[0m\n\u001b[0;32m   6009\u001b[0m             \u001b[1;31m# so that each histogram uses the same bins\u001b[0m\u001b[1;33m\u001b[0m\u001b[1;33m\u001b[0m\u001b[0m\n\u001b[1;32m-> 6010\u001b[1;33m             \u001b[0mm\u001b[0m\u001b[1;33m,\u001b[0m \u001b[0mbins\u001b[0m \u001b[1;33m=\u001b[0m \u001b[0mnp\u001b[0m\u001b[1;33m.\u001b[0m\u001b[0mhistogram\u001b[0m\u001b[1;33m(\u001b[0m\u001b[0mx\u001b[0m\u001b[1;33m[\u001b[0m\u001b[0mi\u001b[0m\u001b[1;33m]\u001b[0m\u001b[1;33m,\u001b[0m \u001b[0mbins\u001b[0m\u001b[1;33m,\u001b[0m \u001b[0mweights\u001b[0m\u001b[1;33m=\u001b[0m\u001b[0mw\u001b[0m\u001b[1;33m[\u001b[0m\u001b[0mi\u001b[0m\u001b[1;33m]\u001b[0m\u001b[1;33m,\u001b[0m \u001b[1;33m**\u001b[0m\u001b[0mhist_kwargs\u001b[0m\u001b[1;33m)\u001b[0m\u001b[1;33m\u001b[0m\u001b[0m\n\u001b[0m\u001b[0;32m   6011\u001b[0m             \u001b[0mm\u001b[0m \u001b[1;33m=\u001b[0m \u001b[0mm\u001b[0m\u001b[1;33m.\u001b[0m\u001b[0mastype\u001b[0m\u001b[1;33m(\u001b[0m\u001b[0mfloat\u001b[0m\u001b[1;33m)\u001b[0m  \u001b[1;31m# causes problems later if it's an int\u001b[0m\u001b[1;33m\u001b[0m\u001b[0m\n\u001b[0;32m   6012\u001b[0m             \u001b[1;32mif\u001b[0m \u001b[0mmlast\u001b[0m \u001b[1;32mis\u001b[0m \u001b[1;32mNone\u001b[0m\u001b[1;33m:\u001b[0m\u001b[1;33m\u001b[0m\u001b[0m\n",
      "\u001b[1;32mC:\\Anaconda3\\lib\\site-packages\\numpy\\lib\\function_base.py\u001b[0m in \u001b[0;36mhistogram\u001b[1;34m(a, bins, range, normed, weights, density)\u001b[0m\n\u001b[0;32m    189\u001b[0m         \u001b[1;32mif\u001b[0m \u001b[0mnp\u001b[0m\u001b[1;33m.\u001b[0m\u001b[0misscalar\u001b[0m\u001b[1;33m(\u001b[0m\u001b[0mbins\u001b[0m\u001b[1;33m)\u001b[0m \u001b[1;32mand\u001b[0m \u001b[0mbins\u001b[0m \u001b[1;33m<\u001b[0m \u001b[1;36m1\u001b[0m\u001b[1;33m:\u001b[0m\u001b[1;33m\u001b[0m\u001b[0m\n\u001b[0;32m    190\u001b[0m             raise ValueError(\n\u001b[1;32m--> 191\u001b[1;33m                 '`bins` should be a positive integer.')\n\u001b[0m\u001b[0;32m    192\u001b[0m         \u001b[1;32mif\u001b[0m \u001b[0mrange\u001b[0m \u001b[1;32mis\u001b[0m \u001b[1;32mNone\u001b[0m\u001b[1;33m:\u001b[0m\u001b[1;33m\u001b[0m\u001b[0m\n\u001b[0;32m    193\u001b[0m             \u001b[1;32mif\u001b[0m \u001b[0ma\u001b[0m\u001b[1;33m.\u001b[0m\u001b[0msize\u001b[0m \u001b[1;33m==\u001b[0m \u001b[1;36m0\u001b[0m\u001b[1;33m:\u001b[0m\u001b[1;33m\u001b[0m\u001b[0m\n",
      "\u001b[1;31mValueError\u001b[0m: `bins` should be a positive integer."
     ]
    },
    {
     "data": {
      "image/png": "[encoded data removed]",
      "text/plain": [
       "<matplotlib.figure.Figure at 0x22085c07828>"
      ]
     },
     "metadata": {},
     "output_type": "display_data"
    }
   ],
   "source": [
    "first_visitors = []\n",
    "tenth_visitors = []\n",
    "\n",
    "\n",
    "for i in range(1):\n",
    "    minute = 0\n",
    "    nth_visitor=1\n",
    "    arrival_times = []\n",
    "    c = 0\n",
    "    while minute != None and minute < (60*len(pt)) and c < 200:\n",
    "        minute = random_number2(minute)\n",
    "        minute = math.ceil(minute)\n",
    "        c+=1\n",
    "        print(minute)\n",
    "        if minute:\n",
    "            nth_visitor += 1\n",
    "            arrival_times.append(minute)\n",
    "        else:\n",
    "            break\n",
    "    try:\n",
    "        first_visitors.append(arrival_times[0])\n",
    "        tenth_visitors.append(arrival_times[9])\n",
    "    except:\n",
    "        continue\n",
    "\n",
    "    \n",
    "#plot 1\n",
    "fig = plt.figure()\n",
    "bin_count = max(first_visitors) - min(first_visitors)\n",
    "\n",
    "n, bins, patches = plt.hist(first_visitors, bin_count, normed=True, facecolor='green', alpha=0.75)\n",
    "\n",
    "real_results = []\n",
    "for minute in range(min(first_visitors), max(first_visitors)):\n",
    "    result = nth_visitor_arrival(1, 0, minute)\n",
    "    real_results.append(result)\n",
    "    \n",
    "x = range(min(first_visitors), max(first_visitors))\n",
    "plt.plot(x, real_results, c='red')\n",
    "plt.title('{}th visitor'.format(1))\n",
    "plt.show()\n",
    "\n",
    "#plot 2\n",
    "fig = plt.figure()\n",
    "\n",
    "bin_count = max(tenth_visitors) - min(tenth_visitors)\n",
    "n, bins, patches = plt.hist(tenth_visitors, bin_count, normed=True, facecolor='green', alpha=0.75)\n",
    "\n",
    "real_results = []\n",
    "for minute in range(min(tenth_visitors), max(tenth_visitors)):\n",
    "    result = nth_visitor_arrival(10, 0, minute)\n",
    "    real_results.append(result)\n",
    "\n",
    "x = range(min(tenth_visitors), max(tenth_visitors))\n",
    "plt.plot(x, real_results, c='red')\n",
    "plt.title('{}th visitor'.format(10))\n",
    "plt.show()\n",
    "\n",
    "\n"
   ]
  },
  {
   "cell_type": "code",
   "execution_count": null,
   "metadata": {
    "collapsed": true
   },
   "outputs": [],
   "source": []
  }
 ],
 "metadata": {
  "kernelspec": {
   "display_name": "Python 3",
   "language": "python",
   "name": "python3"
  },
  "language_info": {
   "codemirror_mode": {
    "name": "ipython",
    "version": 3
   },
   "file_extension": ".py",
   "mimetype": "text/x-python",
   "name": "python",
   "nbconvert_exporter": "python",
   "pygments_lexer": "ipython3",
   "version": "3.5.1"
  }
 },
 "nbformat": 4,
 "nbformat_minor": 0
}
