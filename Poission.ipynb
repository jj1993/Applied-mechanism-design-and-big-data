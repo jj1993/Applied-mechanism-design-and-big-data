{
 "cells": [
  {
   "cell_type": "markdown",
   "metadata": {},
   "source": [
    "# 0.1 Poisson Processes"
   ]
  },
  {
   "cell_type": "markdown",
   "metadata": {
    "slideshow": {
     "slide_type": "slide"
    }
   },
   "source": [
    "## a)\n",
    "Q: If $p\\Delta t$ is the probability that someone arrives within the small time interval\n",
    "$\\Delta t$, then what is the probability that no one arrives within this small time\n",
    "interval?\n",
    "\n",
    "A: $1 - p\\Delta t$"
   ]
  },
  {
   "cell_type": "markdown",
   "metadata": {
    "slideshow": {
     "slide_type": "slide"
    }
   },
   "source": [
    "## b)\n",
    "Q: Express the probability $P(n; t+\\Delta t, t_0)$ in terms of probabilities $P(n −\n",
    "1; t, t_0)$ and $P(n; t, t_0)$.\n",
    "\n",
    "A: $P(n; t+\\Delta t, t_0) = P(n-1; t, t_0) \\times p\\Delta t + P(n; t, t_0)\\times (1-p\\Delta t)$"
   ]
  },
  {
   "cell_type": "markdown",
   "metadata": {
    "slideshow": {
     "slide_type": "slide"
    }
   },
   "source": [
    "## c)\n",
    "Q:  Derive from this expression the differential equation\n",
    "\n",
    "A:\n",
    "\n",
    "$$\\lim_{\\Delta t\\to0}  \\frac{P(n-1;t, t_0)p \\Delta t + P(n; t, t_0) -  P(n; t, t_0) p\\Delta t - P(n;t, t_0)}{\\Delta t}\\\\\n",
    "\\lim_{\\Delta t\\to0} \\frac{P(n-1;t, t_0)p \\Delta t -  P(n; t, t_0) p\\Delta t}{\\Delta t}\\\\\n",
    "pP(n-1;t, t_0) -  pP(n; t, t_0) = \\frac{d P(n; t, t_0)}{dt} $$\n"
   ]
  },
  {
   "cell_type": "markdown",
   "metadata": {
    "slideshow": {
     "slide_type": "slide"
    }
   },
   "source": [
    "## d)\n",
    "Q:\n",
    "\n",
    "A: \n",
    "$$P(0; t+\\Delta t, t_0) = P(0; t, t_0) \\times P(1-p\\Delta t)\\\\\n",
    "= P(0; t, t_0) -P(o; t, t_0)p\\Delta t\\\\\\\\\n",
    "\\frac{dP(0;t,t_0)}{dt} = \\lim_{\\Delta t \\to0} \\frac{P(0;t;t_0) - P(0;t;t_0)p\\Delta t - P(0;t;t_0)}{\\Delta t}\\\\\n",
    "= \\lim_{\\Delta t \\to0} \\frac{- P(0;t;t_0)p\\Delta t}{\\Delta t}\\\\\n",
    "= - pP(0;t;t_0)\\\\\n",
    "$$"
   ]
  },
  {
   "cell_type": "markdown",
   "metadata": {
    "slideshow": {
     "slide_type": "slide"
    }
   },
   "source": [
    "## e) \n",
    "$$\\sum_n P(n;t,t_0) = \\sum_n A_n(t) e^{-p(t-t_0)}=1\\\\\n",
    "\\sum_n A_n(t) =\\frac{1}{e^{-p(t-t_0)}} = e^{p(t-t_0)}=\\sum_n \\frac{(p(t-t_0))^n}{n!}\\\\\n",
    "\\sum_n \\frac{(p(t-t_0))^n}{n!}=\\sum_n A_n(t)\\\\\\\\\n",
    "\\frac{(p(t-t_0))^n}{n!}=A_n(t)\\\\\n",
    "P(n:t,t_0) = \\frac{(p(t-t_0))^n}{n!}e^{-p(t-t_0)}\n",
    "$$\n",
    "Now whats left is to prove that this ansatz satisfies the differential equations.\n",
    "\n",
    "$$\n",
    "\\frac{dP(n;t,t_0)}{dt} = n\\frac{p^n(t-t_0)^{n-1}}{n!}e^{-p(t-t_0)} -p\\frac{(p(t-t_0))^n}{n!}e^{-p(t-t_0)}\\\\\n",
    "= p\\frac{(p(t-t_0))^{n-1}}{(n-1)!}e^{-p(t-t_0)} -p\\frac{(p(t-t_0))^n}{n!}e^{-p(t-t_0)}\\\\\n",
    "= pP(n-1;t,t_0) - pP(n;t,t_0)\n",
    "$$\n",
    "\n",
    "Quod erat demonstrandum"
   ]
  },
  {
   "cell_type": "markdown",
   "metadata": {},
   "source": [
    "## f)\n",
    "mean = $p(t-t_0) = \\lambda = E(x) = Var(x)$\n",
    "\n",
    "because $\\frac{\\lambda^n e^{-\\lambda}}{n!} = \\frac{(p(t-t_0))^n e^{-p(t-t_0)}}{n!}$"
   ]
  },
  {
   "cell_type": "markdown",
   "metadata": {},
   "source": [
    "## g)\n",
    "Most likely number of visitors\n",
    "The number n where "
   ]
  },
  {
   "cell_type": "markdown",
   "metadata": {},
   "source": [
    "## h)"
   ]
  },
  {
   "cell_type": "code",
   "execution_count": 6,
   "metadata": {
    "collapsed": false,
    "scrolled": true
   },
   "outputs": [
    {
     "name": "stderr",
     "output_type": "stream",
     "text": [
      "C:\\Anaconda3\\lib\\site-packages\\matplotlib\\figure.py:397: UserWarning: matplotlib is currently using a non-GUI backend, so cannot show the figure\n",
      "  \"matplotlib is currently using a non-GUI backend, \"\n"
     ]
    },
    {
     "data": {
      "image/png": "[encoded data removed]",
      "text/plain": [
       "<matplotlib.figure.Figure at 0x1d40d30c630>"
      ]
     },
     "metadata": {},
     "output_type": "display_data"
    }
   ],
   "source": [
    "import random\n",
    "import matplotlib.mlab as mlab\n",
    "import matplotlib.pyplot as plt\n",
    "from scipy.stats import poisson\n",
    "\n",
    "%matplotlib inline\n",
    "\n",
    "def visitors_in_hour(p):\n",
    "    visitors = 0\n",
    "    for t in range(60):\n",
    "        if p >= random.random():\n",
    "            visitors += 1\n",
    "    return visitors\n",
    "\n",
    "fig = plt.figure()\n",
    "p=0.5\n",
    "experiment_list = []\n",
    "for i in range(10000):\n",
    "    experiment_list.append(visitors_in_hour(p))\n",
    "bin_count = max(experiment_list) - min(experiment_list)\n",
    "n, bins, patches = plt.hist(experiment_list, bin_count, normed=True, facecolor='green', alpha=0.75)\n",
    "\n",
    "\n",
    "mu = p*(60)\n",
    "dist = poisson(mu)\n",
    "x = range(min(experiment_list), max(experiment_list))\n",
    "poi = [dist.pmf(i) for i in x]\n",
    "plt.plot(x, poi, c='red')\n",
    "fig.show()"
   ]
  },
  {
   "cell_type": "code",
   "execution_count": 7,
   "metadata": {
    "collapsed": false,
    "scrolled": false
   },
   "outputs": [
    {
     "name": "stderr",
     "output_type": "stream",
     "text": [
      "C:\\Anaconda3\\lib\\site-packages\\matplotlib\\figure.py:397: UserWarning: matplotlib is currently using a non-GUI backend, so cannot show the figure\n",
      "  \"matplotlib is currently using a non-GUI backend, \"\n"
     ]
    },
    {
     "data": {
      "image/png": "[encoded data removed]",
      "text/plain": [
       "<matplotlib.figure.Figure at 0x1d40b5cdd68>"
      ]
     },
     "metadata": {},
     "output_type": "display_data"
    }
   ],
   "source": [
    "\n",
    "def visitors_in_hour_per_second(p):\n",
    "    visitors = 0\n",
    "    for t in range(60*60):\n",
    "        if p >= random.random():\n",
    "            visitors += 1\n",
    "    return visitors\n",
    "\n",
    "fig = plt.figure()\n",
    "experiment_list = []\n",
    "p=0.5/60\n",
    "for i in range(10000):\n",
    "    experiment_list.append(visitors_in_hour_per_second(p))\n",
    "bin_count = max(experiment_list) - min(experiment_list)\n",
    "n, bins, patches = plt.hist(experiment_list, bin_count, normed=True, facecolor='green', alpha=0.75)\n",
    "\n",
    "mu = p*(60*60-0)\n",
    "dist = poisson(mu)\n",
    "x = range(min(experiment_list), max(experiment_list))\n",
    "poi = [dist.pmf(i) for i in x]\n",
    "plt.plot(x, poi, c='red')\n",
    "fig.show()"
   ]
  },
  {
   "cell_type": "markdown",
   "metadata": {},
   "source": [
    "## j)\n",
    "The probability for the (n-1)$^{th}$ visit at time t is:\n",
    "\n",
    "$$P(n-1; t, t_0)=\\frac{(p(t-t_0))^{n-1} e^{-p(t-t_0)}}{(n-1)!}$$\n",
    "The probability for 1 extra visitor the arive is:\n",
    "\n",
    "$$p\\Delta t$$\n",
    "\n",
    "So the probability for getting the $n^{th}$ visitor at time $t$ is:\n",
    "\n",
    "$$\\frac{(p(t-t_0))^{n-1} e^{-p(t-t_0)}}{(n-1)!} \\times p\\Delta t$$\n",
    "\n",
    "and as $\\Delta t$ becomes infinitesimally small\n",
    "$$dt\\frac{p(p(t-t_0))^{n-1} e^{-p(t-t_0)}}{(n-1)!}=dtP(t;n, t_0)$$ \n"
   ]
  },
  {
   "cell_type": "markdown",
   "metadata": {},
   "source": [
    "## k)\n",
    "$P(t;1, t_0) = pe^{-p(t-t_0)}$\n",
    "An exponential distribution is:\n",
    "$\\lambda e^{-\\lambda x}$\n",
    "So using pattern matching we find:\n",
    "$p=\\lambda$\n",
    "As the mean of a exponential distribution is:\n",
    "$\\lambda^{-1}$ the mean of our function is $p^{-1}$\n"
   ]
  },
  {
   "cell_type": "markdown",
   "metadata": {},
   "source": [
    "## l)"
   ]
  },
  {
   "cell_type": "markdown",
   "metadata": {},
   "source": [
    "## m)\n",
    "\n",
    "See code below..\n",
    "\n",
    "**Q:** Compare with the previous simulations and with the expected Poisson\n",
    "distribution"
   ]
  },
  {
   "cell_type": "code",
   "execution_count": 8,
   "metadata": {
    "collapsed": false
   },
   "outputs": [
    {
     "name": "stdout",
     "output_type": "stream",
     "text": [
      "Times generated: 311143\n"
     ]
    },
    {
     "name": "stderr",
     "output_type": "stream",
     "text": [
      "C:\\Anaconda3\\lib\\site-packages\\matplotlib\\figure.py:397: UserWarning: matplotlib is currently using a non-GUI backend, so cannot show the figure\n",
      "  \"matplotlib is currently using a non-GUI backend, \"\n"
     ]
    },
    {
     "data": {
      "image/png": "[encoded data removed]",
      "text/plain": [
       "<matplotlib.figure.Figure at 0x1d40b59ae10>"
      ]
     },
     "metadata": {},
     "output_type": "display_data"
    }
   ],
   "source": [
    "import numpy as np\n",
    "times = []\n",
    "def exponential_pdf_visitors_one_hour(p):\n",
    "    visitors = 0\n",
    "    time = 0\n",
    "    while time < 60:\n",
    "        t = np.random.exponential(1/p)\n",
    "        time += t\n",
    "        times.append(t)\n",
    "        visitors += 1\n",
    "    return visitors-1\n",
    "        \n",
    "        \n",
    "fig = plt.figure()\n",
    "p=0.5\n",
    "visitors_list = []\n",
    "for i in range(10000):\n",
    "    visitors = exponential_pdf_visitors_one_hour(p)\n",
    "    visitors_list.append(visitors)\n",
    "n, bins, patches = plt.hist(experiment_list, bin_count, normed=True, facecolor='green', alpha=0.75)\n",
    "\n",
    "print(\"Times generated:\",len(times))\n",
    "\n",
    "\n",
    "mu = p*(60-0)\n",
    "dist = poisson(mu)\n",
    "x = range(min(visitors_list), max(visitors_list))\n",
    "poi = [dist.pmf(i) for i in x]\n",
    "plt.plot(x, poi, c='red')\n",
    "fig.show()"
   ]
  },
  {
   "cell_type": "markdown",
   "metadata": {},
   "source": [
    "## n)\n",
    "Times generated: 309685\n",
    "Number of steps in i): 600000\n",
    "So the number of times generates is roughly 600000/2\n"
   ]
  },
  {
   "cell_type": "markdown",
   "metadata": {},
   "source": [
    "## o)"
   ]
  },
  {
   "cell_type": "markdown",
   "metadata": {},
   "source": [
    "# 0.2 Time dependent rate"
   ]
  },
  {
   "cell_type": "markdown",
   "metadata": {
    "collapsed": true
   },
   "source": [
    "## 0.2 a)\n",
    "\n",
    "$$P(n;t,t_0) = \\frac{(p(t-t_0))^n e^{-p(t-t_0)}}{n!}$$\n",
    "With the new p: $p = p(t)$ we get:\n",
    "$$P(n;t,t_0) = \\frac{(p(t)(t-t_0))^n e^{-p(t)(t-t_0)}}{n!}$$\n",
    "\n"
   ]
  },
  {
   "cell_type": "markdown",
   "metadata": {
    "collapsed": true
   },
   "source": [
    "## 0.2 b)\n",
    "$$lim_{t\\to\\infty} P(0,\\infty, t_0) = \\\\\n",
    "lim_{t\\to\\infty} \\frac{(p(t)(t-t_0))^0 e^{-p(t)(t-t_0)}}{0!}\\\\\n",
    "lim_{t\\to\\infty} \\frac{1 e^{-p(t)(t-t_0)}}{1}\\\\\n",
    "lim_{t\\to\\infty} e^{-p(t)(t-t_0)}-0\n",
    "$$\n",
    "\n",
    "If $p(t) = 0$ after a certain point in time the propabililty for 0 visitores ever is non-zero. This is impossible with a constant rate."
   ]
  },
  {
   "cell_type": "markdown",
   "metadata": {
    "collapsed": true
   },
   "source": [
    "##  0.2 c)\n",
    "\n",
    "$$\n",
    "P(t|n,t_0) = p(t)P(n-1|t,t_0)\\\\\n",
    "= p(t)\\frac{\\lambda(t)^{n-1}e^{-\\lambda(t)}}{(n-1)!}\n",
    "$$"
   ]
  },
  {
   "cell_type": "markdown",
   "metadata": {
    "collapsed": true
   },
   "source": [
    "## 0.2 d)\n",
    "\n",
    "$$\n",
    "P(t_2|2,t_0) = \\int_{t_0}^{t_2} P(t_1|1,t_0)P(t_2|2,t_1)dt_1 \\\\\n",
    "= \\int_{t_0}^{t_2} p(t_1)e^{-\\int_{t_0}^{t_1} p(s)ds}p(t_2)e^{-\\int_{t_1}^{t_2} p(s)ds}dt_1\\\\\n",
    "= p(t_2)\\int_{t_0}^{t_1} p(t_1)e^{-(\\int_{t_0}^{t_2} p(s)ds+\\int_{t_1}^{t_2} p(s)ds)}dt_1\\\\\n",
    "= p(t_2)e^{-\\int_{t_0}^{t_2} p(s)ds}\\int_{t_0}^{t_2} p(t_1)dt_1\\\\\n",
    "= p(t_2)\\lambda(t_2)e^{-\\lambda(t_2)}\\\\\n",
    "= p(t_2)\\frac{\\lambda(t_2)^{n-1}e^{-\\lambda(t_2)}}{(n-1)!}, \\text{for }n = 2\n",
    "$$"
   ]
  },
  {
   "cell_type": "markdown",
   "metadata": {
    "collapsed": true
   },
   "source": [
    "## 0.2 e)\n",
    "| Start | End   | Rate |\n",
    "|-------|-------|------|\n",
    "| 18:00 | 19:00 | 0.1  |\n",
    "| 19:00 | 20:00 | 0.2  |\n",
    "| 20:00 | 21:00 | 0.3  |\n",
    "| 21:00 | 22:00 | 0.4  |\n",
    "| 22:00 | 23:00 | 0.5  |\n",
    "| 23:00 | 00:00 | 0.6  |\n",
    "| 00:00 | 01:00 | 0.3  |\n",
    "| 01:00 | 02:00 | 0.1  |"
   ]
  },
  {
   "cell_type": "code",
   "execution_count": 9,
   "metadata": {
    "collapsed": false
   },
   "outputs": [
    {
     "data": {
      "image/png": "[encoded data removed]",
      "text/plain": [
       "<matplotlib.figure.Figure at 0x1d40fe9a390>"
      ]
     },
     "metadata": {},
     "output_type": "display_data"
    }
   ],
   "source": [
    "import math\n",
    "\n",
    "pt = {18:0.1,\n",
    "      19:0.2,\n",
    "      20:0.3,\n",
    "      21:0.4,\n",
    "      22:0.5,\n",
    "      23:0.6,\n",
    "      0:0.3,\n",
    "      1:0.1}\n",
    "\n",
    "def nth_visitor_arrival(n, t0, t):\n",
    "    l = lambda_function(t0, t)\n",
    "    hour = get_hour(t)\n",
    "    return (pt[hour] * math.pow(l,n-1) * math.exp(-l))/math.factorial(n-1)\n",
    "\n",
    "def get_hour(minute):\n",
    "    return (18+math.floor(minute/60))%24\n",
    "\n",
    "def get_rate(minute):\n",
    "    return pt[get_hour(minute)]\n",
    "\n",
    "def lambda_function(t0, t):\n",
    "    result = 0\n",
    "    for minute in range(t0, t):\n",
    "        hour = get_hour(minute)\n",
    "        rate = pt[hour]\n",
    "        result += rate\n",
    "    return result\n",
    "\n",
    "\n",
    "results = []\n",
    "for minute in range(60*len(pt)):\n",
    "    result =nth_visitor_arrival(1, 0, minute)\n",
    "    results.append(result)\n",
    "\n",
    "plt.plot(results)\n",
    "\n",
    "\n",
    "plt.show()\n",
    "\n",
    "                                                 \n",
    "    "
   ]
  },
  {
   "cell_type": "markdown",
   "metadata": {
    "collapsed": true
   },
   "source": [
    "## f)"
   ]
  },
  {
   "cell_type": "code",
   "execution_count": 10,
   "metadata": {
    "collapsed": false
   },
   "outputs": [
    {
     "data": {
      "image/png": "[encoded data removed]",
      "text/plain": [
       "<matplotlib.figure.Figure at 0x1d40b59fef0>"
      ]
     },
     "metadata": {},
     "output_type": "display_data"
    }
   ],
   "source": [
    "results = []\n",
    "for minute in range(60*len(pt)):\n",
    "    result =nth_visitor_arrival(10, 0, minute)\n",
    "    results.append(result)\n",
    "\n",
    "plt.plot(results)\n",
    "\n",
    "plt.show()"
   ]
  },
  {
   "cell_type": "markdown",
   "metadata": {
    "collapsed": true
   },
   "source": [
    "## g)"
   ]
  },
  {
   "cell_type": "code",
   "execution_count": 11,
   "metadata": {
    "collapsed": false
   },
   "outputs": [],
   "source": [
    "def random_number(t0, nth_visitor):\n",
    "    # use distribution given by the formula and integrate\n",
    "    r = random.random()\n",
    "    integral = 0\n",
    "    for minute in range(1,60*len(pt)):\n",
    "        integral += nth_visitor_arrival(nth_visitor, t0, minute)\n",
    "        if integral>=r:\n",
    "            return minute\n",
    "\n"
   ]
  },
  {
   "cell_type": "code",
   "execution_count": 12,
   "metadata": {
    "collapsed": true
   },
   "outputs": [],
   "source": [
    "def random_number2(t0):\n",
    "    # Use the rewritten formula to get the time at which the nth person comes in\n",
    "    r = random.random()\n",
    "    t = -get_rate(t0) * math.log(1-r)\n",
    "    t =  t if t> 0 else 0\n",
    "    return t\n"
   ]
  },
  {
   "cell_type": "code",
   "execution_count": 74,
   "metadata": {
    "collapsed": true
   },
   "outputs": [],
   "source": [
    "def random_number3(t0):\n",
    "    # look per minute whether someone comes in or not\n",
    "    r = random.random()\n",
    "    for minute in range(t0,60*len(pt)):\n",
    "        if get_rate(minute) >= random.random():\n",
    "            return minute\n"
   ]
  },
  {
   "cell_type": "markdown",
   "metadata": {
    "collapsed": true
   },
   "source": [
    "## h)"
   ]
  },
  {
   "cell_type": "code",
   "execution_count": 91,
   "metadata": {
    "collapsed": false
   },
   "outputs": [
    {
     "data": {
      "image/png": "[encoded data removed]",
      "text/plain": [
       "<matplotlib.figure.Figure at 0x1be3e22f9e8>"
      ]
     },
     "metadata": {},
     "output_type": "display_data"
    }
   ],
   "source": [
    "#Run simulation where every minute is checked for the arrival of one person. \n",
    "#This simulation is run 10000 times to create a good approximation of the distribution\n",
    "#Momenteel nog: Hoe hoger het aantal bezoekers, hoe groter de afwijking van de echte distribution\n",
    "tens = []\n",
    "n_visitors = 25\n",
    "for i in range(10000):\n",
    "    ct=0\n",
    "    arr2 = []\n",
    "    while ct != None and ct < 60 * len(pt):\n",
    "        ct = random_number3(ct)\n",
    "        arr2.append(ct)\n",
    "    if len(arr2) >= n_visitors:\n",
    "        tens.append(arr2[n_visitors-1])\n",
    "\n",
    "        \n",
    "bin_count = max(tens) - min(tens)\n",
    "n, bins, patches = plt.hist(tens, bin_count, normed=True, facecolor='green', alpha=0.75)\n",
    "\n",
    "real_results = []\n",
    "for minute in range(min(tens), max(tens)):\n",
    "    result = nth_visitor_arrival(n_visitors, 0, minute)\n",
    "    real_results.append(result)\n",
    "\n",
    "x = range(min(tens), max(tens))\n",
    "plt.plot(x, real_results, c='red')\n",
    "plt.title('{}th visitor'.format(n_visitors))\n",
    "plt.show()"
   ]
  },
  {
   "cell_type": "code",
   "execution_count": 23,
   "metadata": {
    "collapsed": false
   },
   "outputs": [
    {
     "name": "stdout",
     "output_type": "stream",
     "text": [
      "1 947\n"
     ]
    },
    {
     "data": {
      "image/png": "[encoded data removed]",
      "text/plain": [
       "<matplotlib.figure.Figure at 0x1d40e564748>"
      ]
     },
     "metadata": {},
     "output_type": "display_data"
    },
    {
     "name": "stdout",
     "output_type": "stream",
     "text": [
      "10 1000\n"
     ]
    },
    {
     "data": {
      "image/png": "[encoded data removed]",
      "text/plain": [
       "<matplotlib.figure.Figure at 0x1d40dfa4908>"
      ]
     },
     "metadata": {},
     "output_type": "display_data"
    }
   ],
   "source": [
    "# This simulation uses the formula to calculate the distribution directly\n",
    "\n",
    "numTimeSteps = 7\n",
    "# 60 means we take minutes in stead of hours\n",
    "# Dont go too high with this number\n",
    "resolution = 60.0\n",
    "\n",
    "def do_simulation_for_nth(nth_visitor):\n",
    "    results = []\n",
    "    for i in range(1000):\n",
    "        t = random_number(0, nth_visitor)\n",
    "        if t:\n",
    "            results.append(t)\n",
    "    print(nth_visitor, len(results))\n",
    "    fig = plt.figure()\n",
    "    bin_count = max(results) - min(results)\n",
    "    n, bins, patches = plt.hist(results, bin_count, normed=True, facecolor='green', alpha=0.75)\n",
    "\n",
    "    real_results = []\n",
    "    for minute in range(min(results), max(results)):\n",
    "        result = nth_visitor_arrival(nth_visitor, 0, minute)\n",
    "        real_results.append(result)\n",
    "\n",
    "    x = range(min(results), max(results))\n",
    "    plt.plot(x, real_results, c='red')\n",
    "    plt.title('{}th visitor'.format(nth_visitor))\n",
    "    plt.show()\n",
    "\n",
    "nth_visitor = 1\n",
    "do_simulation_for_nth(nth_visitor)\n",
    "nth_visitor = 10\n",
    "do_simulation_for_nth(nth_visitor)"
   ]
  },
  {
   "cell_type": "code",
   "execution_count": 20,
   "metadata": {
    "collapsed": false
   },
   "outputs": [
    {
     "name": "stdout",
     "output_type": "stream",
     "text": [
      "1\n",
      "2\n",
      "3\n",
      "4\n",
      "5\n",
      "6\n",
      "7\n",
      "8\n",
      "9\n",
      "10\n",
      "11\n",
      "12\n",
      "13\n",
      "14\n",
      "15\n",
      "16\n",
      "17\n",
      "18\n",
      "19\n",
      "20\n",
      "21\n",
      "22\n",
      "23\n",
      "24\n",
      "25\n",
      "26\n",
      "27\n",
      "28\n",
      "29\n",
      "30\n",
      "31\n",
      "32\n",
      "33\n",
      "34\n",
      "35\n",
      "36\n",
      "37\n",
      "38\n",
      "39\n",
      "40\n",
      "41\n",
      "42\n",
      "43\n",
      "44\n",
      "45\n",
      "46\n",
      "47\n",
      "48\n",
      "49\n",
      "50\n",
      "51\n",
      "52\n",
      "53\n",
      "54\n",
      "55\n",
      "56\n",
      "57\n",
      "58\n",
      "59\n",
      "60\n",
      "61\n",
      "62\n",
      "63\n",
      "64\n",
      "65\n",
      "66\n",
      "67\n",
      "68\n",
      "69\n",
      "70\n",
      "71\n",
      "72\n",
      "73\n",
      "74\n",
      "75\n",
      "76\n",
      "77\n",
      "78\n",
      "79\n",
      "80\n",
      "81\n",
      "82\n",
      "83\n",
      "84\n",
      "85\n",
      "86\n",
      "87\n",
      "88\n",
      "89\n",
      "90\n",
      "91\n",
      "92\n",
      "93\n",
      "94\n",
      "95\n",
      "96\n",
      "97\n",
      "98\n",
      "99\n",
      "100\n",
      "101\n",
      "102\n",
      "103\n",
      "104\n",
      "105\n",
      "106\n",
      "107\n",
      "108\n",
      "109\n",
      "110\n",
      "111\n",
      "112\n",
      "113\n",
      "114\n",
      "115\n",
      "117\n",
      "118\n",
      "119\n",
      "120\n",
      "121\n",
      "122\n",
      "124\n",
      "125\n",
      "126\n",
      "127\n",
      "128\n",
      "129\n",
      "130\n",
      "131\n",
      "132\n",
      "133\n",
      "134\n",
      "135\n",
      "136\n",
      "137\n",
      "138\n",
      "139\n",
      "140\n",
      "141\n",
      "142\n",
      "143\n",
      "144\n",
      "145\n",
      "146\n",
      "147\n",
      "148\n",
      "149\n",
      "150\n",
      "151\n",
      "152\n",
      "153\n",
      "154\n",
      "155\n",
      "156\n",
      "157\n",
      "158\n",
      "159\n",
      "160\n",
      "161\n",
      "162\n",
      "163\n",
      "164\n",
      "165\n",
      "166\n",
      "167\n",
      "168\n",
      "170\n",
      "171\n",
      "172\n",
      "173\n",
      "174\n",
      "175\n",
      "176\n",
      "177\n",
      "178\n",
      "179\n",
      "180\n",
      "181\n",
      "182\n",
      "183\n",
      "184\n",
      "185\n",
      "186\n",
      "187\n",
      "188\n",
      "190\n",
      "191\n",
      "192\n",
      "193\n",
      "194\n",
      "195\n",
      "196\n",
      "197\n",
      "198\n",
      "199\n",
      "200\n",
      "201\n",
      "202\n",
      "203\n",
      "204\n"
     ]
    },
    {
     "ename": "ValueError",
     "evalue": "`bins` should be a positive integer.",
     "output_type": "error",
     "traceback": [
      "\u001b[1;31m---------------------------------------------------------------------------\u001b[0m",
      "\u001b[1;31mValueError\u001b[0m                                Traceback (most recent call last)",
      "\u001b[1;32m<ipython-input-20-3b8fcb03e137>\u001b[0m in \u001b[0;36m<module>\u001b[1;34m()\u001b[0m\n\u001b[0;32m     29\u001b[0m \u001b[0mbin_count\u001b[0m \u001b[1;33m=\u001b[0m \u001b[0mmax\u001b[0m\u001b[1;33m(\u001b[0m\u001b[0mfirst_visitors\u001b[0m\u001b[1;33m)\u001b[0m \u001b[1;33m-\u001b[0m \u001b[0mmin\u001b[0m\u001b[1;33m(\u001b[0m\u001b[0mfirst_visitors\u001b[0m\u001b[1;33m)\u001b[0m\u001b[1;33m\u001b[0m\u001b[0m\n\u001b[0;32m     30\u001b[0m \u001b[1;33m\u001b[0m\u001b[0m\n\u001b[1;32m---> 31\u001b[1;33m \u001b[0mn\u001b[0m\u001b[1;33m,\u001b[0m \u001b[0mbins\u001b[0m\u001b[1;33m,\u001b[0m \u001b[0mpatches\u001b[0m \u001b[1;33m=\u001b[0m \u001b[0mplt\u001b[0m\u001b[1;33m.\u001b[0m\u001b[0mhist\u001b[0m\u001b[1;33m(\u001b[0m\u001b[0mfirst_visitors\u001b[0m\u001b[1;33m,\u001b[0m \u001b[0mbin_count\u001b[0m\u001b[1;33m,\u001b[0m \u001b[0mnormed\u001b[0m\u001b[1;33m=\u001b[0m\u001b[1;32mTrue\u001b[0m\u001b[1;33m,\u001b[0m \u001b[0mfacecolor\u001b[0m\u001b[1;33m=\u001b[0m\u001b[1;34m'green'\u001b[0m\u001b[1;33m,\u001b[0m \u001b[0malpha\u001b[0m\u001b[1;33m=\u001b[0m\u001b[1;36m0.75\u001b[0m\u001b[1;33m)\u001b[0m\u001b[1;33m\u001b[0m\u001b[0m\n\u001b[0m\u001b[0;32m     32\u001b[0m \u001b[1;33m\u001b[0m\u001b[0m\n\u001b[0;32m     33\u001b[0m \u001b[0mreal_results\u001b[0m \u001b[1;33m=\u001b[0m \u001b[1;33m[\u001b[0m\u001b[1;33m]\u001b[0m\u001b[1;33m\u001b[0m\u001b[0m\n",
      "\u001b[1;32mC:\\Anaconda3\\lib\\site-packages\\matplotlib\\pyplot.py\u001b[0m in \u001b[0;36mhist\u001b[1;34m(x, bins, range, normed, weights, cumulative, bottom, histtype, align, orientation, rwidth, log, color, label, stacked, hold, data, **kwargs)\u001b[0m\n\u001b[0;32m   2956\u001b[0m                       \u001b[0mhisttype\u001b[0m\u001b[1;33m=\u001b[0m\u001b[0mhisttype\u001b[0m\u001b[1;33m,\u001b[0m \u001b[0malign\u001b[0m\u001b[1;33m=\u001b[0m\u001b[0malign\u001b[0m\u001b[1;33m,\u001b[0m \u001b[0morientation\u001b[0m\u001b[1;33m=\u001b[0m\u001b[0morientation\u001b[0m\u001b[1;33m,\u001b[0m\u001b[1;33m\u001b[0m\u001b[0m\n\u001b[0;32m   2957\u001b[0m                       \u001b[0mrwidth\u001b[0m\u001b[1;33m=\u001b[0m\u001b[0mrwidth\u001b[0m\u001b[1;33m,\u001b[0m \u001b[0mlog\u001b[0m\u001b[1;33m=\u001b[0m\u001b[0mlog\u001b[0m\u001b[1;33m,\u001b[0m \u001b[0mcolor\u001b[0m\u001b[1;33m=\u001b[0m\u001b[0mcolor\u001b[0m\u001b[1;33m,\u001b[0m \u001b[0mlabel\u001b[0m\u001b[1;33m=\u001b[0m\u001b[0mlabel\u001b[0m\u001b[1;33m,\u001b[0m\u001b[1;33m\u001b[0m\u001b[0m\n\u001b[1;32m-> 2958\u001b[1;33m                       stacked=stacked, data=data, **kwargs)\n\u001b[0m\u001b[0;32m   2959\u001b[0m     \u001b[1;32mfinally\u001b[0m\u001b[1;33m:\u001b[0m\u001b[1;33m\u001b[0m\u001b[0m\n\u001b[0;32m   2960\u001b[0m         \u001b[0max\u001b[0m\u001b[1;33m.\u001b[0m\u001b[0mhold\u001b[0m\u001b[1;33m(\u001b[0m\u001b[0mwashold\u001b[0m\u001b[1;33m)\u001b[0m\u001b[1;33m\u001b[0m\u001b[0m\n",
      "\u001b[1;32mC:\\Anaconda3\\lib\\site-packages\\matplotlib\\__init__.py\u001b[0m in \u001b[0;36minner\u001b[1;34m(ax, *args, **kwargs)\u001b[0m\n\u001b[0;32m   1809\u001b[0m                     warnings.warn(msg % (label_namer, func.__name__),\n\u001b[0;32m   1810\u001b[0m                                   RuntimeWarning, stacklevel=2)\n\u001b[1;32m-> 1811\u001b[1;33m             \u001b[1;32mreturn\u001b[0m \u001b[0mfunc\u001b[0m\u001b[1;33m(\u001b[0m\u001b[0max\u001b[0m\u001b[1;33m,\u001b[0m \u001b[1;33m*\u001b[0m\u001b[0margs\u001b[0m\u001b[1;33m,\u001b[0m \u001b[1;33m**\u001b[0m\u001b[0mkwargs\u001b[0m\u001b[1;33m)\u001b[0m\u001b[1;33m\u001b[0m\u001b[0m\n\u001b[0m\u001b[0;32m   1812\u001b[0m         \u001b[0mpre_doc\u001b[0m \u001b[1;33m=\u001b[0m \u001b[0minner\u001b[0m\u001b[1;33m.\u001b[0m\u001b[0m__doc__\u001b[0m\u001b[1;33m\u001b[0m\u001b[0m\n\u001b[0;32m   1813\u001b[0m         \u001b[1;32mif\u001b[0m \u001b[0mpre_doc\u001b[0m \u001b[1;32mis\u001b[0m \u001b[1;32mNone\u001b[0m\u001b[1;33m:\u001b[0m\u001b[1;33m\u001b[0m\u001b[0m\n",
      "\u001b[1;32mC:\\Anaconda3\\lib\\site-packages\\matplotlib\\axes\\_axes.py\u001b[0m in \u001b[0;36mhist\u001b[1;34m(self, x, bins, range, normed, weights, cumulative, bottom, histtype, align, orientation, rwidth, log, color, label, stacked, **kwargs)\u001b[0m\n\u001b[0;32m   6008\u001b[0m             \u001b[1;31m# this will automatically overwrite bins,\u001b[0m\u001b[1;33m\u001b[0m\u001b[1;33m\u001b[0m\u001b[0m\n\u001b[0;32m   6009\u001b[0m             \u001b[1;31m# so that each histogram uses the same bins\u001b[0m\u001b[1;33m\u001b[0m\u001b[1;33m\u001b[0m\u001b[0m\n\u001b[1;32m-> 6010\u001b[1;33m             \u001b[0mm\u001b[0m\u001b[1;33m,\u001b[0m \u001b[0mbins\u001b[0m \u001b[1;33m=\u001b[0m \u001b[0mnp\u001b[0m\u001b[1;33m.\u001b[0m\u001b[0mhistogram\u001b[0m\u001b[1;33m(\u001b[0m\u001b[0mx\u001b[0m\u001b[1;33m[\u001b[0m\u001b[0mi\u001b[0m\u001b[1;33m]\u001b[0m\u001b[1;33m,\u001b[0m \u001b[0mbins\u001b[0m\u001b[1;33m,\u001b[0m \u001b[0mweights\u001b[0m\u001b[1;33m=\u001b[0m\u001b[0mw\u001b[0m\u001b[1;33m[\u001b[0m\u001b[0mi\u001b[0m\u001b[1;33m]\u001b[0m\u001b[1;33m,\u001b[0m \u001b[1;33m**\u001b[0m\u001b[0mhist_kwargs\u001b[0m\u001b[1;33m)\u001b[0m\u001b[1;33m\u001b[0m\u001b[0m\n\u001b[0m\u001b[0;32m   6011\u001b[0m             \u001b[0mm\u001b[0m \u001b[1;33m=\u001b[0m \u001b[0mm\u001b[0m\u001b[1;33m.\u001b[0m\u001b[0mastype\u001b[0m\u001b[1;33m(\u001b[0m\u001b[0mfloat\u001b[0m\u001b[1;33m)\u001b[0m  \u001b[1;31m# causes problems later if it's an int\u001b[0m\u001b[1;33m\u001b[0m\u001b[0m\n\u001b[0;32m   6012\u001b[0m             \u001b[1;32mif\u001b[0m \u001b[0mmlast\u001b[0m \u001b[1;32mis\u001b[0m \u001b[1;32mNone\u001b[0m\u001b[1;33m:\u001b[0m\u001b[1;33m\u001b[0m\u001b[0m\n",
      "\u001b[1;32mC:\\Anaconda3\\lib\\site-packages\\numpy\\lib\\function_base.py\u001b[0m in \u001b[0;36mhistogram\u001b[1;34m(a, bins, range, normed, weights, density)\u001b[0m\n\u001b[0;32m    189\u001b[0m         \u001b[1;32mif\u001b[0m \u001b[0mnp\u001b[0m\u001b[1;33m.\u001b[0m\u001b[0misscalar\u001b[0m\u001b[1;33m(\u001b[0m\u001b[0mbins\u001b[0m\u001b[1;33m)\u001b[0m \u001b[1;32mand\u001b[0m \u001b[0mbins\u001b[0m \u001b[1;33m<\u001b[0m \u001b[1;36m1\u001b[0m\u001b[1;33m:\u001b[0m\u001b[1;33m\u001b[0m\u001b[0m\n\u001b[0;32m    190\u001b[0m             raise ValueError(\n\u001b[1;32m--> 191\u001b[1;33m                 '`bins` should be a positive integer.')\n\u001b[0m\u001b[0;32m    192\u001b[0m         \u001b[1;32mif\u001b[0m \u001b[0mrange\u001b[0m \u001b[1;32mis\u001b[0m \u001b[1;32mNone\u001b[0m\u001b[1;33m:\u001b[0m\u001b[1;33m\u001b[0m\u001b[0m\n\u001b[0;32m    193\u001b[0m             \u001b[1;32mif\u001b[0m \u001b[0ma\u001b[0m\u001b[1;33m.\u001b[0m\u001b[0msize\u001b[0m \u001b[1;33m==\u001b[0m \u001b[1;36m0\u001b[0m\u001b[1;33m:\u001b[0m\u001b[1;33m\u001b[0m\u001b[0m\n",
      "\u001b[1;31mValueError\u001b[0m: `bins` should be a positive integer."
     ]
    },
    {
     "data": {
      "image/png": "[encoded data removed]",
      "text/plain": [
       "<matplotlib.figure.Figure at 0x1d40b59f898>"
      ]
     },
     "metadata": {},
     "output_type": "display_data"
    }
   ],
   "source": [
    "#This simulation doesnt work (yet), but it uses the function rewritten to t to perform the simulation\n",
    "\n",
    "first_visitors = []\n",
    "tenth_visitors = []\n",
    "\n",
    "\n",
    "for i in range(1):\n",
    "    minute = 0\n",
    "    nth_visitor=1\n",
    "    arrival_times = []\n",
    "    c = 0\n",
    "    while minute != None and minute < (60*len(pt)) and c < 200:\n",
    "        minute += random_number2(minute)\n",
    "        minute = math.ceil(minute)\n",
    "        c+=1\n",
    "        print(minute)\n",
    "        if minute:\n",
    "            nth_visitor += 1\n",
    "            arrival_times.append(minute)\n",
    "        else:\n",
    "            break\n",
    "    try:\n",
    "        first_visitors.append(arrival_times[0])\n",
    "        tenth_visitors.append(arrival_times[9])\n",
    "    except:\n",
    "        continue\n",
    "\n",
    "    \n",
    "#plot 1\n",
    "fig = plt.figure()\n",
    "bin_count = max(first_visitors) - min(first_visitors)\n",
    "\n",
    "n, bins, patches = plt.hist(first_visitors, bin_count, normed=True, facecolor='green', alpha=0.75)\n",
    "\n",
    "real_results = []\n",
    "for minute in range(min(first_visitors), max(first_visitors)):\n",
    "    result = nth_visitor_arrival(1, 0, minute)\n",
    "    real_results.append(result)\n",
    "    \n",
    "x = range(min(first_visitors), max(first_visitors))\n",
    "plt.plot(x, real_results, c='red')\n",
    "plt.title('{}th visitor'.format(1))\n",
    "plt.show()\n",
    "\n",
    "#plot 2\n",
    "fig = plt.figure()\n",
    "\n",
    "bin_count = max(tenth_visitors) - min(tenth_visitors)\n",
    "n, bins, patches = plt.hist(tenth_visitors, bin_count, normed=True, facecolor='green', alpha=0.75)\n",
    "\n",
    "real_results = []\n",
    "for minute in range(min(tenth_visitors), max(tenth_visitors)):\n",
    "    result = nth_visitor_arrival(10, 0, minute)\n",
    "    real_results.append(result)\n",
    "\n",
    "x = range(min(tenth_visitors), max(tenth_visitors))\n",
    "plt.plot(x, real_results, c='red')\n",
    "plt.title('{}th visitor'.format(10))\n",
    "plt.show()\n",
    "\n",
    "\n"
   ]
  },
  {
   "cell_type": "code",
   "execution_count": null,
   "metadata": {
    "collapsed": true
   },
   "outputs": [],
   "source": []
  }
 ],
 "metadata": {
  "kernelspec": {
   "display_name": "Python [default]",
   "language": "python",
   "name": "python3"
  },
  "language_info": {
   "codemirror_mode": {
    "name": "ipython",
    "version": 3
   },
   "file_extension": ".py",
   "mimetype": "text/x-python",
   "name": "python",
   "nbconvert_exporter": "python",
   "pygments_lexer": "ipython3",
   "version": "3.5.2"
  }
 },
 "nbformat": 4,
 "nbformat_minor": 0
}
